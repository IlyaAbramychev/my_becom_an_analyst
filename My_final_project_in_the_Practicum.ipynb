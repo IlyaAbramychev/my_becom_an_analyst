{
 "cells": [
  {
   "cell_type": "markdown",
   "metadata": {},
   "source": [
    "<div style=\"border:solid Chocolate 2px; padding: 40px\">\n",
    "\n",
    "<b>Илья, привет!</b>\n",
    "\n",
    "Меня зовут Евгений Головин, я буду ревьюером твоего проекта. Если ты не против, то предлагаю построить наше общение на \"ты\" ;) Если удобнее на \"вы\", то нет проблем, только скажи об этом. \n",
    "\n",
    "В ходе работы я оставил тебе комментарии <font color='green'>зеленого</font>, <font color='gold'>желтого</font> и <font color='red'>красного</font> цветов. Сейчас объясню, что они значат:\n",
    "\n",
    "<br/>\n",
    "\n",
    "<div class=\"alert alert-success\">\n",
    "<h2> Комментарий ревьюера <a class=\"tocSkip\"> </h2>\n",
    "\n",
    "<b>Все супер!👍:</b> Решение на этом шаге является полностью правильным.\n",
    "</div>\n",
    "\n",
    "<br/>\n",
    "\n",
    "<div class=\"alert alert-warning\">\n",
    "    <h2> Комментарий ревьюера <a class=\"tocSkip\"> </h2>\n",
    "    \n",
    "<b>Небольшие замечания и рекомендации💡:</b> Решение на этом шаге станет еще лучше, если внести небольшие коррективы.\n",
    "</div>\n",
    "\n",
    "\n",
    "<br/>\n",
    "<div class=\"alert alert-block alert-danger\">\n",
    "<h2> Комментарий ревьюера <a class=\"tocSkip\"></h2>\n",
    "\n",
    "    \n",
    "<b>На доработку🤔:</b>\n",
    " Решение на этом шаге требует существенной переработки и внесения правок. Напоминаю, что проект не может быть принят с первого раза, если ревью содержит комментарии, рекомендующие доработать шаги.\n",
    "</div>\n",
    "    \n",
    "Увидев мой комментарий, не удаляй его, он будет очень полезен в случае повторной проверки работы :)\n",
    "    \n",
    "<div class=\"alert alert-info\">\n",
    "<b>А свой помечай вот так, чтобы я его не потерял ;)</b> \n",
    "</div>\n",
    "    \n",
    "На мои комменатрии можно и нужно реагировать, только делать это стоит так, чтобы твои и мои комменты не смешались: выделяй свои цветами, сильно отличающимися от моих.\n",
    "    \n",
    "Увидев у тебя неточность, в первый раз я лишь укажу на ее наличие и дам тебе возможность самому найти и исправить ее. На реальной работе твой руководитель будет поступать также, и я пытаюсь подготовить тебя именно к работе аналитиком. Но если ты пока не справишься с такой задачей - при следующей проверке я дам более точную подсказку!"
   ]
  },
  {
   "cell_type": "markdown",
   "metadata": {},
   "source": [
    "### Описание данных\n",
    "\n",
    "- `entry_date` - дата записи;\n",
    "- `order_id` - идентификационный номер заказа;\n",
    "- `customer_id` - идентификационный номер клиента;\n",
    "- `quantity` -  количество;\n",
    "- `price` -  цена;\n",
    "- `name_clust` - автоматически присвоенная группа записи на основе названия;\n",
    "- `entry_id` - идентификационный номер записи;\n",
    "- `country_id` - идентификационный номер страны.\n",
    "\n",
    "### Текстовое описание записей\n",
    "\n",
    "- `entry_id` - идентификационный номер записи;\n",
    "- `entry` - запись."
   ]
  },
  {
   "cell_type": "markdown",
   "metadata": {},
   "source": [
    "Целью исследования являются данные онлайн-магазина подарков. Известно, что магазин периодически отправляет товары по почте. Работают как с оптовыми, так и с розничными покупателями.\n",
    "План работы:\n",
    "1. Шаг 1. Получение, осмотр и объединение данных.\n",
    "2. Шаг 2. Предобработка и начало исследовательского анализа\n",
    "3. Шаг 3. Расчёт метрик.\n",
    "4. Шаг 4. Проведение RFM-сегментацию клиентов.\n",
    "5. Шаг 5. Проверка статистических гипотез.\n",
    "6. Шаг 6. Общий вывод.\n",
    "7. Шаг 7. Дополнительное исследование(какие товары чаще всего покупают вместе)."
   ]
  },
  {
   "cell_type": "markdown",
   "metadata": {},
   "source": [
    "\n",
    "# Шаг 1. Предобработка данных. Открытие файла с данными и изучение общей информации"
   ]
  },
  {
   "cell_type": "markdown",
   "metadata": {},
   "source": [
    "<div class=\"alert alert-warning\">\n",
    "    <h2> Комментарий ревьюера v1<a class=\"tocSkip\"> </h2>\n",
    "    \n",
    "<b>Небольшие замечания и рекомендации💡:</b> Есьт описание данных, но нет плана работы и цели работы"
   ]
  },
  {
   "cell_type": "markdown",
   "metadata": {},
   "source": [
    "<div class=\"alert alert-info\">\n",
    "<b>Done ;)</b> \n",
    "</div>"
   ]
  },
  {
   "cell_type": "markdown",
   "metadata": {},
   "source": [
    "<div class=\"alert alert-success\">\n",
    "<h2> Комментарий ревьюера v2 <a class=\"tocSkip\"> </h2>\n",
    "\n",
    "<b>Все супер!👍:</b> Отлично!"
   ]
  },
  {
   "cell_type": "code",
   "execution_count": 2,
   "metadata": {},
   "outputs": [],
   "source": [
    "import pandas as pd\n",
    "import numpy as np\n",
    "import matplotlib.pyplot as plt\n",
    "import seaborn as sns\n",
    "import plotly.express as px"
   ]
  },
  {
   "cell_type": "code",
   "execution_count": 3,
   "metadata": {},
   "outputs": [
    {
     "name": "stdout",
     "output_type": "stream",
     "text": [
      "<class 'pandas.core.frame.DataFrame'>\n",
      "RangeIndex: 356940 entries, 0 to 356939\n",
      "Data columns (total 8 columns):\n",
      " #   Column       Non-Null Count   Dtype \n",
      "---  ------       --------------   ----- \n",
      " 0   entry_date   356940 non-null  object\n",
      " 1   order_id     356940 non-null  int64 \n",
      " 2   customer_id  356940 non-null  int64 \n",
      " 3   quantity     356940 non-null  int64 \n",
      " 4   price        356940 non-null  int64 \n",
      " 5   name_clust   356940 non-null  int64 \n",
      " 6   entry_id     356940 non-null  int64 \n",
      " 7   country_id   356940 non-null  int64 \n",
      "dtypes: int64(7), object(1)\n",
      "memory usage: 21.8+ MB\n"
     ]
    },
    {
     "data": {
      "text/html": [
       "<div>\n",
       "<style scoped>\n",
       "    .dataframe tbody tr th:only-of-type {\n",
       "        vertical-align: middle;\n",
       "    }\n",
       "\n",
       "    .dataframe tbody tr th {\n",
       "        vertical-align: top;\n",
       "    }\n",
       "\n",
       "    .dataframe thead th {\n",
       "        text-align: right;\n",
       "    }\n",
       "</style>\n",
       "<table border=\"1\" class=\"dataframe\">\n",
       "  <thead>\n",
       "    <tr style=\"text-align: right;\">\n",
       "      <th></th>\n",
       "      <th>order_id</th>\n",
       "      <th>customer_id</th>\n",
       "      <th>quantity</th>\n",
       "      <th>price</th>\n",
       "      <th>name_clust</th>\n",
       "      <th>entry_id</th>\n",
       "      <th>country_id</th>\n",
       "    </tr>\n",
       "  </thead>\n",
       "  <tbody>\n",
       "    <tr>\n",
       "      <th>count</th>\n",
       "      <td>356940.000000</td>\n",
       "      <td>356940.000000</td>\n",
       "      <td>356940.000000</td>\n",
       "      <td>3.569400e+05</td>\n",
       "      <td>356940.000000</td>\n",
       "      <td>356940.000000</td>\n",
       "      <td>356940.000000</td>\n",
       "    </tr>\n",
       "    <tr>\n",
       "      <th>mean</th>\n",
       "      <td>26687.651726</td>\n",
       "      <td>3486.883389</td>\n",
       "      <td>10.149599</td>\n",
       "      <td>3.999940e+02</td>\n",
       "      <td>468.617395</td>\n",
       "      <td>1518.046442</td>\n",
       "      <td>26.751818</td>\n",
       "    </tr>\n",
       "    <tr>\n",
       "      <th>std</th>\n",
       "      <td>13381.350493</td>\n",
       "      <td>2542.878257</td>\n",
       "      <td>146.794372</td>\n",
       "      <td>5.059181e+03</td>\n",
       "      <td>259.146901</td>\n",
       "      <td>833.753264</td>\n",
       "      <td>4.978016</td>\n",
       "    </tr>\n",
       "    <tr>\n",
       "      <th>min</th>\n",
       "      <td>3031.000000</td>\n",
       "      <td>-1.000000</td>\n",
       "      <td>-9600.000000</td>\n",
       "      <td>-1.106206e+06</td>\n",
       "      <td>0.000000</td>\n",
       "      <td>0.000000</td>\n",
       "      <td>0.000000</td>\n",
       "    </tr>\n",
       "    <tr>\n",
       "      <th>25%</th>\n",
       "      <td>14834.000000</td>\n",
       "      <td>-1.000000</td>\n",
       "      <td>1.000000</td>\n",
       "      <td>1.250000e+02</td>\n",
       "      <td>242.000000</td>\n",
       "      <td>875.000000</td>\n",
       "      <td>28.000000</td>\n",
       "    </tr>\n",
       "    <tr>\n",
       "      <th>50%</th>\n",
       "      <td>27378.000000</td>\n",
       "      <td>3633.000000</td>\n",
       "      <td>3.000000</td>\n",
       "      <td>2.080000e+02</td>\n",
       "      <td>448.000000</td>\n",
       "      <td>1559.000000</td>\n",
       "      <td>28.000000</td>\n",
       "    </tr>\n",
       "    <tr>\n",
       "      <th>75%</th>\n",
       "      <td>38512.000000</td>\n",
       "      <td>5627.500000</td>\n",
       "      <td>10.000000</td>\n",
       "      <td>4.130000e+02</td>\n",
       "      <td>702.000000</td>\n",
       "      <td>2223.000000</td>\n",
       "      <td>28.000000</td>\n",
       "    </tr>\n",
       "    <tr>\n",
       "      <th>max</th>\n",
       "      <td>48253.000000</td>\n",
       "      <td>7653.000000</td>\n",
       "      <td>80995.000000</td>\n",
       "      <td>1.354133e+06</td>\n",
       "      <td>929.000000</td>\n",
       "      <td>2916.000000</td>\n",
       "      <td>29.000000</td>\n",
       "    </tr>\n",
       "  </tbody>\n",
       "</table>\n",
       "</div>"
      ],
      "text/plain": [
       "            order_id    customer_id       quantity         price  \\\n",
       "count  356940.000000  356940.000000  356940.000000  3.569400e+05   \n",
       "mean    26687.651726    3486.883389      10.149599  3.999940e+02   \n",
       "std     13381.350493    2542.878257     146.794372  5.059181e+03   \n",
       "min      3031.000000      -1.000000   -9600.000000 -1.106206e+06   \n",
       "25%     14834.000000      -1.000000       1.000000  1.250000e+02   \n",
       "50%     27378.000000    3633.000000       3.000000  2.080000e+02   \n",
       "75%     38512.000000    5627.500000      10.000000  4.130000e+02   \n",
       "max     48253.000000    7653.000000   80995.000000  1.354133e+06   \n",
       "\n",
       "          name_clust       entry_id     country_id  \n",
       "count  356940.000000  356940.000000  356940.000000  \n",
       "mean      468.617395    1518.046442      26.751818  \n",
       "std       259.146901     833.753264       4.978016  \n",
       "min         0.000000       0.000000       0.000000  \n",
       "25%       242.000000     875.000000      28.000000  \n",
       "50%       448.000000    1559.000000      28.000000  \n",
       "75%       702.000000    2223.000000      28.000000  \n",
       "max       929.000000    2916.000000      29.000000  "
      ]
     },
     "execution_count": 3,
     "metadata": {},
     "output_type": "execute_result"
    }
   ],
   "source": [
    "df_gift = pd.read_csv('/datasets/gift.csv')\n",
    "# Общая информация о датафрейме df_gift\n",
    "df_gift.info()\n",
    "df_gift.head()\n",
    "df_gift.describe()"
   ]
  },
  {
   "cell_type": "code",
   "execution_count": 4,
   "metadata": {},
   "outputs": [
    {
     "name": "stdout",
     "output_type": "stream",
     "text": [
      "<class 'pandas.core.frame.DataFrame'>\n",
      "RangeIndex: 2917 entries, 0 to 2916\n",
      "Data columns (total 2 columns):\n",
      " #   Column    Non-Null Count  Dtype \n",
      "---  ------    --------------  ----- \n",
      " 0   entry_id  2917 non-null   int64 \n",
      " 1   entry     2916 non-null   object\n",
      "dtypes: int64(1), object(1)\n",
      "memory usage: 45.7+ KB\n"
     ]
    },
    {
     "data": {
      "text/html": [
       "<div>\n",
       "<style scoped>\n",
       "    .dataframe tbody tr th:only-of-type {\n",
       "        vertical-align: middle;\n",
       "    }\n",
       "\n",
       "    .dataframe tbody tr th {\n",
       "        vertical-align: top;\n",
       "    }\n",
       "\n",
       "    .dataframe thead th {\n",
       "        text-align: right;\n",
       "    }\n",
       "</style>\n",
       "<table border=\"1\" class=\"dataframe\">\n",
       "  <thead>\n",
       "    <tr style=\"text-align: right;\">\n",
       "      <th></th>\n",
       "      <th>entry_id</th>\n",
       "    </tr>\n",
       "  </thead>\n",
       "  <tbody>\n",
       "    <tr>\n",
       "      <th>count</th>\n",
       "      <td>2917.000000</td>\n",
       "    </tr>\n",
       "    <tr>\n",
       "      <th>mean</th>\n",
       "      <td>1458.000000</td>\n",
       "    </tr>\n",
       "    <tr>\n",
       "      <th>std</th>\n",
       "      <td>842.209693</td>\n",
       "    </tr>\n",
       "    <tr>\n",
       "      <th>min</th>\n",
       "      <td>0.000000</td>\n",
       "    </tr>\n",
       "    <tr>\n",
       "      <th>25%</th>\n",
       "      <td>729.000000</td>\n",
       "    </tr>\n",
       "    <tr>\n",
       "      <th>50%</th>\n",
       "      <td>1458.000000</td>\n",
       "    </tr>\n",
       "    <tr>\n",
       "      <th>75%</th>\n",
       "      <td>2187.000000</td>\n",
       "    </tr>\n",
       "    <tr>\n",
       "      <th>max</th>\n",
       "      <td>2916.000000</td>\n",
       "    </tr>\n",
       "  </tbody>\n",
       "</table>\n",
       "</div>"
      ],
      "text/plain": [
       "          entry_id\n",
       "count  2917.000000\n",
       "mean   1458.000000\n",
       "std     842.209693\n",
       "min       0.000000\n",
       "25%     729.000000\n",
       "50%    1458.000000\n",
       "75%    2187.000000\n",
       "max    2916.000000"
      ]
     },
     "execution_count": 4,
     "metadata": {},
     "output_type": "execute_result"
    }
   ],
   "source": [
    "df_entry = pd.read_csv('https://code.s3.yandex.net/python-for-analytics/gift_entry.csv', sep=';')\n",
    "# Общая информация о датафрейме df_entry\n",
    "df_entry.info()\n",
    "df_entry.head()\n",
    "df_entry.describe()"
   ]
  },
  {
   "cell_type": "markdown",
   "metadata": {},
   "source": [
    "<div class=\"alert alert-block alert-danger\">\n",
    "<h2> Комментарий ревьюера v1<a class=\"tocSkip\"></h2>\n",
    "\n",
    "<b>На доработку🤔:</b>  С дублями в df_entry нужно поработать чуть подробнее. В столбце entry значения разного регистра - это важно. Приведи к нижнему регистру эти значения, но не пересохраняй. Подумай о том, как поступить с этими дублями"
   ]
  },
  {
   "cell_type": "markdown",
   "metadata": {},
   "source": [
    "В результате обработки данных столбец entry был очищен от дубликатов, вызванных разным регистром букв, и от одной записи с пропущенным значением.\n",
    "Это позволило повысить качество данных и их точность, обеспечив более надежную основу для последующего анализа.\n",
    "<div class=\"alert alert-info\">\n",
    "<b>В результате обработки данных столбец entry был очищен от дубликатов, вызванных разным регистром букв, и от одной записи с пропущенным значением.\n",
    "Это позволило повысить качество данных и их точность, обеспечив более надежную основу для последующего анализа.</b>\n",
    "<br>\n",
    "</div>"
   ]
  },
  {
   "cell_type": "markdown",
   "metadata": {},
   "source": [
    "<div class=\"alert alert-success\">\n",
    "<h2> Комментарий ревьюера v2 <a class=\"tocSkip\"> </h2>\n",
    "\n",
    "<b>Все супер!👍:</b> Отлично!"
   ]
  },
  {
   "cell_type": "code",
   "execution_count": 5,
   "metadata": {},
   "outputs": [
    {
     "data": {
      "text/plain": [
       "entry_date     3573\n",
       "order_id       3573\n",
       "customer_id    3573\n",
       "quantity       3573\n",
       "price          3573\n",
       "name_clust     3573\n",
       "entry_id       3573\n",
       "country_id     3573\n",
       "dtype: int64"
      ]
     },
     "execution_count": 5,
     "metadata": {},
     "output_type": "execute_result"
    }
   ],
   "source": [
    "# Проверка на наличие дубликатов\n",
    "duplicateRows = df_gift[df_gift.duplicated()]\n",
    "duplicateRows.count()"
   ]
  },
  {
   "cell_type": "markdown",
   "metadata": {},
   "source": [
    "<div class=\"alert alert-info\">\n",
    "<b>Из загруженного файла видно, что отсутствуют пропуски в данных. Однако имеется 3573 дубликата. Столбец entry_date имеет тип данных object. Приведем его к формату datetime и начем избавляться от дубликатов</b>\n",
    "<br>\n",
    "</div>"
   ]
  },
  {
   "cell_type": "code",
   "execution_count": 6,
   "metadata": {},
   "outputs": [],
   "source": [
    "# Приведение столбца entry_date к формату datetime\n",
    "df_gift['entry_date'] = pd.to_datetime(df_gift['entry_date'], format='%d/%m/%Y %H:%M', errors='coerce')"
   ]
  },
  {
   "cell_type": "markdown",
   "metadata": {},
   "source": [
    "<div class=\"alert alert-warning\">\n",
    "    <h2> Комментарий ревьюера v1<a class=\"tocSkip\"> </h2>\n",
    "    \n",
    "<b>Небольшие замечания и рекомендации💡:</b> Дату лучше приводиь жестко, тогда код будет работать в любой версии python"
   ]
  },
  {
   "cell_type": "markdown",
   "metadata": {},
   "source": [
    "<div class=\"alert alert-info\">\n",
    "<b>Done</b>\n",
    "<br>\n",
    "</div>"
   ]
  },
  {
   "cell_type": "markdown",
   "metadata": {},
   "source": [
    "<div class=\"alert alert-warning\">\n",
    "    <h2> Комментарий ревьюера v2 <a class=\"tocSkip\"> </h2>\n",
    "    \n",
    "<b>Небольшие замечания и рекомендации💡:</b> Имел ввиду параметр format"
   ]
  },
  {
   "cell_type": "code",
   "execution_count": 7,
   "metadata": {},
   "outputs": [],
   "source": [
    "df_gift_copy = df_gift.copy()"
   ]
  },
  {
   "cell_type": "code",
   "execution_count": 8,
   "metadata": {},
   "outputs": [],
   "source": [
    "df_gift = df_gift.drop_duplicates()"
   ]
  },
  {
   "cell_type": "markdown",
   "metadata": {},
   "source": [
    "<div class=\"alert alert-success\">\n",
    "<h2> Комментарий ревьюера v1 <a class=\"tocSkip\"> </h2>\n",
    "\n",
    "<b>Все супер!👍:</b> Верное решение по дублям!"
   ]
  },
  {
   "cell_type": "code",
   "execution_count": 9,
   "metadata": {},
   "outputs": [
    {
     "name": "stdout",
     "output_type": "stream",
     "text": [
      "<class 'pandas.core.frame.DataFrame'>\n",
      "Int64Index: 353367 entries, 0 to 356939\n",
      "Data columns (total 8 columns):\n",
      " #   Column       Non-Null Count   Dtype         \n",
      "---  ------       --------------   -----         \n",
      " 0   entry_date   353367 non-null  datetime64[ns]\n",
      " 1   order_id     353367 non-null  int64         \n",
      " 2   customer_id  353367 non-null  int64         \n",
      " 3   quantity     353367 non-null  int64         \n",
      " 4   price        353367 non-null  int64         \n",
      " 5   name_clust   353367 non-null  int64         \n",
      " 6   entry_id     353367 non-null  int64         \n",
      " 7   country_id   353367 non-null  int64         \n",
      "dtypes: datetime64[ns](1), int64(7)\n",
      "memory usage: 24.3 MB\n"
     ]
    }
   ],
   "source": [
    "df_gift.info()"
   ]
  },
  {
   "cell_type": "code",
   "execution_count": 10,
   "metadata": {},
   "outputs": [
    {
     "data": {
      "text/html": [
       "<div>\n",
       "<style scoped>\n",
       "    .dataframe tbody tr th:only-of-type {\n",
       "        vertical-align: middle;\n",
       "    }\n",
       "\n",
       "    .dataframe tbody tr th {\n",
       "        vertical-align: top;\n",
       "    }\n",
       "\n",
       "    .dataframe thead th {\n",
       "        text-align: right;\n",
       "    }\n",
       "</style>\n",
       "<table border=\"1\" class=\"dataframe\">\n",
       "  <thead>\n",
       "    <tr style=\"text-align: right;\">\n",
       "      <th></th>\n",
       "      <th>order_id</th>\n",
       "      <th>customer_id</th>\n",
       "      <th>quantity</th>\n",
       "      <th>price</th>\n",
       "      <th>name_clust</th>\n",
       "      <th>entry_id</th>\n",
       "      <th>country_id</th>\n",
       "    </tr>\n",
       "  </thead>\n",
       "  <tbody>\n",
       "    <tr>\n",
       "      <th>count</th>\n",
       "      <td>353367.000000</td>\n",
       "      <td>353367.000000</td>\n",
       "      <td>353367.000000</td>\n",
       "      <td>3.533670e+05</td>\n",
       "      <td>353367.000000</td>\n",
       "      <td>353367.000000</td>\n",
       "      <td>353367.000000</td>\n",
       "    </tr>\n",
       "    <tr>\n",
       "      <th>mean</th>\n",
       "      <td>26663.279831</td>\n",
       "      <td>3479.992538</td>\n",
       "      <td>10.218348</td>\n",
       "      <td>4.016779e+02</td>\n",
       "      <td>468.644602</td>\n",
       "      <td>1517.811349</td>\n",
       "      <td>26.741045</td>\n",
       "    </tr>\n",
       "    <tr>\n",
       "      <th>std</th>\n",
       "      <td>13368.784949</td>\n",
       "      <td>2549.306356</td>\n",
       "      <td>147.510432</td>\n",
       "      <td>5.084618e+03</td>\n",
       "      <td>259.160574</td>\n",
       "      <td>833.700318</td>\n",
       "      <td>4.998306</td>\n",
       "    </tr>\n",
       "    <tr>\n",
       "      <th>min</th>\n",
       "      <td>3031.000000</td>\n",
       "      <td>-1.000000</td>\n",
       "      <td>-9600.000000</td>\n",
       "      <td>-1.106206e+06</td>\n",
       "      <td>0.000000</td>\n",
       "      <td>0.000000</td>\n",
       "      <td>0.000000</td>\n",
       "    </tr>\n",
       "    <tr>\n",
       "      <th>25%</th>\n",
       "      <td>14832.000000</td>\n",
       "      <td>-1.000000</td>\n",
       "      <td>1.000000</td>\n",
       "      <td>1.250000e+02</td>\n",
       "      <td>242.000000</td>\n",
       "      <td>875.000000</td>\n",
       "      <td>28.000000</td>\n",
       "    </tr>\n",
       "    <tr>\n",
       "      <th>50%</th>\n",
       "      <td>27316.000000</td>\n",
       "      <td>3630.000000</td>\n",
       "      <td>3.000000</td>\n",
       "      <td>2.080000e+02</td>\n",
       "      <td>448.000000</td>\n",
       "      <td>1558.000000</td>\n",
       "      <td>28.000000</td>\n",
       "    </tr>\n",
       "    <tr>\n",
       "      <th>75%</th>\n",
       "      <td>38445.000000</td>\n",
       "      <td>5633.000000</td>\n",
       "      <td>10.000000</td>\n",
       "      <td>4.130000e+02</td>\n",
       "      <td>702.000000</td>\n",
       "      <td>2223.000000</td>\n",
       "      <td>28.000000</td>\n",
       "    </tr>\n",
       "    <tr>\n",
       "      <th>max</th>\n",
       "      <td>48253.000000</td>\n",
       "      <td>7653.000000</td>\n",
       "      <td>80995.000000</td>\n",
       "      <td>1.354133e+06</td>\n",
       "      <td>929.000000</td>\n",
       "      <td>2916.000000</td>\n",
       "      <td>29.000000</td>\n",
       "    </tr>\n",
       "  </tbody>\n",
       "</table>\n",
       "</div>"
      ],
      "text/plain": [
       "            order_id    customer_id       quantity         price  \\\n",
       "count  353367.000000  353367.000000  353367.000000  3.533670e+05   \n",
       "mean    26663.279831    3479.992538      10.218348  4.016779e+02   \n",
       "std     13368.784949    2549.306356     147.510432  5.084618e+03   \n",
       "min      3031.000000      -1.000000   -9600.000000 -1.106206e+06   \n",
       "25%     14832.000000      -1.000000       1.000000  1.250000e+02   \n",
       "50%     27316.000000    3630.000000       3.000000  2.080000e+02   \n",
       "75%     38445.000000    5633.000000      10.000000  4.130000e+02   \n",
       "max     48253.000000    7653.000000   80995.000000  1.354133e+06   \n",
       "\n",
       "          name_clust       entry_id     country_id  \n",
       "count  353367.000000  353367.000000  353367.000000  \n",
       "mean      468.644602    1517.811349      26.741045  \n",
       "std       259.160574     833.700318       4.998306  \n",
       "min         0.000000       0.000000       0.000000  \n",
       "25%       242.000000     875.000000      28.000000  \n",
       "50%       448.000000    1558.000000      28.000000  \n",
       "75%       702.000000    2223.000000      28.000000  \n",
       "max       929.000000    2916.000000      29.000000  "
      ]
     },
     "execution_count": 10,
     "metadata": {},
     "output_type": "execute_result"
    }
   ],
   "source": [
    "df_gift.describe()"
   ]
  },
  {
   "cell_type": "code",
   "execution_count": 11,
   "metadata": {},
   "outputs": [
    {
     "data": {
      "text/html": [
       "<div>\n",
       "<style scoped>\n",
       "    .dataframe tbody tr th:only-of-type {\n",
       "        vertical-align: middle;\n",
       "    }\n",
       "\n",
       "    .dataframe tbody tr th {\n",
       "        vertical-align: top;\n",
       "    }\n",
       "\n",
       "    .dataframe thead th {\n",
       "        text-align: right;\n",
       "    }\n",
       "</style>\n",
       "<table border=\"1\" class=\"dataframe\">\n",
       "  <thead>\n",
       "    <tr style=\"text-align: right;\">\n",
       "      <th></th>\n",
       "      <th>entry_date</th>\n",
       "      <th>order_id</th>\n",
       "      <th>customer_id</th>\n",
       "      <th>quantity</th>\n",
       "      <th>price</th>\n",
       "      <th>name_clust</th>\n",
       "      <th>entry_id</th>\n",
       "      <th>country_id</th>\n",
       "    </tr>\n",
       "  </thead>\n",
       "  <tbody>\n",
       "    <tr>\n",
       "      <th>395</th>\n",
       "      <td>2018-01-12 11:52:00</td>\n",
       "      <td>3080</td>\n",
       "      <td>-1</td>\n",
       "      <td>56</td>\n",
       "      <td>0</td>\n",
       "      <td>0</td>\n",
       "      <td>0</td>\n",
       "      <td>28</td>\n",
       "    </tr>\n",
       "    <tr>\n",
       "      <th>912</th>\n",
       "      <td>2018-01-12 14:32:00</td>\n",
       "      <td>3210</td>\n",
       "      <td>-1</td>\n",
       "      <td>2</td>\n",
       "      <td>251</td>\n",
       "      <td>111</td>\n",
       "      <td>1198</td>\n",
       "      <td>28</td>\n",
       "    </tr>\n",
       "    <tr>\n",
       "      <th>913</th>\n",
       "      <td>2018-01-12 14:32:00</td>\n",
       "      <td>3210</td>\n",
       "      <td>-1</td>\n",
       "      <td>4</td>\n",
       "      <td>85</td>\n",
       "      <td>193</td>\n",
       "      <td>2882</td>\n",
       "      <td>28</td>\n",
       "    </tr>\n",
       "    <tr>\n",
       "      <th>914</th>\n",
       "      <td>2018-01-12 14:32:00</td>\n",
       "      <td>3210</td>\n",
       "      <td>-1</td>\n",
       "      <td>2</td>\n",
       "      <td>166</td>\n",
       "      <td>227</td>\n",
       "      <td>1260</td>\n",
       "      <td>28</td>\n",
       "    </tr>\n",
       "    <tr>\n",
       "      <th>915</th>\n",
       "      <td>2018-01-12 14:32:00</td>\n",
       "      <td>3210</td>\n",
       "      <td>-1</td>\n",
       "      <td>9</td>\n",
       "      <td>166</td>\n",
       "      <td>581</td>\n",
       "      <td>2551</td>\n",
       "      <td>28</td>\n",
       "    </tr>\n",
       "    <tr>\n",
       "      <th>...</th>\n",
       "      <td>...</td>\n",
       "      <td>...</td>\n",
       "      <td>...</td>\n",
       "      <td>...</td>\n",
       "      <td>...</td>\n",
       "      <td>...</td>\n",
       "      <td>...</td>\n",
       "      <td>...</td>\n",
       "    </tr>\n",
       "    <tr>\n",
       "      <th>356660</th>\n",
       "      <td>2019-09-12 10:26:00</td>\n",
       "      <td>48164</td>\n",
       "      <td>-1</td>\n",
       "      <td>1</td>\n",
       "      <td>413</td>\n",
       "      <td>439</td>\n",
       "      <td>44</td>\n",
       "      <td>28</td>\n",
       "    </tr>\n",
       "    <tr>\n",
       "      <th>356661</th>\n",
       "      <td>2019-09-12 10:26:00</td>\n",
       "      <td>48164</td>\n",
       "      <td>-1</td>\n",
       "      <td>5</td>\n",
       "      <td>329</td>\n",
       "      <td>388</td>\n",
       "      <td>2649</td>\n",
       "      <td>28</td>\n",
       "    </tr>\n",
       "    <tr>\n",
       "      <th>356662</th>\n",
       "      <td>2019-09-12 10:26:00</td>\n",
       "      <td>48164</td>\n",
       "      <td>-1</td>\n",
       "      <td>5</td>\n",
       "      <td>413</td>\n",
       "      <td>427</td>\n",
       "      <td>957</td>\n",
       "      <td>28</td>\n",
       "    </tr>\n",
       "    <tr>\n",
       "      <th>356663</th>\n",
       "      <td>2019-09-12 10:26:00</td>\n",
       "      <td>48164</td>\n",
       "      <td>-1</td>\n",
       "      <td>1</td>\n",
       "      <td>1079</td>\n",
       "      <td>103</td>\n",
       "      <td>366</td>\n",
       "      <td>28</td>\n",
       "    </tr>\n",
       "    <tr>\n",
       "      <th>356664</th>\n",
       "      <td>2019-09-12 10:26:00</td>\n",
       "      <td>48164</td>\n",
       "      <td>-1</td>\n",
       "      <td>1</td>\n",
       "      <td>171417</td>\n",
       "      <td>0</td>\n",
       "      <td>180</td>\n",
       "      <td>28</td>\n",
       "    </tr>\n",
       "  </tbody>\n",
       "</table>\n",
       "<p>92307 rows × 8 columns</p>\n",
       "</div>"
      ],
      "text/plain": [
       "                entry_date  order_id  customer_id  quantity   price  \\\n",
       "395    2018-01-12 11:52:00      3080           -1        56       0   \n",
       "912    2018-01-12 14:32:00      3210           -1         2     251   \n",
       "913    2018-01-12 14:32:00      3210           -1         4      85   \n",
       "914    2018-01-12 14:32:00      3210           -1         2     166   \n",
       "915    2018-01-12 14:32:00      3210           -1         9     166   \n",
       "...                    ...       ...          ...       ...     ...   \n",
       "356660 2019-09-12 10:26:00     48164           -1         1     413   \n",
       "356661 2019-09-12 10:26:00     48164           -1         5     329   \n",
       "356662 2019-09-12 10:26:00     48164           -1         5     413   \n",
       "356663 2019-09-12 10:26:00     48164           -1         1    1079   \n",
       "356664 2019-09-12 10:26:00     48164           -1         1  171417   \n",
       "\n",
       "        name_clust  entry_id  country_id  \n",
       "395              0         0          28  \n",
       "912            111      1198          28  \n",
       "913            193      2882          28  \n",
       "914            227      1260          28  \n",
       "915            581      2551          28  \n",
       "...            ...       ...         ...  \n",
       "356660         439        44          28  \n",
       "356661         388      2649          28  \n",
       "356662         427       957          28  \n",
       "356663         103       366          28  \n",
       "356664           0       180          28  \n",
       "\n",
       "[92307 rows x 8 columns]"
      ]
     },
     "execution_count": 11,
     "metadata": {},
     "output_type": "execute_result"
    }
   ],
   "source": [
    "invalid_customer_id = df_gift.query('customer_id <= 0')\n",
    "invalid_customer_id"
   ]
  },
  {
   "cell_type": "code",
   "execution_count": 12,
   "metadata": {},
   "outputs": [
    {
     "name": "stdout",
     "output_type": "stream",
     "text": [
      "Missing entry_id in df_entry: 0\n"
     ]
    }
   ],
   "source": [
    "# Проверка наличия всех идентификационных номеров в df_gift в df_entry\n",
    "missing_entries = df_gift[~df_gift['entry_id'].isin(df_entry['entry_id'])]\n",
    "print(f'Missing entry_id in df_entry: {missing_entries.shape[0]}')"
   ]
  },
  {
   "cell_type": "markdown",
   "metadata": {},
   "source": [
    "<div class=\"alert alert-info\">\n",
    "<b>В ходе предобработки данных было удалено 3573 дубликата и преобразован столбец 'entry_date' к типу datetime. Приведены к нижнему регистру значения в столбце 'entry'. Найдено 92307 записей с некорректными идентификационными номерами клиентов ('customer_id' <= 0).</b>\n",
    "<br>\n",
    "</div>"
   ]
  },
  {
   "cell_type": "markdown",
   "metadata": {},
   "source": [
    "<div class=\"alert alert-success\">\n",
    "<h2> Комментарий ревьюера v1 <a class=\"tocSkip\"> </h2>\n",
    "\n",
    "<b>Все супер!👍:</b> Хорошая работа!"
   ]
  },
  {
   "cell_type": "markdown",
   "metadata": {},
   "source": [
    "<div class=\"alert alert-block alert-danger\">\n",
    "<h2> Комментарий ревьюера v1<a class=\"tocSkip\"></h2>\n",
    "\n",
    "<b>На доработку🤔:</b>  Обрати внимание на значение столбца entry, написанные капсом"
   ]
  },
  {
   "cell_type": "markdown",
   "metadata": {},
   "source": [
    "<div class=\"alert alert-block alert-danger\">\n",
    "<h2> Комментарий ревьюера v2 <a class=\"tocSkip\"></h2>\n",
    "   \n",
    "<b>На доработку🤔:</b> Все еще не вижу работы со столбцом entry"
   ]
  },
  {
   "cell_type": "markdown",
   "metadata": {},
   "source": [
    "<div class=\"alert alert-info\">\n",
    "<b>Обработал в самом начале. Перенесу сюда</b>\n",
    "<br>\n",
    "</div>"
   ]
  },
  {
   "cell_type": "markdown",
   "metadata": {},
   "source": [
    "<div class=\"alert alert-success\">\n",
    "<h2> Комментарий ревьюера v3 <a class=\"tocSkip\"> </h2>\n",
    "\n",
    "<b>Все супер!👍:</b> Молодец!"
   ]
  },
  {
   "cell_type": "code",
   "execution_count": 16,
   "metadata": {},
   "outputs": [],
   "source": [
    "df_entry['entry_lower'] = df_entry['entry'].str.lower()"
   ]
  },
  {
   "cell_type": "code",
   "execution_count": 17,
   "metadata": {},
   "outputs": [
    {
     "data": {
      "text/html": [
       "<div>\n",
       "<style scoped>\n",
       "    .dataframe tbody tr th:only-of-type {\n",
       "        vertical-align: middle;\n",
       "    }\n",
       "\n",
       "    .dataframe tbody tr th {\n",
       "        vertical-align: top;\n",
       "    }\n",
       "\n",
       "    .dataframe thead th {\n",
       "        text-align: right;\n",
       "    }\n",
       "</style>\n",
       "<table border=\"1\" class=\"dataframe\">\n",
       "  <thead>\n",
       "    <tr style=\"text-align: right;\">\n",
       "      <th></th>\n",
       "      <th>entry_id</th>\n",
       "      <th>entry</th>\n",
       "      <th>entry_lower</th>\n",
       "    </tr>\n",
       "  </thead>\n",
       "  <tbody>\n",
       "    <tr>\n",
       "      <th>757</th>\n",
       "      <td>757</td>\n",
       "      <td>ФОРМА для выпечки шоколадных кексов</td>\n",
       "      <td>форма для выпечки шоколадных кексов</td>\n",
       "    </tr>\n",
       "    <tr>\n",
       "      <th>764</th>\n",
       "      <td>764</td>\n",
       "      <td>Форма для выпечки шоколадных кексов</td>\n",
       "      <td>форма для выпечки шоколадных кексов</td>\n",
       "    </tr>\n",
       "    <tr>\n",
       "      <th>819</th>\n",
       "      <td>819</td>\n",
       "      <td>Шкатулка для безделушек Марии-Антуанетты, золотая</td>\n",
       "      <td>шкатулка для безделушек марии-антуанетты, золотая</td>\n",
       "    </tr>\n",
       "    <tr>\n",
       "      <th>2778</th>\n",
       "      <td>2778</td>\n",
       "      <td>форма для выпечки шоколадных кексов</td>\n",
       "      <td>форма для выпечки шоколадных кексов</td>\n",
       "    </tr>\n",
       "    <tr>\n",
       "      <th>2869</th>\n",
       "      <td>2869</td>\n",
       "      <td>шкатулка для безделушек Марии-Антуанетты, золотая</td>\n",
       "      <td>шкатулка для безделушек марии-антуанетты, золотая</td>\n",
       "    </tr>\n",
       "  </tbody>\n",
       "</table>\n",
       "</div>"
      ],
      "text/plain": [
       "      entry_id                                              entry  \\\n",
       "757        757                ФОРМА для выпечки шоколадных кексов   \n",
       "764        764                Форма для выпечки шоколадных кексов   \n",
       "819        819  Шкатулка для безделушек Марии-Антуанетты, золотая   \n",
       "2778      2778                форма для выпечки шоколадных кексов   \n",
       "2869      2869  шкатулка для безделушек Марии-Антуанетты, золотая   \n",
       "\n",
       "                                            entry_lower  \n",
       "757                 форма для выпечки шоколадных кексов  \n",
       "764                 форма для выпечки шоколадных кексов  \n",
       "819   шкатулка для безделушек марии-антуанетты, золотая  \n",
       "2778                форма для выпечки шоколадных кексов  \n",
       "2869  шкатулка для безделушек марии-антуанетты, золотая  "
      ]
     },
     "execution_count": 17,
     "metadata": {},
     "output_type": "execute_result"
    }
   ],
   "source": [
    "duplicate_rows_entry = df_entry[df_entry.duplicated(subset=['entry_lower'], keep=False)]\n",
    "duplicate_rows_entry.shape[0]\n",
    "duplicate_rows_entry.head(20)"
   ]
  },
  {
   "cell_type": "code",
   "execution_count": 18,
   "metadata": {},
   "outputs": [],
   "source": [
    "df_entry_unique = df_entry.drop_duplicates(subset=['entry_lower']).drop(columns=['entry_lower'])"
   ]
  },
  {
   "cell_type": "code",
   "execution_count": 19,
   "metadata": {},
   "outputs": [
    {
     "data": {
      "text/plain": [
       "entry_id    0\n",
       "entry       1\n",
       "dtype: int64"
      ]
     },
     "execution_count": 19,
     "metadata": {},
     "output_type": "execute_result"
    }
   ],
   "source": [
    "df_entry_unique.isna().sum()"
   ]
  },
  {
   "cell_type": "code",
   "execution_count": 20,
   "metadata": {},
   "outputs": [],
   "source": [
    "df_entry_unique = df_entry_unique.dropna()"
   ]
  },
  {
   "cell_type": "code",
   "execution_count": 21,
   "metadata": {},
   "outputs": [
    {
     "name": "stdout",
     "output_type": "stream",
     "text": [
      "<class 'pandas.core.frame.DataFrame'>\n",
      "Int64Index: 353367 entries, 0 to 353366\n",
      "Data columns (total 9 columns):\n",
      " #   Column       Non-Null Count   Dtype         \n",
      "---  ------       --------------   -----         \n",
      " 0   entry_date   353367 non-null  datetime64[ns]\n",
      " 1   order_id     353367 non-null  int64         \n",
      " 2   customer_id  353367 non-null  int64         \n",
      " 3   quantity     353367 non-null  int64         \n",
      " 4   price        353367 non-null  int64         \n",
      " 5   name_clust   353367 non-null  int64         \n",
      " 6   entry_id     353367 non-null  int64         \n",
      " 7   country_id   353367 non-null  int64         \n",
      " 8   entry_lower  351858 non-null  object        \n",
      "dtypes: datetime64[ns](1), int64(7), object(1)\n",
      "memory usage: 27.0+ MB\n"
     ]
    },
    {
     "data": {
      "text/html": [
       "<div>\n",
       "<style scoped>\n",
       "    .dataframe tbody tr th:only-of-type {\n",
       "        vertical-align: middle;\n",
       "    }\n",
       "\n",
       "    .dataframe tbody tr th {\n",
       "        vertical-align: top;\n",
       "    }\n",
       "\n",
       "    .dataframe thead th {\n",
       "        text-align: right;\n",
       "    }\n",
       "</style>\n",
       "<table border=\"1\" class=\"dataframe\">\n",
       "  <thead>\n",
       "    <tr style=\"text-align: right;\">\n",
       "      <th></th>\n",
       "      <th>entry_date</th>\n",
       "      <th>order_id</th>\n",
       "      <th>customer_id</th>\n",
       "      <th>quantity</th>\n",
       "      <th>price</th>\n",
       "      <th>name_clust</th>\n",
       "      <th>entry_id</th>\n",
       "      <th>country_id</th>\n",
       "      <th>entry_lower</th>\n",
       "    </tr>\n",
       "  </thead>\n",
       "  <tbody>\n",
       "    <tr>\n",
       "      <th>0</th>\n",
       "      <td>2018-01-12 08:26:00</td>\n",
       "      <td>3031</td>\n",
       "      <td>2150</td>\n",
       "      <td>6</td>\n",
       "      <td>339</td>\n",
       "      <td>740</td>\n",
       "      <td>891</td>\n",
       "      <td>28</td>\n",
       "      <td>белый металлический фонарь</td>\n",
       "    </tr>\n",
       "    <tr>\n",
       "      <th>1</th>\n",
       "      <td>2018-01-12 08:26:00</td>\n",
       "      <td>3031</td>\n",
       "      <td>2150</td>\n",
       "      <td>8</td>\n",
       "      <td>275</td>\n",
       "      <td>132</td>\n",
       "      <td>1596</td>\n",
       "      <td>28</td>\n",
       "      <td>кремовая вешалка в форме сердечек купидона</td>\n",
       "    </tr>\n",
       "    <tr>\n",
       "      <th>2</th>\n",
       "      <td>2018-01-12 08:26:00</td>\n",
       "      <td>3031</td>\n",
       "      <td>2150</td>\n",
       "      <td>6</td>\n",
       "      <td>339</td>\n",
       "      <td>197</td>\n",
       "      <td>166</td>\n",
       "      <td>28</td>\n",
       "      <td>вязаная грелка с флагом союза</td>\n",
       "    </tr>\n",
       "    <tr>\n",
       "      <th>3</th>\n",
       "      <td>2018-01-12 08:26:00</td>\n",
       "      <td>3031</td>\n",
       "      <td>2150</td>\n",
       "      <td>2</td>\n",
       "      <td>765</td>\n",
       "      <td>767</td>\n",
       "      <td>1810</td>\n",
       "      <td>28</td>\n",
       "      <td>набор 7 скворечников для бабушек</td>\n",
       "    </tr>\n",
       "    <tr>\n",
       "      <th>4</th>\n",
       "      <td>2018-01-12 08:26:00</td>\n",
       "      <td>3031</td>\n",
       "      <td>2150</td>\n",
       "      <td>6</td>\n",
       "      <td>425</td>\n",
       "      <td>383</td>\n",
       "      <td>2585</td>\n",
       "      <td>28</td>\n",
       "      <td>стеклянный матовый держатель в форме звезды</td>\n",
       "    </tr>\n",
       "  </tbody>\n",
       "</table>\n",
       "</div>"
      ],
      "text/plain": [
       "           entry_date  order_id  customer_id  quantity  price  name_clust  \\\n",
       "0 2018-01-12 08:26:00      3031         2150         6    339         740   \n",
       "1 2018-01-12 08:26:00      3031         2150         8    275         132   \n",
       "2 2018-01-12 08:26:00      3031         2150         6    339         197   \n",
       "3 2018-01-12 08:26:00      3031         2150         2    765         767   \n",
       "4 2018-01-12 08:26:00      3031         2150         6    425         383   \n",
       "\n",
       "   entry_id  country_id                                  entry_lower  \n",
       "0       891          28                   белый металлический фонарь  \n",
       "1      1596          28   кремовая вешалка в форме сердечек купидона  \n",
       "2       166          28                вязаная грелка с флагом союза  \n",
       "3      1810          28             набор 7 скворечников для бабушек  \n",
       "4      2585          28  стеклянный матовый держатель в форме звезды  "
      ]
     },
     "execution_count": 21,
     "metadata": {},
     "output_type": "execute_result"
    }
   ],
   "source": [
    "# Объединение датафреймов по идентификационному номеру записи (entry_id)\n",
    "df_combined = pd.merge(df_gift, df_entry, on='entry_id', how='left')\n",
    "df_combined = df_combined.drop(columns=['entry'])\n",
    "df_combined.info()\n",
    "df_combined.head()"
   ]
  },
  {
   "cell_type": "code",
   "execution_count": 22,
   "metadata": {},
   "outputs": [
    {
     "name": "stdout",
     "output_type": "stream",
     "text": [
      "<class 'pandas.core.frame.DataFrame'>\n",
      "Int64Index: 261060 entries, 0 to 353366\n",
      "Data columns (total 9 columns):\n",
      " #   Column       Non-Null Count   Dtype         \n",
      "---  ------       --------------   -----         \n",
      " 0   entry_date   261060 non-null  datetime64[ns]\n",
      " 1   order_id     261060 non-null  int64         \n",
      " 2   customer_id  261060 non-null  int64         \n",
      " 3   quantity     261060 non-null  int64         \n",
      " 4   price        261060 non-null  int64         \n",
      " 5   name_clust   261060 non-null  int64         \n",
      " 6   entry_id     261060 non-null  int64         \n",
      " 7   country_id   261060 non-null  int64         \n",
      " 8   entry_lower  261060 non-null  object        \n",
      "dtypes: datetime64[ns](1), int64(7), object(1)\n",
      "memory usage: 19.9+ MB\n"
     ]
    }
   ],
   "source": [
    "df_combined = df_combined[df_combined['customer_id'] >= 0]\n",
    "df_combined.info()"
   ]
  },
  {
   "cell_type": "code",
   "execution_count": 23,
   "metadata": {},
   "outputs": [
    {
     "data": {
      "text/plain": [
       "0"
      ]
     },
     "execution_count": 23,
     "metadata": {},
     "output_type": "execute_result"
    }
   ],
   "source": [
    "# Проверка наличия отрицательных значений в customer_id\n",
    "negative_customer_ids = df_combined[df_combined['customer_id'] < 0]\n",
    "negative_customer_ids['customer_id'].count()"
   ]
  },
  {
   "cell_type": "markdown",
   "metadata": {},
   "source": [
    "# Шаг 2. Предобработка и начало исследовательского анализа"
   ]
  },
  {
   "cell_type": "code",
   "execution_count": 24,
   "metadata": {},
   "outputs": [],
   "source": [
    "# Преобразование отрицательных значений в положительные в столбцах 'price' и 'quantity'\n",
    "df_combined[['price', 'quantity']] = df_combined[['price', 'quantity']].abs()"
   ]
  },
  {
   "cell_type": "code",
   "execution_count": 25,
   "metadata": {},
   "outputs": [
    {
     "data": {
      "image/png": "[encoded data removed]",
      "text/plain": [
       "<Figure size 432x288 with 1 Axes>"
      ]
     },
     "metadata": {
      "needs_background": "light"
     },
     "output_type": "display_data"
    }
   ],
   "source": [
    "# Проверка выбросов price\n",
    "sns.boxplot(data=df_combined, x='price')\n",
    "plt.show()"
   ]
  },
  {
   "cell_type": "code",
   "execution_count": 26,
   "metadata": {},
   "outputs": [
    {
     "data": {
      "image/png": "[encoded data removed]",
      "text/plain": [
       "<Figure size 432x288 with 1 Axes>"
      ]
     },
     "metadata": {
      "needs_background": "light"
     },
     "output_type": "display_data"
    }
   ],
   "source": [
    "# Проверка выбросов quantity\n",
    "sns.boxplot(data=df_combined, x='quantity')\n",
    "plt.show()"
   ]
  },
  {
   "cell_type": "code",
   "execution_count": 27,
   "metadata": {},
   "outputs": [
    {
     "data": {
      "text/html": [
       "<div>\n",
       "<style scoped>\n",
       "    .dataframe tbody tr th:only-of-type {\n",
       "        vertical-align: middle;\n",
       "    }\n",
       "\n",
       "    .dataframe tbody tr th {\n",
       "        vertical-align: top;\n",
       "    }\n",
       "\n",
       "    .dataframe thead th {\n",
       "        text-align: right;\n",
       "    }\n",
       "</style>\n",
       "<table border=\"1\" class=\"dataframe\">\n",
       "  <thead>\n",
       "    <tr style=\"text-align: right;\">\n",
       "      <th></th>\n",
       "      <th>entry_date</th>\n",
       "      <th>order_id</th>\n",
       "      <th>customer_id</th>\n",
       "      <th>quantity</th>\n",
       "      <th>price</th>\n",
       "      <th>name_clust</th>\n",
       "      <th>entry_id</th>\n",
       "      <th>country_id</th>\n",
       "      <th>entry_lower</th>\n",
       "      <th>total_value</th>\n",
       "    </tr>\n",
       "  </thead>\n",
       "  <tbody>\n",
       "    <tr>\n",
       "      <th>0</th>\n",
       "      <td>2018-01-12 08:26:00</td>\n",
       "      <td>3031</td>\n",
       "      <td>2150</td>\n",
       "      <td>6</td>\n",
       "      <td>339</td>\n",
       "      <td>740</td>\n",
       "      <td>891</td>\n",
       "      <td>28</td>\n",
       "      <td>белый металлический фонарь</td>\n",
       "      <td>2034</td>\n",
       "    </tr>\n",
       "    <tr>\n",
       "      <th>1</th>\n",
       "      <td>2018-01-12 08:26:00</td>\n",
       "      <td>3031</td>\n",
       "      <td>2150</td>\n",
       "      <td>8</td>\n",
       "      <td>275</td>\n",
       "      <td>132</td>\n",
       "      <td>1596</td>\n",
       "      <td>28</td>\n",
       "      <td>кремовая вешалка в форме сердечек купидона</td>\n",
       "      <td>2200</td>\n",
       "    </tr>\n",
       "    <tr>\n",
       "      <th>2</th>\n",
       "      <td>2018-01-12 08:26:00</td>\n",
       "      <td>3031</td>\n",
       "      <td>2150</td>\n",
       "      <td>6</td>\n",
       "      <td>339</td>\n",
       "      <td>197</td>\n",
       "      <td>166</td>\n",
       "      <td>28</td>\n",
       "      <td>вязаная грелка с флагом союза</td>\n",
       "      <td>2034</td>\n",
       "    </tr>\n",
       "    <tr>\n",
       "      <th>3</th>\n",
       "      <td>2018-01-12 08:26:00</td>\n",
       "      <td>3031</td>\n",
       "      <td>2150</td>\n",
       "      <td>2</td>\n",
       "      <td>765</td>\n",
       "      <td>767</td>\n",
       "      <td>1810</td>\n",
       "      <td>28</td>\n",
       "      <td>набор 7 скворечников для бабушек</td>\n",
       "      <td>1530</td>\n",
       "    </tr>\n",
       "    <tr>\n",
       "      <th>4</th>\n",
       "      <td>2018-01-12 08:26:00</td>\n",
       "      <td>3031</td>\n",
       "      <td>2150</td>\n",
       "      <td>6</td>\n",
       "      <td>425</td>\n",
       "      <td>383</td>\n",
       "      <td>2585</td>\n",
       "      <td>28</td>\n",
       "      <td>стеклянный матовый держатель в форме звезды</td>\n",
       "      <td>2550</td>\n",
       "    </tr>\n",
       "  </tbody>\n",
       "</table>\n",
       "</div>"
      ],
      "text/plain": [
       "           entry_date  order_id  customer_id  quantity  price  name_clust  \\\n",
       "0 2018-01-12 08:26:00      3031         2150         6    339         740   \n",
       "1 2018-01-12 08:26:00      3031         2150         8    275         132   \n",
       "2 2018-01-12 08:26:00      3031         2150         6    339         197   \n",
       "3 2018-01-12 08:26:00      3031         2150         2    765         767   \n",
       "4 2018-01-12 08:26:00      3031         2150         6    425         383   \n",
       "\n",
       "   entry_id  country_id                                  entry_lower  \\\n",
       "0       891          28                   белый металлический фонарь   \n",
       "1      1596          28   кремовая вешалка в форме сердечек купидона   \n",
       "2       166          28                вязаная грелка с флагом союза   \n",
       "3      1810          28             набор 7 скворечников для бабушек   \n",
       "4      2585          28  стеклянный матовый держатель в форме звезды   \n",
       "\n",
       "   total_value  \n",
       "0         2034  \n",
       "1         2200  \n",
       "2         2034  \n",
       "3         1530  \n",
       "4         2550  "
      ]
     },
     "execution_count": 27,
     "metadata": {},
     "output_type": "execute_result"
    }
   ],
   "source": [
    "# Рассчет суммы стоимости каждой товарной позиции\n",
    "df_combined['total_value'] = df_combined['price'] * df_combined['quantity']\n",
    "df_combined.head()"
   ]
  },
  {
   "cell_type": "code",
   "execution_count": 28,
   "metadata": {},
   "outputs": [
    {
     "data": {
      "image/png": "[encoded data removed]",
      "text/plain": [
       "<Figure size 432x288 with 1 Axes>"
      ]
     },
     "metadata": {
      "needs_background": "light"
     },
     "output_type": "display_data"
    },
    {
     "data": {
      "image/png": "[encoded data removed]",
      "text/plain": [
       "<Figure size 432x288 with 1 Axes>"
      ]
     },
     "metadata": {
      "needs_background": "light"
     },
     "output_type": "display_data"
    },
    {
     "data": {
      "text/plain": [
       "count    2.610600e+05\n",
       "mean     2.158392e+03\n",
       "std      3.371086e+04\n",
       "min      0.000000e+00\n",
       "25%      4.350000e+02\n",
       "50%      1.050000e+03\n",
       "75%      1.872000e+03\n",
       "max      1.684696e+07\n",
       "Name: total_value, dtype: float64"
      ]
     },
     "execution_count": 28,
     "metadata": {},
     "output_type": "execute_result"
    }
   ],
   "source": [
    "# Проверка выбросов в total_value\n",
    "sns.boxplot(data=df_combined, x='total_value')\n",
    "plt.show()\n",
    "\n",
    "# Анализ распределения значений total_value\n",
    "sns.histplot(df_combined['total_value'], bins=50, kde=True)\n",
    "plt.xlabel('Total Value')\n",
    "plt.ylabel('Частота')\n",
    "plt.title('Распределение общей стоимости')\n",
    "plt.show()\n",
    "\n",
    "total_value_description = df_combined['total_value'].describe()\n",
    "total_value_description"
   ]
  },
  {
   "cell_type": "markdown",
   "metadata": {},
   "source": [
    "<div class=\"alert alert-info\">\n",
    "<b>Преобразование отрицательных значений в положительные в столбцах 'price' и 'quantity'.\n",
    "Данные из столбцов 'price' и 'quantity' были преобразованы в положительные значения, чтобы избежать негативного влияния отрицательных значений на анализ данных. Это позволило корректно рассчитать стоимость каждой товарной позиции и выполнить дальнейший анализ.\n",
    "Проверка выбросов в 'price'.\n",
    "После приведения значений 'price' к положительным значениям была проведена проверка на наличие выбросов с помощью графика boxplot.\n",
    "Из графика видно, что в столбце 'price' присутствуют аномальные значения, значительно отличающиеся от основной массы данных.\n",
    "Эти выбросы могут указывать на возможные ошибки ввода данных или редкие случаи необычно высокой стоимости товаров.\n",
    "    \n",
    "Проверка выбросов в 'quantity'\n",
    "Аналогично столбцу 'price', для столбца 'quantity' также была проведена проверка на наличие выбросов с помощью графика boxplot.\n",
    "График показывает, что в столбце 'quantity' также присутствуют аномальные значения, значительно отличающиеся от основной массы данных.\n",
    "Эти выбросы могут быть связаны с ошибками ввода данных или редкими случаями необычно больших заказов.\n",
    "Рассчет суммы стоимости каждой товарной позиции\n",
    "На основе данных столбцов 'price' и 'quantity' была рассчитана сумма стоимости каждой товарной позиции, добавленная в новый столбец 'total_value'.\n",
    "\n",
    "Этот расчет позволяет оценить общую стоимость проданных товаров и использовать эту информацию для дальнейшего анализа.</b>\n",
    "<br>\n",
    "</div>\n",
    "\n",
    "***Анализ `total value`***\n",
    "\n",
    "1. График `boxplot` показывает наличие значительных выбросов. Основная масса данных сосредоточена в нижней части графика, а несколько точек расположены значительно выше, что указывает на аномальные значения. Эти выбросы могут быть результатом ошибок ввода данных или редких случаев необычно высоких продаж.\n",
    "\n",
    "2. Гистограмма распределения значений показывает, что большинство значений `total_value` сосредоточены в нижней части диапазона. Основная часть данных имеет значения `total_valu`e менее 1 000 000. Наличие очень высоких значений `total_value`, таких как 1.684696e+07, является аномальным и требует дополнительного анализа."
   ]
  },
  {
   "cell_type": "code",
   "execution_count": 29,
   "metadata": {},
   "outputs": [],
   "source": [
    "# Обработка выбросов (удаление значений total_value выше 99-го перцентиля)\n",
    "upper_limit = df_combined['total_value'].quantile(0.99)\n",
    "df_gift_cleaned = df_combined[df_combined['total_value'] <= upper_limit]"
   ]
  },
  {
   "cell_type": "code",
   "execution_count": 30,
   "metadata": {},
   "outputs": [
    {
     "data": {
      "image/png": "[encoded data removed]",
      "text/plain": [
       "<Figure size 432x288 with 1 Axes>"
      ]
     },
     "metadata": {
      "needs_background": "light"
     },
     "output_type": "display_data"
    },
    {
     "data": {
      "image/png": "[encoded data removed]",
      "text/plain": [
       "<Figure size 432x288 with 1 Axes>"
      ]
     },
     "metadata": {
      "needs_background": "light"
     },
     "output_type": "display_data"
    },
    {
     "data": {
      "text/plain": [
       "count    258450.000000\n",
       "mean       1654.447897\n",
       "std        2243.592570\n",
       "min           0.000000\n",
       "25%         425.000000\n",
       "50%        1050.000000\n",
       "75%        1785.000000\n",
       "max       18615.000000\n",
       "Name: total_value, dtype: float64"
      ]
     },
     "execution_count": 30,
     "metadata": {},
     "output_type": "execute_result"
    }
   ],
   "source": [
    "sns.boxplot(data=df_gift_cleaned, x='total_value')\n",
    "plt.show()\n",
    "\n",
    "sns.histplot(df_gift_cleaned['total_value'], bins=50, kde=True)\n",
    "plt.xlabel('Total Value')\n",
    "plt.ylabel('Частота')\n",
    "plt.title('Распределение общего значения после удаления выбросов')\n",
    "plt.show()\n",
    "\n",
    "# Статистическое описание total_value после обработки выбросов\n",
    "total_value_description_cleaned = df_gift_cleaned['total_value'].describe()\n",
    "total_value_description_cleaned"
   ]
  },
  {
   "cell_type": "markdown",
   "metadata": {},
   "source": [
    "<div class=\"alert alert-block alert-danger\">\n",
    "<h2> Комментарий ревьюера v1<a class=\"tocSkip\"></h2>\n",
    "\n",
    "<b>На доработку🤔:</b>  Нужно написать вывод по исследованию каждых из 3 параметров выше"
   ]
  },
  {
   "cell_type": "markdown",
   "metadata": {},
   "source": [
    "<div class=\"alert alert-block alert-danger\">\n",
    "<h2> Комментарий ревьюера v2 <a class=\"tocSkip\"></h2>\n",
    "   \n",
    "<b>На доработку🤔:</b> Также нужно проанализироватть параметр total_value"
   ]
  },
  {
   "cell_type": "markdown",
   "metadata": {},
   "source": [
    "<div class=\"alert alert-success\">\n",
    "<h2> Комментарий ревьюера v3 <a class=\"tocSkip\"> </h2>\n",
    "\n",
    "<b>Все супер!👍:</b> Хорошо!"
   ]
  },
  {
   "cell_type": "markdown",
   "metadata": {},
   "source": [
    "***Анализа `total_value` после удаления выбросов:***\n",
    "\n",
    "1. График boxplot после удаления выбросов показывает, что основная масса данных сосредоточена ниже значения 2,500. Выбросы все еще присутствуют, но они менее выражены по сравнению с первоначальными данными.\n",
    "\n",
    "2. Распределение значений total_value: Гистограмма распределения значений после удаления выбросов показывает, что большинство значений total_value сосредоточены в нижней части диапазона, с постепенным уменьшением частоты к более высоким значениям. Основная часть данных имеет значения total_value менее 5,000."
   ]
  },
  {
   "cell_type": "code",
   "execution_count": 31,
   "metadata": {},
   "outputs": [],
   "source": [
    "# Изучение уникальных значений и статистики по столбцам\n",
    "categorical_columns = ['order_id', 'customer_id', 'name_clust', 'entry_id', 'country_id']"
   ]
  },
  {
   "cell_type": "code",
   "execution_count": 32,
   "metadata": {},
   "outputs": [
    {
     "name": "stdout",
     "output_type": "stream",
     "text": [
      "Column: order_id\n",
      "Unique values: 17531\n",
      "45862    371\n",
      "43005    371\n",
      "47393    364\n",
      "44936    303\n",
      "40242    297\n",
      "Name: order_id, dtype: int64\n",
      "\n",
      "\n",
      "Column: customer_id\n",
      "Unique values: 4248\n",
      "2159    5208\n",
      "5904    3533\n",
      "7252    3068\n",
      "5394    1841\n",
      "4689    1663\n",
      "Name: customer_id, dtype: int64\n",
      "\n",
      "\n",
      "Column: name_clust\n",
      "Unique values: 892\n",
      "427    5292\n",
      "415    3668\n",
      "516    3543\n",
      "223    2802\n",
      "852    2709\n",
      "Name: name_clust, dtype: int64\n",
      "\n",
      "\n",
      "Column: entry_id\n",
      "Unique values: 2703\n",
      "2223    1634\n",
      "957     1588\n",
      "2254    1362\n",
      "2601    1281\n",
      "1869    1118\n",
      "Name: entry_id, dtype: int64\n",
      "\n",
      "\n",
      "Column: country_id\n",
      "Unique values: 29\n",
      "28    236452\n",
      "6       6664\n",
      "5       6194\n",
      "16      1754\n",
      "23      1714\n",
      "Name: country_id, dtype: int64\n",
      "\n",
      "\n"
     ]
    }
   ],
   "source": [
    "# Вывод количества уникальных значений для каждого столбца\n",
    "for column in categorical_columns:\n",
    "    unique_values = df_combined[column].nunique()\n",
    "    print(f'Column: {column}')\n",
    "    print(f'Unique values: {unique_values}')\n",
    "    print(df_combined[column].value_counts().head(5))  # Вывод 5 самых частых значений\n",
    "    print('\\n')"
   ]
  },
  {
   "cell_type": "code",
   "execution_count": 33,
   "metadata": {},
   "outputs": [
    {
     "data": {
      "text/html": [
       "<div>\n",
       "<style scoped>\n",
       "    .dataframe tbody tr th:only-of-type {\n",
       "        vertical-align: middle;\n",
       "    }\n",
       "\n",
       "    .dataframe tbody tr th {\n",
       "        vertical-align: top;\n",
       "    }\n",
       "\n",
       "    .dataframe thead th {\n",
       "        text-align: right;\n",
       "    }\n",
       "</style>\n",
       "<table border=\"1\" class=\"dataframe\">\n",
       "  <thead>\n",
       "    <tr style=\"text-align: right;\">\n",
       "      <th></th>\n",
       "      <th>order_id</th>\n",
       "      <th>customer_id</th>\n",
       "      <th>name_clust</th>\n",
       "      <th>entry_id</th>\n",
       "      <th>country_id</th>\n",
       "    </tr>\n",
       "  </thead>\n",
       "  <tbody>\n",
       "    <tr>\n",
       "      <th>count</th>\n",
       "      <td>258450.000000</td>\n",
       "      <td>258450.000000</td>\n",
       "      <td>258450.000000</td>\n",
       "      <td>258450.000000</td>\n",
       "      <td>258450.000000</td>\n",
       "    </tr>\n",
       "    <tr>\n",
       "      <th>mean</th>\n",
       "      <td>27343.067348</td>\n",
       "      <td>4710.661904</td>\n",
       "      <td>467.916947</td>\n",
       "      <td>1525.241041</td>\n",
       "      <td>26.346744</td>\n",
       "    </tr>\n",
       "    <tr>\n",
       "      <th>std</th>\n",
       "      <td>13035.129221</td>\n",
       "      <td>1729.609927</td>\n",
       "      <td>256.807860</td>\n",
       "      <td>825.490587</td>\n",
       "      <td>5.676493</td>\n",
       "    </tr>\n",
       "    <tr>\n",
       "      <th>min</th>\n",
       "      <td>3031.000000</td>\n",
       "      <td>1713.000000</td>\n",
       "      <td>0.000000</td>\n",
       "      <td>1.000000</td>\n",
       "      <td>0.000000</td>\n",
       "    </tr>\n",
       "    <tr>\n",
       "      <th>25%</th>\n",
       "      <td>16186.000000</td>\n",
       "      <td>3187.000000</td>\n",
       "      <td>241.000000</td>\n",
       "      <td>901.000000</td>\n",
       "      <td>28.000000</td>\n",
       "    </tr>\n",
       "    <tr>\n",
       "      <th>50%</th>\n",
       "      <td>28560.000000</td>\n",
       "      <td>4782.000000</td>\n",
       "      <td>445.000000</td>\n",
       "      <td>1561.000000</td>\n",
       "      <td>28.000000</td>\n",
       "    </tr>\n",
       "    <tr>\n",
       "      <th>75%</th>\n",
       "      <td>38757.000000</td>\n",
       "      <td>6119.000000</td>\n",
       "      <td>694.000000</td>\n",
       "      <td>2223.000000</td>\n",
       "      <td>28.000000</td>\n",
       "    </tr>\n",
       "    <tr>\n",
       "      <th>max</th>\n",
       "      <td>48253.000000</td>\n",
       "      <td>7653.000000</td>\n",
       "      <td>929.000000</td>\n",
       "      <td>2916.000000</td>\n",
       "      <td>29.000000</td>\n",
       "    </tr>\n",
       "  </tbody>\n",
       "</table>\n",
       "</div>"
      ],
      "text/plain": [
       "            order_id    customer_id     name_clust       entry_id  \\\n",
       "count  258450.000000  258450.000000  258450.000000  258450.000000   \n",
       "mean    27343.067348    4710.661904     467.916947    1525.241041   \n",
       "std     13035.129221    1729.609927     256.807860     825.490587   \n",
       "min      3031.000000    1713.000000       0.000000       1.000000   \n",
       "25%     16186.000000    3187.000000     241.000000     901.000000   \n",
       "50%     28560.000000    4782.000000     445.000000    1561.000000   \n",
       "75%     38757.000000    6119.000000     694.000000    2223.000000   \n",
       "max     48253.000000    7653.000000     929.000000    2916.000000   \n",
       "\n",
       "          country_id  \n",
       "count  258450.000000  \n",
       "mean       26.346744  \n",
       "std         5.676493  \n",
       "min         0.000000  \n",
       "25%        28.000000  \n",
       "50%        28.000000  \n",
       "75%        28.000000  \n",
       "max        29.000000  "
      ]
     },
     "execution_count": 33,
     "metadata": {},
     "output_type": "execute_result"
    }
   ],
   "source": [
    "df_gift_cleaned[categorical_columns].describe(include='all')"
   ]
  },
  {
   "cell_type": "markdown",
   "metadata": {},
   "source": [
    "1. `order_id`\n",
    "- Количество уникальных значений: Столбец `order_id` содержит `17531` уникальных значений, что указывает на количество уникальных заказов.\n",
    "- Частота: Наиболее частые значения показаны в выводе value_counts, что может помочь выявить заказы с наибольшим количеством товаров.\n",
    "2. `customer_id`\n",
    "- Количество уникальных значений: Столбец `customer_id` содержит `4248` уникальных значений, что указывает на количество уникальных клиентов.\n",
    "- Частота: Анализ частоты значений может показать, какие клиенты совершают наибольшее количество заказов, что важно для анализа поведения клиентов.\n",
    "3. `name_clust`\n",
    "- Количество уникальных значений: Столбец `name_clust` содержит `892` уникальных значений, что указывает на количество различных товарных категорий или кластеров.\n",
    "- Частота: Выявление самых частых кластеров может помочь определить наиболее популярные категории товаров.\n",
    "4. `entry_id`\n",
    "- Количество уникальных значений: Столбец `entry_id` содержит `2703` уникальных значений, что соответствует количеству уникальных записей в данных.\n",
    "- Частота: Анализ частоты значений может помочь выявить дублирующиеся записи, если таковые имеются.\n",
    "5. `country_id`\n",
    "- Количество уникальных значений: Столбец `country_id` содержит `29` уникальных значений, что указывает на количество уникальных стран.\n",
    "- Частота: Анализ частоты значений может показать, из каких стран поступает наибольшее количество заказов, что важно для анализа географического распределения клиентов."
   ]
  },
  {
   "cell_type": "markdown",
   "metadata": {},
   "source": [
    "<div class=\"alert alert-block alert-danger\">\n",
    "<h2> Комментарий ревьюера v1<a class=\"tocSkip\"></h2>\n",
    "\n",
    "<b>На доработку🤔:</b> Это категориальные столбцы, их нужно исследоваать как категориальные"
   ]
  },
  {
   "cell_type": "markdown",
   "metadata": {},
   "source": [
    "<div class=\"alert alert-success\">\n",
    "<h2> Комментарий ревьюера v2 <a class=\"tocSkip\"> </h2>\n",
    "\n",
    "<b>Все супер!👍:</b> Отлично!"
   ]
  },
  {
   "cell_type": "code",
   "execution_count": 34,
   "metadata": {},
   "outputs": [
    {
     "data": {
      "image/png": "[encoded data removed]",
      "text/plain": [
       "<Figure size 432x288 with 1 Axes>"
      ]
     },
     "metadata": {
      "needs_background": "light"
     },
     "output_type": "display_data"
    }
   ],
   "source": [
    "# Анализ времени записей\n",
    "df_gift_cleaned['entry_date'].dt.to_period('M').value_counts().sort_index().plot(kind='bar')\n",
    "plt.xlabel('Месяц')\n",
    "plt.ylabel('Количество записей')\n",
    "plt.title('Количество заявок в месяц')\n",
    "plt.show()"
   ]
  },
  {
   "cell_type": "code",
   "execution_count": 35,
   "metadata": {},
   "outputs": [
    {
     "name": "stdout",
     "output_type": "stream",
     "text": [
      "Месяцы без продаж: []\n"
     ]
    }
   ],
   "source": [
    "# Поиск месяцев без продаж\n",
    "monthly_sales = df_gift_cleaned.groupby(df_combined['entry_date'].dt.to_period('M')).size()\n",
    "no_sales_months = monthly_sales[monthly_sales == 0]\n",
    "print(f'Месяцы без продаж: {no_sales_months.index.tolist()}')"
   ]
  },
  {
   "cell_type": "code",
   "execution_count": 36,
   "metadata": {},
   "outputs": [
    {
     "name": "stdout",
     "output_type": "stream",
     "text": [
      "<class 'pandas.core.frame.DataFrame'>\n",
      "Int64Index: 258450 entries, 0 to 353366\n",
      "Data columns (total 10 columns):\n",
      " #   Column       Non-Null Count   Dtype         \n",
      "---  ------       --------------   -----         \n",
      " 0   entry_date   258450 non-null  datetime64[ns]\n",
      " 1   order_id     258450 non-null  int64         \n",
      " 2   customer_id  258450 non-null  int64         \n",
      " 3   quantity     258450 non-null  int64         \n",
      " 4   price        258450 non-null  int64         \n",
      " 5   name_clust   258450 non-null  int64         \n",
      " 6   entry_id     258450 non-null  int64         \n",
      " 7   country_id   258450 non-null  int64         \n",
      " 8   entry_lower  258450 non-null  object        \n",
      " 9   total_value  258450 non-null  int64         \n",
      "dtypes: datetime64[ns](1), int64(8), object(1)\n",
      "memory usage: 21.7+ MB\n"
     ]
    }
   ],
   "source": [
    "analysis_period = (df_gift_cleaned['entry_date'] >= '2018-01-01') & (df_gift_cleaned['entry_date'] <= '2019-12-31')\n",
    "df_combined_filtered = df_gift_cleaned[analysis_period]\n",
    "\n",
    "df_combined_filtered.info()"
   ]
  },
  {
   "cell_type": "markdown",
   "metadata": {},
   "source": [
    "`Выводы по графику`\n",
    "1. Рост активности к концу года:\n",
    "\n",
    "- Наблюдается значительный рост количества записей с сентября по ноябрь 2019 года, достигая пика в ноябре 2019 года.\n",
    "- Это может быть связано с сезонными колебаниями, такими как подготовка к праздничным сезонам, акциям и распродажам.\n",
    "2. Стабильность в начале года:\n",
    "\n",
    "- В начале года (январь - июнь) количество записей остается относительно стабильным, без значительных изменений.\n",
    "- Это может указывать на стабильную бизнес-активность в первые месяцы года, возможно, после рождественских и новогодних праздников.\n",
    "3. Увеличение в сентябре:\n",
    "\n",
    "- В сентябре наблюдается заметное увеличение количества записей, которое продолжается до ноября.\n",
    "- Это может быть связано с началом осеннего сезона и подготовкой к праздничным продажам.\n",
    "4. Снижение в декабре 2019:\n",
    "\n",
    "- В декабре 2019 года количество записей значительно снижается по сравнению с ноябрем, что может быть связано с завершением основных распродаж и праздничных акций.\n",
    "\n",
    "***Анализ количества записей по месяцам*** показывает, что в выбранный период с января `2018` года по декабрь `2019` года не было месяцев без продаж. Это свидетельствует о непрерывной активности продаж в течение всего периода, что является положительным показателем стабильности бизнеса.\n",
    "График показывает, что в течение всего периода данные поступали равномерно, с возможными сезонными колебаниями.\n",
    "\n",
    "***Этот период выбран на основании:***\n",
    "\n",
    "- Непрерывной активности продаж в течение всех месяцев.\n",
    "- Достаточно большого количества данных для проведения статистически значимого анализа."
   ]
  },
  {
   "cell_type": "markdown",
   "metadata": {},
   "source": [
    "<div class=\"alert alert-block alert-danger\">\n",
    "<h2> Комментарий ревьюера v1<a class=\"tocSkip\"></h2>\n",
    "\n",
    "<b>На доработку🤔:</b> Вывод? Каким периодом будем оперировать?"
   ]
  },
  {
   "cell_type": "markdown",
   "metadata": {},
   "source": [
    "<div class=\"alert alert-success\">\n",
    "<h2> Комментарий ревьюера v2 <a class=\"tocSkip\"> </h2>\n",
    "\n",
    "<b>Все супер!👍:</b> Рабочий пеериод определен верно!"
   ]
  },
  {
   "cell_type": "markdown",
   "metadata": {},
   "source": [
    "<div class=\"alert alert-block alert-danger\">\n",
    "<h2> Комментарий ревьюера v1<a class=\"tocSkip\"></h2>\n",
    "\n",
    "<b>На доработку🤔:</b> Исправим отмеченные выше ошибки и продолжим работу. Список ошибок:\n",
    "    \n",
    "    1. Дубли в df_entry проверены неверно\n",
    "\n",
    "    2. Не найдены аномалии в столбце entry\n",
    "\n",
    "    3. Нет вывода по исследованию параметров\n",
    "\n",
    "    4. Категориальные данные исследованы как количественные\n",
    "\n",
    "    5. Профили клиентов не созданы\n",
    "\n",
    "    6. Не по всем разделам есть выводы"
   ]
  },
  {
   "cell_type": "markdown",
   "metadata": {},
   "source": [
    "<div class=\"alert alert-info\">\n",
    "<b>Done</b>\n",
    "<br>\n",
    "</div>"
   ]
  },
  {
   "cell_type": "markdown",
   "metadata": {},
   "source": [
    "<div class=\"alert alert-block alert-danger\">\n",
    "<h2> Комментарий ревьюера v2 <a class=\"tocSkip\"></h2>\n",
    "   \n",
    "<b>На доработку🤔:</b> Пока еще не все ошибки исправлены"
   ]
  },
  {
   "cell_type": "markdown",
   "metadata": {},
   "source": [
    "<div class=\"alert alert-success\">\n",
    "<h2> Комментарий ревьюера v3 <a class=\"tocSkip\"> </h2>\n",
    "\n",
    "<b>Все супер!👍:</b> Исправлены!"
   ]
  },
  {
   "cell_type": "markdown",
   "metadata": {},
   "source": [
    "# Шаг 3. Расчёт метрик"
   ]
  },
  {
   "cell_type": "markdown",
   "metadata": {},
   "source": [
    "***Оценка количества заказов и уникальных покупателей по часам и дням недели:***"
   ]
  },
  {
   "cell_type": "code",
   "execution_count": 39,
   "metadata": {},
   "outputs": [],
   "source": [
    "# Добавление столбцов с часом и днем недели\n",
    "df_combined['hour'] = df_combined['entry_date'].dt.hour\n",
    "df_combined['weekday'] = df_combined['entry_date'].dt.dayofweek"
   ]
  },
  {
   "cell_type": "code",
   "execution_count": 40,
   "metadata": {},
   "outputs": [],
   "source": [
    "# Количество заказов по часам\n",
    "hourly_orders = df_combined.groupby('hour').size()\n",
    "\n",
    "# Количество уникальных покупателей по часам\n",
    "hourly_customers = df_combined.groupby('hour')['customer_id'].nunique()"
   ]
  },
  {
   "cell_type": "code",
   "execution_count": 41,
   "metadata": {},
   "outputs": [
    {
     "data": {
      "image/png": "[encoded data removed]",
      "text/plain": [
       "<Figure size 720x720 with 2 Axes>"
      ]
     },
     "metadata": {
      "needs_background": "light"
     },
     "output_type": "display_data"
    }
   ],
   "source": [
    "fig, axs = plt.subplots(2, 1, figsize=(10, 10))\n",
    "\n",
    "hourly_orders.plot(kind='bar', ax=axs[0])\n",
    "axs[0].set_title('Количество заказов в час')\n",
    "axs[0].set_xlabel('Час')\n",
    "axs[0].set_ylabel('Количество заказов')\n",
    "\n",
    "hourly_customers.plot(kind='bar', ax=axs[1])\n",
    "axs[1].set_title('Количество уникальных клиентов в час')\n",
    "axs[1].set_xlabel('Час')\n",
    "axs[1].set_ylabel('Количество уникальных клиентов')\n",
    "\n",
    "plt.tight_layout()\n",
    "plt.show()"
   ]
  },
  {
   "cell_type": "markdown",
   "metadata": {},
   "source": [
    "***Анализ количества заказов и уникальных клиентов по часам***\n",
    "\n",
    "-`Количество заказов по часам`\n",
    "1. Наибольшее количество заказов приходится на период с 11 до 15 часов, достигая пика в 12 и 15 часов. \n",
    "2. Наблюдается умеренная активность заказов с 9 до 10 часов и с 16 до 17 часов, что может указывать на начало рабочего дня и завершение рабочего дня.\n",
    "3. Минимальная активность наблюдается в ранние утренние часы (до 8) и вечерние часы (после 17), когда клиенты менее активны.\n",
    "\n",
    "-`Количество уникальных клиентов по часам`\n",
    "1. Наибольшее количество уникальных клиентов совершают заказы в период с 11 до 14 часов, достигая пика в 12 часов.\n",
    "2. Умеренная активность уникальных клиентов наблюдается с 9 до 10 часов и с 15 до 16 часов, что также совпадает с умеренной активностью заказов.\n",
    "3. Минимальная активность уникальных клиентов наблюдается в ранние утренние часы (до 8) и вечерние часы (после 17)."
   ]
  },
  {
   "cell_type": "code",
   "execution_count": 42,
   "metadata": {},
   "outputs": [],
   "source": [
    "# Количество заказов по дням недели\n",
    "weekday_orders = df_combined.groupby('weekday').size()\n",
    "\n",
    "# Количество заказов по часам\n",
    "hourly_orders = df_combined.groupby('hour').size()\n",
    "\n",
    "# Дни недели для отображения (без вторника)\n",
    "days_of_week = ['Понедельник', 'Среда', 'Четверг', 'Пятница', 'Суббота', 'Воскресенье']"
   ]
  },
  {
   "cell_type": "code",
   "execution_count": 43,
   "metadata": {},
   "outputs": [
    {
     "data": {
      "image/png": "[encoded data removed]",
      "text/plain": [
       "<Figure size 720x720 with 2 Axes>"
      ]
     },
     "metadata": {
      "needs_background": "light"
     },
     "output_type": "display_data"
    }
   ],
   "source": [
    "fig, axs = plt.subplots(2, 1, figsize=(10, 10))\n",
    "\n",
    "weekday_orders.plot(kind='bar', ax=axs[0])\n",
    "axs[0].set_title('Количество заказов по дням недели')\n",
    "axs[0].set_xlabel('День недели')\n",
    "axs[0].set_ylabel('Количество заказов')\n",
    "axs[0].set_xticks(range(len(days_of_week)))\n",
    "axs[0].set_xticklabels(days_of_week, rotation=45)\n",
    "\n",
    "hourly_orders.plot(kind='bar', ax=axs[1])\n",
    "axs[1].set_title('Количество заказов по часам')\n",
    "axs[1].set_xlabel('Час')\n",
    "axs[1].set_ylabel('Количество заказов')\n",
    "\n",
    "plt.tight_layout()\n",
    "plt.show()"
   ]
  },
  {
   "cell_type": "markdown",
   "metadata": {},
   "source": [
    "***Анализ количества заказов по дням недели и по часам***\n",
    "- `Количество заказов по дням недели`\n",
    "1. Данные за вторник отсутствуют, поэтому анализ был проведен без учета этого дня.\n",
    "2. Четверг и пятница показывают наибольшую активность заказов, следуемые воскресеньем. Это может указывать на пик активности клиентов в конце рабочей недели и выходные.\n",
    "3. Понедельник и суббота также демонстрируют значительную активность, но несколько ниже по сравнению с четвергом, пятницей и воскресеньем.\n",
    "4. Среда показывает наименьшее количество заказов среди доступных данных. Это может указывать на спад активности в середине недели.\n",
    "- `Количество заказов по часам`\n",
    "1. Наибольшее количество заказов приходится на период с 10 до 15 часов. Это может быть связано с тем, что клиенты активны в рабочие часы и обеденный перерыв.\n",
    "2. После 16 часов наблюдается значительное снижение количества заказов. Это может указывать на завершение рабочего дня и снижение активности клиентов.\n",
    "3. Наблюдается минимальная активность в ранние утренние часы (до 8) и вечерние часы (после 19). Это может быть связано с тем, что клиенты менее активны в это время."
   ]
  },
  {
   "cell_type": "markdown",
   "metadata": {},
   "source": [
    "<div class=\"alert alert-block alert-danger\">\n",
    "<h2> Комментарий ревьюера v2 <a class=\"tocSkip\"></h2>\n",
    "   \n",
    "<b>На доработку🤔:</b> Нужно проанализировать и клиентов, и заказы по часам и по дням недели"
   ]
  },
  {
   "cell_type": "markdown",
   "metadata": {},
   "source": [
    "<div class=\"alert alert-block alert-danger\">\n",
    "<h2> Комментарий ревьюера v3 <a class=\"tocSkip\"></h2>\n",
    "   \n",
    "<b>На доработку🤔:</b> Нет грфаика количества клиентов по дням"
   ]
  },
  {
   "cell_type": "markdown",
   "metadata": {},
   "source": [
    "***Средняя выручка с клиента в день и количество уникальных покупателей по месяцам:***"
   ]
  },
  {
   "cell_type": "code",
   "execution_count": 44,
   "metadata": {},
   "outputs": [],
   "source": [
    "# Добавление столбцов с датой и месяцем\n",
    "df_combined['date'] = df_combined['entry_date'].dt.date\n",
    "df_combined['month'] = df_combined['entry_date'].dt.to_period('M')"
   ]
  },
  {
   "cell_type": "code",
   "execution_count": 45,
   "metadata": {},
   "outputs": [],
   "source": [
    "# Средняя выручка с клиента в день\n",
    "daily_revenue = df_combined.groupby(['date', 'customer_id'])['total_value'].sum().groupby('date').mean()\n",
    "\n",
    "# Количество уникальных покупателей по месяцам\n",
    "monthly_customers = df_combined.groupby('month')['customer_id'].nunique()"
   ]
  },
  {
   "cell_type": "code",
   "execution_count": 46,
   "metadata": {},
   "outputs": [
    {
     "data": {
      "image/png": "[encoded data removed]",
      "text/plain": [
       "<Figure size 720x720 with 2 Axes>"
      ]
     },
     "metadata": {
      "needs_background": "light"
     },
     "output_type": "display_data"
    }
   ],
   "source": [
    "fig, axs = plt.subplots(2, 1, figsize=(10, 10))\n",
    "\n",
    "daily_revenue.plot(kind='line', ax=axs[0])\n",
    "axs[0].set_title('Средняя дневная выручка на одного клиента')\n",
    "axs[0].set_xlabel('Дата')\n",
    "axs[0].set_ylabel('Средний доход')\n",
    "\n",
    "monthly_customers.plot(kind='bar', ax=axs[1])\n",
    "axs[1].set_title('Количество уникальных клиентов в месяц')\n",
    "axs[1].set_xlabel('Месяц')\n",
    "axs[1].set_ylabel('Количество уникальных клиентов')\n",
    "\n",
    "plt.tight_layout()\n",
    "plt.show()"
   ]
  },
  {
   "cell_type": "markdown",
   "metadata": {},
   "source": [
    "<div class=\"alert alert-block alert-danger\">\n",
    "<h2> Комментарий ревьюера v2 <a class=\"tocSkip\"></h2>\n",
    "   \n",
    "<b>На доработку🤔:</b> Что скажешь о том, есть ли сезонность?"
   ]
  },
  {
   "cell_type": "markdown",
   "metadata": {},
   "source": [
    "<div class=\"alert alert-success\">\n",
    "<h2> Комментарий ревьюера v3 <a class=\"tocSkip\"> </h2>\n",
    "\n",
    "<b>Все супер!👍:</b> Верный вывод"
   ]
  },
  {
   "cell_type": "markdown",
   "metadata": {},
   "source": [
    "***Анализ сезонности по средней выручке с клиента в день и количеству уникальных покупателей по месяцам***\n",
    "\n",
    "- `График средней дневной выручки на одного клиента`\n",
    "1. Cредняя дневная выручка на одного клиента остается относительно стабильной в течение всего года с некоторыми небольшими колебаниями.\n",
    "2. Наблюдается резкий всплеск средней выручки на одного клиента в декабре 2019 года. Это может быть связано с предновогодними распродажами и акциями.\n",
    "\n",
    "- `График количества уникальных клиентов в месяц`\n",
    "1. В течение года количество уникальных клиентов растет с небольшими колебаниями, показывая общий тренд на увеличение активности клиентов.\n",
    "2. Наблюдается заметный рост количества уникальных клиентов в мае, а также в октябре и ноябре 2019 года. Это может быть связано с маркетинговыми акциями, специальными предложениями или сезонными колебаниями спроса.\n",
    "\n",
    "- `Сезонные колебания`\n",
    "1. Явный пик активности и выручки наблюдается в декабре, что указывает на влияние новогодних праздников.\n",
    "2. Повышенная активность в мае и осенние месяцы может быть связана с сезонными акциями или другими факторами, влияющими на увеличение количества клиентов.\n",
    "3. В начале года (январь - апрель) и летние месяцы (июнь - август) не наблюдается ярко выраженных пиков активности, что может указывать на более стабильный и предсказуемый спрос в эти периоды."
   ]
  },
  {
   "cell_type": "markdown",
   "metadata": {},
   "source": [
    "***Расчет stickiness-фактора за второй и третий квартал 2019 года:***"
   ]
  },
  {
   "cell_type": "code",
   "execution_count": 47,
   "metadata": {},
   "outputs": [],
   "source": [
    "# Добавление столбца с датой\n",
    "df_combined['date'] = df_combined['entry_date'].dt.date\n",
    "\n",
    "# Фильтрация данных за второй квартал 2019 года\n",
    "q2_2019 = df_combined[(df_combined['entry_date'] >= '2019-04-01') & (df_combined['entry_date'] <= '2019-06-30')]\n",
    "\n",
    "# Количество активных пользователей в день (DAU) за второй квартал\n",
    "daily_active_users_q2 = q2_2019.groupby('date')['customer_id'].nunique()\n",
    "\n",
    "# Количество активных пользователей за весь период (MAU) за второй квартал\n",
    "total_active_users_q2 = q2_2019['customer_id'].nunique()\n",
    "\n",
    "# Stickiness-фактор за второй квартал\n",
    "stickiness_factor_q2 = daily_active_users_q2.mean() / total_active_users_q2"
   ]
  },
  {
   "cell_type": "code",
   "execution_count": 48,
   "metadata": {},
   "outputs": [],
   "source": [
    "# Фильтрация данных за третий квартал 2019 года\n",
    "q3_2019 = df_combined[(df_combined['entry_date'] >= '2019-07-01') & (df_combined['entry_date'] <= '2019-09-30')]\n",
    "\n",
    "# Количество активных пользователей в день (DAU) за третий квартал\n",
    "daily_active_users_q3 = q3_2019.groupby('date')['customer_id'].nunique()\n",
    "\n",
    "# Количество активных пользователей за весь период (MAU) за третий квартал\n",
    "total_active_users_q3 = q3_2019['customer_id'].nunique()\n",
    "\n",
    "# Stickiness-фактор за третий квартал\n",
    "stickiness_factor_q3 = daily_active_users_q3.mean() / total_active_users_q3"
   ]
  },
  {
   "cell_type": "code",
   "execution_count": 49,
   "metadata": {},
   "outputs": [
    {
     "data": {
      "text/plain": [
       "'Stickiness Factor Q2 2019: 0.03'"
      ]
     },
     "execution_count": 49,
     "metadata": {},
     "output_type": "execute_result"
    }
   ],
   "source": [
    "f'Stickiness Factor Q2 2019: {stickiness_factor_q2:.2f}'"
   ]
  },
  {
   "cell_type": "code",
   "execution_count": 50,
   "metadata": {},
   "outputs": [
    {
     "data": {
      "text/plain": [
       "'Stickiness Factor Q3 2019: 0.02'"
      ]
     },
     "execution_count": 50,
     "metadata": {},
     "output_type": "execute_result"
    }
   ],
   "source": [
    "f'Stickiness Factor Q3 2019: {stickiness_factor_q3:.2f}'"
   ]
  },
  {
   "cell_type": "markdown",
   "metadata": {},
   "source": [
    "<div class=\"alert alert-block alert-danger\">\n",
    "<h2> Комментарий ревьюера v2 <a class=\"tocSkip\"></h2>\n",
    "   \n",
    "<b>На доработку🤔:</b> Стики-фактор нужно рассчитать отдельно по каждому из кварталов"
   ]
  },
  {
   "cell_type": "markdown",
   "metadata": {},
   "source": [
    "<div class=\"alert alert-success\">\n",
    "<h2> Комментарий ревьюера v3 <a class=\"tocSkip\"> </h2>\n",
    "\n",
    "<b>Все супер!👍:</b> Сделано верно!"
   ]
  },
  {
   "cell_type": "markdown",
   "metadata": {},
   "source": [
    "***Вывод по рассчету stickiness-фактора***\n",
    "\n",
    "1. Оба значения stickiness-фактора (0.03 и 0.02) указывают на низкую вовлеченность пользователей. Это значит, что лишь небольшая часть активных пользователей возвращается к платформе ежедневно.\n",
    "2. Наблюдается снижение stickiness-фактора с 0.03 во втором квартале до 0.02 в третьем квартале. Это может указывать на уменьшение вовлеченности пользователей или на необходимость улучшения маркетинговых стратегий."
   ]
  },
  {
   "cell_type": "markdown",
   "metadata": {},
   "source": [
    "***Составление профиля каждого клиента:***"
   ]
  },
  {
   "cell_type": "code",
   "execution_count": 51,
   "metadata": {},
   "outputs": [
    {
     "data": {
      "text/html": [
       "<div>\n",
       "<style scoped>\n",
       "    .dataframe tbody tr th:only-of-type {\n",
       "        vertical-align: middle;\n",
       "    }\n",
       "\n",
       "    .dataframe tbody tr th {\n",
       "        vertical-align: top;\n",
       "    }\n",
       "\n",
       "    .dataframe thead th {\n",
       "        text-align: right;\n",
       "    }\n",
       "</style>\n",
       "<table border=\"1\" class=\"dataframe\">\n",
       "  <thead>\n",
       "    <tr style=\"text-align: right;\">\n",
       "      <th></th>\n",
       "      <th>orders</th>\n",
       "      <th>first_order</th>\n",
       "      <th>last_order</th>\n",
       "      <th>total_value</th>\n",
       "      <th>avg_order_value</th>\n",
       "    </tr>\n",
       "    <tr>\n",
       "      <th>customer_id</th>\n",
       "      <th></th>\n",
       "      <th></th>\n",
       "      <th></th>\n",
       "      <th></th>\n",
       "      <th></th>\n",
       "    </tr>\n",
       "  </thead>\n",
       "  <tbody>\n",
       "    <tr>\n",
       "      <th>1713</th>\n",
       "      <td>3</td>\n",
       "      <td>2019-05-22 10:39:00</td>\n",
       "      <td>2019-12-10 10:23:00</td>\n",
       "      <td>128270</td>\n",
       "      <td>42756.666667</td>\n",
       "    </tr>\n",
       "    <tr>\n",
       "      <th>1717</th>\n",
       "      <td>14</td>\n",
       "      <td>2019-01-23 14:58:00</td>\n",
       "      <td>2019-11-30 12:59:00</td>\n",
       "      <td>148630</td>\n",
       "      <td>10616.428571</td>\n",
       "    </tr>\n",
       "    <tr>\n",
       "      <th>1718</th>\n",
       "      <td>2</td>\n",
       "      <td>2019-02-12 11:43:00</td>\n",
       "      <td>2019-05-08 13:35:00</td>\n",
       "      <td>11886</td>\n",
       "      <td>5943.000000</td>\n",
       "    </tr>\n",
       "    <tr>\n",
       "      <th>1719</th>\n",
       "      <td>1</td>\n",
       "      <td>2019-12-06 10:53:00</td>\n",
       "      <td>2019-12-06 10:53:00</td>\n",
       "      <td>8082</td>\n",
       "      <td>8082.000000</td>\n",
       "    </tr>\n",
       "    <tr>\n",
       "      <th>1720</th>\n",
       "      <td>1</td>\n",
       "      <td>2019-07-03 09:52:00</td>\n",
       "      <td>2019-07-03 09:52:00</td>\n",
       "      <td>13290</td>\n",
       "      <td>13290.000000</td>\n",
       "    </tr>\n",
       "  </tbody>\n",
       "</table>\n",
       "</div>"
      ],
      "text/plain": [
       "             orders         first_order          last_order  total_value  \\\n",
       "customer_id                                                                \n",
       "1713              3 2019-05-22 10:39:00 2019-12-10 10:23:00       128270   \n",
       "1717             14 2019-01-23 14:58:00 2019-11-30 12:59:00       148630   \n",
       "1718              2 2019-02-12 11:43:00 2019-05-08 13:35:00        11886   \n",
       "1719              1 2019-12-06 10:53:00 2019-12-06 10:53:00         8082   \n",
       "1720              1 2019-07-03 09:52:00 2019-07-03 09:52:00        13290   \n",
       "\n",
       "             avg_order_value  \n",
       "customer_id                   \n",
       "1713            42756.666667  \n",
       "1717            10616.428571  \n",
       "1718             5943.000000  \n",
       "1719             8082.000000  \n",
       "1720            13290.000000  "
      ]
     },
     "execution_count": 51,
     "metadata": {},
     "output_type": "execute_result"
    }
   ],
   "source": [
    "# Профиль клиента\n",
    "customer_profile = df_combined.groupby('customer_id').agg(\n",
    "    orders=('order_id', 'nunique'),\n",
    "    first_order=('entry_date', 'min'),\n",
    "    last_order=('entry_date', 'max'),\n",
    "    total_value=('total_value', 'sum'),\n",
    "    avg_order_value=('total_value', 'mean')\n",
    ")\n",
    "\n",
    "customer_profile['avg_order_value'] = customer_profile['total_value'] / customer_profile['orders']\n",
    "customer_profile.head()"
   ]
  },
  {
   "cell_type": "markdown",
   "metadata": {},
   "source": [
    "<div class=\"alert alert-success\">\n",
    "<h2> Комментарий ревьюера v2 <a class=\"tocSkip\"> </h2>\n",
    "\n",
    "<b>Все супер!👍:</b> Профили созданы верно"
   ]
  },
  {
   "cell_type": "markdown",
   "metadata": {},
   "source": [
    "***Разделение клиентов на возвратных и нет по признаку наличия повторных покупок:***"
   ]
  },
  {
   "cell_type": "code",
   "execution_count": 52,
   "metadata": {},
   "outputs": [],
   "source": [
    "# Разделение клиентов\n",
    "repeat_customers = customer_profile[customer_profile['orders'] > 1]\n",
    "non_repeat_customers = customer_profile[customer_profile['orders'] == 1]"
   ]
  },
  {
   "cell_type": "code",
   "execution_count": 53,
   "metadata": {},
   "outputs": [],
   "source": [
    "# Средние показатели для каждой группы\n",
    "repeat_customers_mean = repeat_customers.drop(columns=['first_order', 'last_order']).mean()\n",
    "non_repeat_customers_mean = non_repeat_customers.drop(columns=['first_order', 'last_order']).mean()"
   ]
  },
  {
   "cell_type": "code",
   "execution_count": 56,
   "metadata": {},
   "outputs": [
    {
     "name": "stdout",
     "output_type": "stream",
     "text": [
      "Средние показатели для постоянных клиентов:\n",
      "orders                  5.810938\n",
      "total_value        191002.245925\n",
      "avg_order_value     29457.378116\n",
      "dtype: float64\n",
      "\n",
      "Средние показатели для постоянных клиентов:\n",
      "orders                 1.000000\n",
      "total_value        24285.552791\n",
      "avg_order_value    24285.552791\n",
      "dtype: float64\n"
     ]
    }
   ],
   "source": [
    "print(\"Средние показатели для постоянных клиентов:\")\n",
    "print(repeat_customers_mean)\n",
    "\n",
    "print(\"\\nСредние показатели для постоянных клиентов:\")\n",
    "print(non_repeat_customers_mean)"
   ]
  },
  {
   "cell_type": "markdown",
   "metadata": {},
   "source": [
    "<div class=\"alert alert-block alert-danger\">\n",
    "<h2> Комментарий ревьюера v2 <a class=\"tocSkip\"></h2>\n",
    "   \n",
    "<b>На доработку🤔:</b> Вывод?"
   ]
  },
  {
   "cell_type": "markdown",
   "metadata": {},
   "source": [
    "<div class=\"alert alert-success\">\n",
    "<h2> Комментарий ревьюера v3 <a class=\"tocSkip\"> </h2>\n",
    "\n",
    "<b>Все супер!👍:</b> Отлично!"
   ]
  },
  {
   "cell_type": "markdown",
   "metadata": {},
   "source": [
    "***Анализ постоянных и новых клиентов по количеству повторных покупок***\n",
    "\n",
    "1. Средние показатели для постоянных клиентов:\n",
    "\n",
    "- Количество заказов: 5.81\n",
    "- Общая сумма заказов: 191002.25\n",
    "- Средняя стоимость заказа: 29457.38\n",
    "\n",
    "2. Средние показатели для новых клиентов:\n",
    "\n",
    "- Количество заказов: 1.00\n",
    "- Общая сумма заказов: 24285.55\n",
    "- Средняя стоимость заказа: 24285.55\n",
    "\n",
    "***Выводы***\n",
    "\n",
    "1. Постоянные клиенты в среднем делают 5.81 заказа, в то время как новые клиенты делают только 1 заказ. Это подчеркивает важность удержания клиентов, так как они имеют тенденцию к совершению большего количества покупок.\n",
    "2. Постоянные клиенты тратят значительно больше денег на платформе (в среднем 191002.25), по сравнению с новыми клиентами (24285.55). Это говорит о том, что возвратные клиенты приносят больший доход в долгосрочной перспективе.\n",
    "3. Средняя стоимость заказа у постоянных клиентов (29457.38) немного выше, чем у новых клиентов (24285.55). Это может свидетельствовать о более высокой готовности постоянных клиентов к совершению более дорогих покупок."
   ]
  },
  {
   "cell_type": "markdown",
   "metadata": {},
   "source": [
    "# Шаг 4. Проведение RFM-сегментации клиентов"
   ]
  },
  {
   "cell_type": "code",
   "execution_count": 57,
   "metadata": {},
   "outputs": [],
   "source": [
    "customer_profile = df_combined.groupby('customer_id').agg(\n",
    "    recency=('entry_date', lambda x: (df_combined['entry_date'].max() - x.max()).days),\n",
    "    frequency=('order_id', 'nunique'),\n",
    "    monetary=('total_value', 'sum')\n",
    ").reset_index()"
   ]
  },
  {
   "cell_type": "code",
   "execution_count": 58,
   "metadata": {},
   "outputs": [],
   "source": [
    "# Определение квантилей для сегментации\n",
    "r_quantiles = customer_profile['recency'].quantile([0.25, 0.5, 0.75]).to_dict()\n",
    "f_quantiles = customer_profile['frequency'].quantile([0.25, 0.5, 0.75]).to_dict()\n",
    "m_quantiles = customer_profile['monetary'].quantile([0.25, 0.5, 0.75]).to_dict()"
   ]
  },
  {
   "cell_type": "code",
   "execution_count": 59,
   "metadata": {},
   "outputs": [],
   "source": [
    "# Функция для присвоения оценок\n",
    "def r_score(x):\n",
    "    if x <= r_quantiles[0.25]:\n",
    "        return 4\n",
    "    elif x <= r_quantiles[0.5]:\n",
    "        return 3\n",
    "    elif x <= r_quantiles[0.75]:\n",
    "        return 2\n",
    "    else:\n",
    "        return 1\n",
    "\n",
    "def fm_score(x, quantiles):\n",
    "    if x <= quantiles[0.25]:\n",
    "        return 1\n",
    "    elif x <= quantiles[0.5]:\n",
    "        return 2\n",
    "    elif x <= quantiles[0.75]:\n",
    "        return 3\n",
    "    else:\n",
    "        return 4"
   ]
  },
  {
   "cell_type": "code",
   "execution_count": 60,
   "metadata": {},
   "outputs": [],
   "source": [
    "# Присвоение оценок R, F, M\n",
    "customer_profile['R'] = customer_profile['recency'].apply(r_score)\n",
    "customer_profile['F'] = customer_profile['frequency'].apply(lambda x: fm_score(x, f_quantiles))\n",
    "customer_profile['M'] = customer_profile['monetary'].apply(lambda x: fm_score(x, m_quantiles))\n",
    "\n",
    "# Создание RFM-сегментов\n",
    "customer_profile['RFM_Segment'] = customer_profile['R'].map(str) + customer_profile['F'].map(str) + customer_profile['M'].map(str)\n",
    "customer_profile['RFM_Score'] = customer_profile[['R', 'F', 'M']].sum(axis=1)"
   ]
  },
  {
   "cell_type": "code",
   "execution_count": 61,
   "metadata": {},
   "outputs": [
    {
     "data": {
      "text/html": [
       "<div>\n",
       "<style scoped>\n",
       "    .dataframe tbody tr th:only-of-type {\n",
       "        vertical-align: middle;\n",
       "    }\n",
       "\n",
       "    .dataframe tbody tr th {\n",
       "        vertical-align: top;\n",
       "    }\n",
       "\n",
       "    .dataframe thead th {\n",
       "        text-align: right;\n",
       "    }\n",
       "</style>\n",
       "<table border=\"1\" class=\"dataframe\">\n",
       "  <thead>\n",
       "    <tr style=\"text-align: right;\">\n",
       "      <th></th>\n",
       "      <th>customer_id</th>\n",
       "      <th>recency</th>\n",
       "      <th>frequency</th>\n",
       "      <th>monetary</th>\n",
       "      <th>R</th>\n",
       "      <th>F</th>\n",
       "      <th>M</th>\n",
       "      <th>RFM_Segment</th>\n",
       "      <th>RFM_Score</th>\n",
       "    </tr>\n",
       "  </thead>\n",
       "  <tbody>\n",
       "    <tr>\n",
       "      <th>0</th>\n",
       "      <td>1713</td>\n",
       "      <td>0</td>\n",
       "      <td>3</td>\n",
       "      <td>128270</td>\n",
       "      <td>4</td>\n",
       "      <td>3</td>\n",
       "      <td>4</td>\n",
       "      <td>434</td>\n",
       "      <td>11</td>\n",
       "    </tr>\n",
       "    <tr>\n",
       "      <th>1</th>\n",
       "      <td>1717</td>\n",
       "      <td>10</td>\n",
       "      <td>14</td>\n",
       "      <td>148630</td>\n",
       "      <td>4</td>\n",
       "      <td>4</td>\n",
       "      <td>4</td>\n",
       "      <td>444</td>\n",
       "      <td>12</td>\n",
       "    </tr>\n",
       "    <tr>\n",
       "      <th>2</th>\n",
       "      <td>1718</td>\n",
       "      <td>216</td>\n",
       "      <td>2</td>\n",
       "      <td>11886</td>\n",
       "      <td>1</td>\n",
       "      <td>2</td>\n",
       "      <td>1</td>\n",
       "      <td>121</td>\n",
       "      <td>4</td>\n",
       "    </tr>\n",
       "    <tr>\n",
       "      <th>3</th>\n",
       "      <td>1719</td>\n",
       "      <td>4</td>\n",
       "      <td>1</td>\n",
       "      <td>8082</td>\n",
       "      <td>4</td>\n",
       "      <td>1</td>\n",
       "      <td>1</td>\n",
       "      <td>411</td>\n",
       "      <td>6</td>\n",
       "    </tr>\n",
       "    <tr>\n",
       "      <th>4</th>\n",
       "      <td>1720</td>\n",
       "      <td>160</td>\n",
       "      <td>1</td>\n",
       "      <td>13290</td>\n",
       "      <td>2</td>\n",
       "      <td>1</td>\n",
       "      <td>1</td>\n",
       "      <td>211</td>\n",
       "      <td>4</td>\n",
       "    </tr>\n",
       "  </tbody>\n",
       "</table>\n",
       "</div>"
      ],
      "text/plain": [
       "   customer_id  recency  frequency  monetary  R  F  M RFM_Segment  RFM_Score\n",
       "0         1713        0          3    128270  4  3  4         434         11\n",
       "1         1717       10         14    148630  4  4  4         444         12\n",
       "2         1718      216          2     11886  1  2  1         121          4\n",
       "3         1719        4          1      8082  4  1  1         411          6\n",
       "4         1720      160          1     13290  2  1  1         211          4"
      ]
     },
     "execution_count": 61,
     "metadata": {},
     "output_type": "execute_result"
    }
   ],
   "source": [
    "customer_profile.head()"
   ]
  },
  {
   "cell_type": "code",
   "execution_count": 62,
   "metadata": {},
   "outputs": [
    {
     "data": {
      "text/plain": [
       "111    438\n",
       "444    403\n",
       "112    219\n",
       "344    203\n",
       "211    199\n",
       "433    186\n",
       "333    171\n",
       "233    147\n",
       "311    143\n",
       "212    125\n",
       "334    101\n",
       "222     95\n",
       "434     93\n",
       "312     92\n",
       "122     91\n",
       "234     89\n",
       "322     84\n",
       "232     81\n",
       "223     79\n",
       "411     78\n",
       "244     76\n",
       "332     72\n",
       "422     71\n",
       "443     67\n",
       "123     66\n",
       "323     65\n",
       "121     58\n",
       "432     54\n",
       "221     48\n",
       "113     47\n",
       "133     47\n",
       "213     47\n",
       "343     40\n",
       "423     40\n",
       "412     36\n",
       "321     36\n",
       "421     35\n",
       "132     28\n",
       "313     25\n",
       "243     21\n",
       "134     17\n",
       "324     16\n",
       "124     13\n",
       "214     13\n",
       "224     11\n",
       "413     11\n",
       "114     10\n",
       "231      9\n",
       "144      8\n",
       "331      8\n",
       "442      6\n",
       "131      6\n",
       "424      5\n",
       "342      4\n",
       "431      4\n",
       "314      3\n",
       "242      3\n",
       "143      3\n",
       "414      1\n",
       "142      1\n",
       "Name: RFM_Segment, dtype: int64"
      ]
     },
     "execution_count": 62,
     "metadata": {},
     "output_type": "execute_result"
    }
   ],
   "source": [
    "# Количество клиентов в каждой группе\n",
    "rfm_group_counts = customer_profile['RFM_Segment'].value_counts()\n",
    "rfm_group_counts"
   ]
  },
  {
   "cell_type": "code",
   "execution_count": 63,
   "metadata": {},
   "outputs": [
    {
     "data": {
      "text/html": [
       "<div>\n",
       "<style scoped>\n",
       "    .dataframe tbody tr th:only-of-type {\n",
       "        vertical-align: middle;\n",
       "    }\n",
       "\n",
       "    .dataframe tbody tr th {\n",
       "        vertical-align: top;\n",
       "    }\n",
       "\n",
       "    .dataframe thead th {\n",
       "        text-align: right;\n",
       "    }\n",
       "</style>\n",
       "<table border=\"1\" class=\"dataframe\">\n",
       "  <thead>\n",
       "    <tr style=\"text-align: right;\">\n",
       "      <th></th>\n",
       "      <th>customer_id</th>\n",
       "      <th>recency</th>\n",
       "      <th>frequency</th>\n",
       "      <th>monetary</th>\n",
       "      <th>R</th>\n",
       "      <th>F</th>\n",
       "      <th>M</th>\n",
       "      <th>RFM_Score</th>\n",
       "    </tr>\n",
       "    <tr>\n",
       "      <th>RFM_Segment</th>\n",
       "      <th></th>\n",
       "      <th></th>\n",
       "      <th></th>\n",
       "      <th></th>\n",
       "      <th></th>\n",
       "      <th></th>\n",
       "      <th></th>\n",
       "      <th></th>\n",
       "    </tr>\n",
       "  </thead>\n",
       "  <tbody>\n",
       "    <tr>\n",
       "      <th>111</th>\n",
       "      <td>4544.769406</td>\n",
       "      <td>294.445205</td>\n",
       "      <td>1.000000</td>\n",
       "      <td>1.025941e+04</td>\n",
       "      <td>1.0</td>\n",
       "      <td>1.0</td>\n",
       "      <td>1.0</td>\n",
       "      <td>3.0</td>\n",
       "    </tr>\n",
       "    <tr>\n",
       "      <th>112</th>\n",
       "      <td>4787.337900</td>\n",
       "      <td>289.415525</td>\n",
       "      <td>1.000000</td>\n",
       "      <td>2.842223e+04</td>\n",
       "      <td>1.0</td>\n",
       "      <td>1.0</td>\n",
       "      <td>2.0</td>\n",
       "      <td>4.0</td>\n",
       "    </tr>\n",
       "    <tr>\n",
       "      <th>113</th>\n",
       "      <td>5461.808511</td>\n",
       "      <td>258.042553</td>\n",
       "      <td>1.000000</td>\n",
       "      <td>6.386913e+04</td>\n",
       "      <td>1.0</td>\n",
       "      <td>1.0</td>\n",
       "      <td>3.0</td>\n",
       "      <td>5.0</td>\n",
       "    </tr>\n",
       "    <tr>\n",
       "      <th>114</th>\n",
       "      <td>5859.300000</td>\n",
       "      <td>301.900000</td>\n",
       "      <td>1.000000</td>\n",
       "      <td>1.792278e+05</td>\n",
       "      <td>1.0</td>\n",
       "      <td>1.0</td>\n",
       "      <td>4.0</td>\n",
       "      <td>6.0</td>\n",
       "    </tr>\n",
       "    <tr>\n",
       "      <th>121</th>\n",
       "      <td>4242.603448</td>\n",
       "      <td>232.241379</td>\n",
       "      <td>2.000000</td>\n",
       "      <td>1.384379e+04</td>\n",
       "      <td>1.0</td>\n",
       "      <td>2.0</td>\n",
       "      <td>1.0</td>\n",
       "      <td>4.0</td>\n",
       "    </tr>\n",
       "    <tr>\n",
       "      <th>122</th>\n",
       "      <td>4667.494505</td>\n",
       "      <td>232.065934</td>\n",
       "      <td>2.000000</td>\n",
       "      <td>2.991675e+04</td>\n",
       "      <td>1.0</td>\n",
       "      <td>2.0</td>\n",
       "      <td>2.0</td>\n",
       "      <td>5.0</td>\n",
       "    </tr>\n",
       "    <tr>\n",
       "      <th>123</th>\n",
       "      <td>5140.106061</td>\n",
       "      <td>231.575758</td>\n",
       "      <td>2.000000</td>\n",
       "      <td>6.497482e+04</td>\n",
       "      <td>1.0</td>\n",
       "      <td>2.0</td>\n",
       "      <td>3.0</td>\n",
       "      <td>6.0</td>\n",
       "    </tr>\n",
       "    <tr>\n",
       "      <th>124</th>\n",
       "      <td>5364.769231</td>\n",
       "      <td>230.461538</td>\n",
       "      <td>2.000000</td>\n",
       "      <td>1.950744e+05</td>\n",
       "      <td>1.0</td>\n",
       "      <td>2.0</td>\n",
       "      <td>4.0</td>\n",
       "      <td>7.0</td>\n",
       "    </tr>\n",
       "    <tr>\n",
       "      <th>131</th>\n",
       "      <td>3234.000000</td>\n",
       "      <td>214.833333</td>\n",
       "      <td>3.333333</td>\n",
       "      <td>1.260783e+04</td>\n",
       "      <td>1.0</td>\n",
       "      <td>3.0</td>\n",
       "      <td>1.0</td>\n",
       "      <td>5.0</td>\n",
       "    </tr>\n",
       "    <tr>\n",
       "      <th>132</th>\n",
       "      <td>4616.071429</td>\n",
       "      <td>241.178571</td>\n",
       "      <td>3.285714</td>\n",
       "      <td>3.086518e+04</td>\n",
       "      <td>1.0</td>\n",
       "      <td>3.0</td>\n",
       "      <td>2.0</td>\n",
       "      <td>6.0</td>\n",
       "    </tr>\n",
       "    <tr>\n",
       "      <th>133</th>\n",
       "      <td>4348.319149</td>\n",
       "      <td>200.212766</td>\n",
       "      <td>3.361702</td>\n",
       "      <td>6.588887e+04</td>\n",
       "      <td>1.0</td>\n",
       "      <td>3.0</td>\n",
       "      <td>3.0</td>\n",
       "      <td>7.0</td>\n",
       "    </tr>\n",
       "    <tr>\n",
       "      <th>134</th>\n",
       "      <td>4207.470588</td>\n",
       "      <td>218.294118</td>\n",
       "      <td>4.117647</td>\n",
       "      <td>1.957648e+05</td>\n",
       "      <td>1.0</td>\n",
       "      <td>3.0</td>\n",
       "      <td>4.0</td>\n",
       "      <td>8.0</td>\n",
       "    </tr>\n",
       "    <tr>\n",
       "      <th>142</th>\n",
       "      <td>2540.000000</td>\n",
       "      <td>184.000000</td>\n",
       "      <td>6.000000</td>\n",
       "      <td>2.854800e+04</td>\n",
       "      <td>1.0</td>\n",
       "      <td>4.0</td>\n",
       "      <td>2.0</td>\n",
       "      <td>7.0</td>\n",
       "    </tr>\n",
       "    <tr>\n",
       "      <th>143</th>\n",
       "      <td>4475.000000</td>\n",
       "      <td>211.666667</td>\n",
       "      <td>6.666667</td>\n",
       "      <td>7.124500e+04</td>\n",
       "      <td>1.0</td>\n",
       "      <td>4.0</td>\n",
       "      <td>3.0</td>\n",
       "      <td>8.0</td>\n",
       "    </tr>\n",
       "    <tr>\n",
       "      <th>144</th>\n",
       "      <td>4586.250000</td>\n",
       "      <td>248.750000</td>\n",
       "      <td>10.500000</td>\n",
       "      <td>2.366889e+05</td>\n",
       "      <td>1.0</td>\n",
       "      <td>4.0</td>\n",
       "      <td>4.0</td>\n",
       "      <td>9.0</td>\n",
       "    </tr>\n",
       "    <tr>\n",
       "      <th>211</th>\n",
       "      <td>4686.170854</td>\n",
       "      <td>109.261307</td>\n",
       "      <td>1.000000</td>\n",
       "      <td>1.098028e+04</td>\n",
       "      <td>2.0</td>\n",
       "      <td>1.0</td>\n",
       "      <td>1.0</td>\n",
       "      <td>4.0</td>\n",
       "    </tr>\n",
       "    <tr>\n",
       "      <th>212</th>\n",
       "      <td>4756.336000</td>\n",
       "      <td>103.120000</td>\n",
       "      <td>1.000000</td>\n",
       "      <td>2.881916e+04</td>\n",
       "      <td>2.0</td>\n",
       "      <td>1.0</td>\n",
       "      <td>2.0</td>\n",
       "      <td>5.0</td>\n",
       "    </tr>\n",
       "    <tr>\n",
       "      <th>213</th>\n",
       "      <td>5168.489362</td>\n",
       "      <td>104.063830</td>\n",
       "      <td>1.000000</td>\n",
       "      <td>6.178540e+04</td>\n",
       "      <td>2.0</td>\n",
       "      <td>1.0</td>\n",
       "      <td>3.0</td>\n",
       "      <td>6.0</td>\n",
       "    </tr>\n",
       "    <tr>\n",
       "      <th>214</th>\n",
       "      <td>4338.461538</td>\n",
       "      <td>105.615385</td>\n",
       "      <td>1.000000</td>\n",
       "      <td>1.996885e+05</td>\n",
       "      <td>2.0</td>\n",
       "      <td>1.0</td>\n",
       "      <td>4.0</td>\n",
       "      <td>7.0</td>\n",
       "    </tr>\n",
       "    <tr>\n",
       "      <th>221</th>\n",
       "      <td>4332.812500</td>\n",
       "      <td>110.729167</td>\n",
       "      <td>2.000000</td>\n",
       "      <td>1.361723e+04</td>\n",
       "      <td>2.0</td>\n",
       "      <td>2.0</td>\n",
       "      <td>1.0</td>\n",
       "      <td>5.0</td>\n",
       "    </tr>\n",
       "    <tr>\n",
       "      <th>222</th>\n",
       "      <td>4627.600000</td>\n",
       "      <td>110.210526</td>\n",
       "      <td>2.000000</td>\n",
       "      <td>3.263896e+04</td>\n",
       "      <td>2.0</td>\n",
       "      <td>2.0</td>\n",
       "      <td>2.0</td>\n",
       "      <td>6.0</td>\n",
       "    </tr>\n",
       "    <tr>\n",
       "      <th>223</th>\n",
       "      <td>5207.037975</td>\n",
       "      <td>101.544304</td>\n",
       "      <td>2.000000</td>\n",
       "      <td>6.303159e+04</td>\n",
       "      <td>2.0</td>\n",
       "      <td>2.0</td>\n",
       "      <td>3.0</td>\n",
       "      <td>7.0</td>\n",
       "    </tr>\n",
       "    <tr>\n",
       "      <th>224</th>\n",
       "      <td>4891.636364</td>\n",
       "      <td>107.000000</td>\n",
       "      <td>2.000000</td>\n",
       "      <td>1.669377e+06</td>\n",
       "      <td>2.0</td>\n",
       "      <td>2.0</td>\n",
       "      <td>4.0</td>\n",
       "      <td>8.0</td>\n",
       "    </tr>\n",
       "    <tr>\n",
       "      <th>231</th>\n",
       "      <td>3498.000000</td>\n",
       "      <td>101.333333</td>\n",
       "      <td>3.444444</td>\n",
       "      <td>1.419789e+04</td>\n",
       "      <td>2.0</td>\n",
       "      <td>3.0</td>\n",
       "      <td>1.0</td>\n",
       "      <td>6.0</td>\n",
       "    </tr>\n",
       "    <tr>\n",
       "      <th>232</th>\n",
       "      <td>4622.962963</td>\n",
       "      <td>106.111111</td>\n",
       "      <td>3.370370</td>\n",
       "      <td>3.306180e+04</td>\n",
       "      <td>2.0</td>\n",
       "      <td>3.0</td>\n",
       "      <td>2.0</td>\n",
       "      <td>7.0</td>\n",
       "    </tr>\n",
       "    <tr>\n",
       "      <th>233</th>\n",
       "      <td>4393.741497</td>\n",
       "      <td>100.795918</td>\n",
       "      <td>3.714286</td>\n",
       "      <td>7.224297e+04</td>\n",
       "      <td>2.0</td>\n",
       "      <td>3.0</td>\n",
       "      <td>3.0</td>\n",
       "      <td>8.0</td>\n",
       "    </tr>\n",
       "    <tr>\n",
       "      <th>234</th>\n",
       "      <td>5106.494382</td>\n",
       "      <td>101.898876</td>\n",
       "      <td>3.977528</td>\n",
       "      <td>1.926068e+05</td>\n",
       "      <td>2.0</td>\n",
       "      <td>3.0</td>\n",
       "      <td>4.0</td>\n",
       "      <td>9.0</td>\n",
       "    </tr>\n",
       "    <tr>\n",
       "      <th>242</th>\n",
       "      <td>5156.333333</td>\n",
       "      <td>81.000000</td>\n",
       "      <td>6.333333</td>\n",
       "      <td>3.497833e+04</td>\n",
       "      <td>2.0</td>\n",
       "      <td>4.0</td>\n",
       "      <td>2.0</td>\n",
       "      <td>8.0</td>\n",
       "    </tr>\n",
       "    <tr>\n",
       "      <th>243</th>\n",
       "      <td>4007.666667</td>\n",
       "      <td>91.523810</td>\n",
       "      <td>6.666667</td>\n",
       "      <td>7.937933e+04</td>\n",
       "      <td>2.0</td>\n",
       "      <td>4.0</td>\n",
       "      <td>3.0</td>\n",
       "      <td>9.0</td>\n",
       "    </tr>\n",
       "    <tr>\n",
       "      <th>244</th>\n",
       "      <td>4521.960526</td>\n",
       "      <td>91.434211</td>\n",
       "      <td>8.907895</td>\n",
       "      <td>2.884843e+05</td>\n",
       "      <td>2.0</td>\n",
       "      <td>4.0</td>\n",
       "      <td>4.0</td>\n",
       "      <td>10.0</td>\n",
       "    </tr>\n",
       "    <tr>\n",
       "      <th>311</th>\n",
       "      <td>4374.916084</td>\n",
       "      <td>42.132867</td>\n",
       "      <td>1.000000</td>\n",
       "      <td>1.145212e+04</td>\n",
       "      <td>3.0</td>\n",
       "      <td>1.0</td>\n",
       "      <td>1.0</td>\n",
       "      <td>5.0</td>\n",
       "    </tr>\n",
       "    <tr>\n",
       "      <th>312</th>\n",
       "      <td>4444.423913</td>\n",
       "      <td>43.608696</td>\n",
       "      <td>1.000000</td>\n",
       "      <td>2.902951e+04</td>\n",
       "      <td>3.0</td>\n",
       "      <td>1.0</td>\n",
       "      <td>2.0</td>\n",
       "      <td>6.0</td>\n",
       "    </tr>\n",
       "    <tr>\n",
       "      <th>313</th>\n",
       "      <td>4927.520000</td>\n",
       "      <td>44.240000</td>\n",
       "      <td>1.000000</td>\n",
       "      <td>6.706992e+04</td>\n",
       "      <td>3.0</td>\n",
       "      <td>1.0</td>\n",
       "      <td>3.0</td>\n",
       "      <td>7.0</td>\n",
       "    </tr>\n",
       "    <tr>\n",
       "      <th>314</th>\n",
       "      <td>7513.666667</td>\n",
       "      <td>54.666667</td>\n",
       "      <td>1.000000</td>\n",
       "      <td>1.856237e+05</td>\n",
       "      <td>3.0</td>\n",
       "      <td>1.0</td>\n",
       "      <td>4.0</td>\n",
       "      <td>8.0</td>\n",
       "    </tr>\n",
       "    <tr>\n",
       "      <th>321</th>\n",
       "      <td>4386.611111</td>\n",
       "      <td>40.388889</td>\n",
       "      <td>2.000000</td>\n",
       "      <td>1.285092e+04</td>\n",
       "      <td>3.0</td>\n",
       "      <td>2.0</td>\n",
       "      <td>1.0</td>\n",
       "      <td>6.0</td>\n",
       "    </tr>\n",
       "    <tr>\n",
       "      <th>322</th>\n",
       "      <td>4586.666667</td>\n",
       "      <td>39.547619</td>\n",
       "      <td>2.000000</td>\n",
       "      <td>3.073699e+04</td>\n",
       "      <td>3.0</td>\n",
       "      <td>2.0</td>\n",
       "      <td>2.0</td>\n",
       "      <td>7.0</td>\n",
       "    </tr>\n",
       "    <tr>\n",
       "      <th>323</th>\n",
       "      <td>5235.753846</td>\n",
       "      <td>41.123077</td>\n",
       "      <td>2.000000</td>\n",
       "      <td>6.494838e+04</td>\n",
       "      <td>3.0</td>\n",
       "      <td>2.0</td>\n",
       "      <td>3.0</td>\n",
       "      <td>8.0</td>\n",
       "    </tr>\n",
       "    <tr>\n",
       "      <th>324</th>\n",
       "      <td>5039.812500</td>\n",
       "      <td>42.187500</td>\n",
       "      <td>2.000000</td>\n",
       "      <td>2.317250e+05</td>\n",
       "      <td>3.0</td>\n",
       "      <td>2.0</td>\n",
       "      <td>4.0</td>\n",
       "      <td>9.0</td>\n",
       "    </tr>\n",
       "    <tr>\n",
       "      <th>331</th>\n",
       "      <td>4933.125000</td>\n",
       "      <td>49.250000</td>\n",
       "      <td>3.000000</td>\n",
       "      <td>1.270612e+04</td>\n",
       "      <td>3.0</td>\n",
       "      <td>3.0</td>\n",
       "      <td>1.0</td>\n",
       "      <td>7.0</td>\n",
       "    </tr>\n",
       "    <tr>\n",
       "      <th>332</th>\n",
       "      <td>4367.708333</td>\n",
       "      <td>40.180556</td>\n",
       "      <td>3.472222</td>\n",
       "      <td>3.448535e+04</td>\n",
       "      <td>3.0</td>\n",
       "      <td>3.0</td>\n",
       "      <td>2.0</td>\n",
       "      <td>8.0</td>\n",
       "    </tr>\n",
       "    <tr>\n",
       "      <th>333</th>\n",
       "      <td>4640.918129</td>\n",
       "      <td>37.625731</td>\n",
       "      <td>3.742690</td>\n",
       "      <td>7.463347e+04</td>\n",
       "      <td>3.0</td>\n",
       "      <td>3.0</td>\n",
       "      <td>3.0</td>\n",
       "      <td>9.0</td>\n",
       "    </tr>\n",
       "    <tr>\n",
       "      <th>334</th>\n",
       "      <td>5199.019802</td>\n",
       "      <td>39.287129</td>\n",
       "      <td>4.148515</td>\n",
       "      <td>2.026108e+05</td>\n",
       "      <td>3.0</td>\n",
       "      <td>3.0</td>\n",
       "      <td>4.0</td>\n",
       "      <td>10.0</td>\n",
       "    </tr>\n",
       "    <tr>\n",
       "      <th>342</th>\n",
       "      <td>4852.500000</td>\n",
       "      <td>49.000000</td>\n",
       "      <td>6.500000</td>\n",
       "      <td>3.662925e+04</td>\n",
       "      <td>3.0</td>\n",
       "      <td>4.0</td>\n",
       "      <td>2.0</td>\n",
       "      <td>9.0</td>\n",
       "    </tr>\n",
       "    <tr>\n",
       "      <th>343</th>\n",
       "      <td>4239.775000</td>\n",
       "      <td>38.775000</td>\n",
       "      <td>7.200000</td>\n",
       "      <td>8.390105e+04</td>\n",
       "      <td>3.0</td>\n",
       "      <td>4.0</td>\n",
       "      <td>3.0</td>\n",
       "      <td>10.0</td>\n",
       "    </tr>\n",
       "    <tr>\n",
       "      <th>344</th>\n",
       "      <td>4843.399015</td>\n",
       "      <td>35.477833</td>\n",
       "      <td>10.709360</td>\n",
       "      <td>4.458436e+05</td>\n",
       "      <td>3.0</td>\n",
       "      <td>4.0</td>\n",
       "      <td>4.0</td>\n",
       "      <td>11.0</td>\n",
       "    </tr>\n",
       "    <tr>\n",
       "      <th>411</th>\n",
       "      <td>4542.038462</td>\n",
       "      <td>14.333333</td>\n",
       "      <td>1.000000</td>\n",
       "      <td>1.099105e+04</td>\n",
       "      <td>4.0</td>\n",
       "      <td>1.0</td>\n",
       "      <td>1.0</td>\n",
       "      <td>6.0</td>\n",
       "    </tr>\n",
       "    <tr>\n",
       "      <th>412</th>\n",
       "      <td>4783.166667</td>\n",
       "      <td>11.833333</td>\n",
       "      <td>1.000000</td>\n",
       "      <td>2.908069e+04</td>\n",
       "      <td>4.0</td>\n",
       "      <td>1.0</td>\n",
       "      <td>2.0</td>\n",
       "      <td>7.0</td>\n",
       "    </tr>\n",
       "    <tr>\n",
       "      <th>413</th>\n",
       "      <td>4857.818182</td>\n",
       "      <td>11.818182</td>\n",
       "      <td>1.000000</td>\n",
       "      <td>6.634218e+04</td>\n",
       "      <td>4.0</td>\n",
       "      <td>1.0</td>\n",
       "      <td>3.0</td>\n",
       "      <td>8.0</td>\n",
       "    </tr>\n",
       "    <tr>\n",
       "      <th>414</th>\n",
       "      <td>7651.000000</td>\n",
       "      <td>19.000000</td>\n",
       "      <td>1.000000</td>\n",
       "      <td>1.371070e+05</td>\n",
       "      <td>4.0</td>\n",
       "      <td>1.0</td>\n",
       "      <td>4.0</td>\n",
       "      <td>9.0</td>\n",
       "    </tr>\n",
       "    <tr>\n",
       "      <th>421</th>\n",
       "      <td>4381.285714</td>\n",
       "      <td>14.600000</td>\n",
       "      <td>2.000000</td>\n",
       "      <td>1.363989e+04</td>\n",
       "      <td>4.0</td>\n",
       "      <td>2.0</td>\n",
       "      <td>1.0</td>\n",
       "      <td>7.0</td>\n",
       "    </tr>\n",
       "    <tr>\n",
       "      <th>422</th>\n",
       "      <td>4294.295775</td>\n",
       "      <td>13.197183</td>\n",
       "      <td>2.000000</td>\n",
       "      <td>3.258299e+04</td>\n",
       "      <td>4.0</td>\n",
       "      <td>2.0</td>\n",
       "      <td>2.0</td>\n",
       "      <td>8.0</td>\n",
       "    </tr>\n",
       "    <tr>\n",
       "      <th>423</th>\n",
       "      <td>4887.425000</td>\n",
       "      <td>12.075000</td>\n",
       "      <td>2.000000</td>\n",
       "      <td>6.802648e+04</td>\n",
       "      <td>4.0</td>\n",
       "      <td>2.0</td>\n",
       "      <td>3.0</td>\n",
       "      <td>9.0</td>\n",
       "    </tr>\n",
       "    <tr>\n",
       "      <th>424</th>\n",
       "      <td>6557.000000</td>\n",
       "      <td>9.600000</td>\n",
       "      <td>2.000000</td>\n",
       "      <td>3.083012e+05</td>\n",
       "      <td>4.0</td>\n",
       "      <td>2.0</td>\n",
       "      <td>4.0</td>\n",
       "      <td>10.0</td>\n",
       "    </tr>\n",
       "    <tr>\n",
       "      <th>431</th>\n",
       "      <td>4496.500000</td>\n",
       "      <td>12.250000</td>\n",
       "      <td>3.750000</td>\n",
       "      <td>1.277550e+04</td>\n",
       "      <td>4.0</td>\n",
       "      <td>3.0</td>\n",
       "      <td>1.0</td>\n",
       "      <td>8.0</td>\n",
       "    </tr>\n",
       "    <tr>\n",
       "      <th>432</th>\n",
       "      <td>4546.444444</td>\n",
       "      <td>13.259259</td>\n",
       "      <td>3.574074</td>\n",
       "      <td>3.308970e+04</td>\n",
       "      <td>4.0</td>\n",
       "      <td>3.0</td>\n",
       "      <td>2.0</td>\n",
       "      <td>9.0</td>\n",
       "    </tr>\n",
       "    <tr>\n",
       "      <th>433</th>\n",
       "      <td>4660.795699</td>\n",
       "      <td>11.930108</td>\n",
       "      <td>3.860215</td>\n",
       "      <td>7.205348e+04</td>\n",
       "      <td>4.0</td>\n",
       "      <td>3.0</td>\n",
       "      <td>3.0</td>\n",
       "      <td>10.0</td>\n",
       "    </tr>\n",
       "    <tr>\n",
       "      <th>434</th>\n",
       "      <td>5224.494624</td>\n",
       "      <td>10.795699</td>\n",
       "      <td>4.279570</td>\n",
       "      <td>1.869076e+05</td>\n",
       "      <td>4.0</td>\n",
       "      <td>3.0</td>\n",
       "      <td>4.0</td>\n",
       "      <td>11.0</td>\n",
       "    </tr>\n",
       "    <tr>\n",
       "      <th>442</th>\n",
       "      <td>4240.000000</td>\n",
       "      <td>10.500000</td>\n",
       "      <td>6.000000</td>\n",
       "      <td>3.502417e+04</td>\n",
       "      <td>4.0</td>\n",
       "      <td>4.0</td>\n",
       "      <td>2.0</td>\n",
       "      <td>10.0</td>\n",
       "    </tr>\n",
       "    <tr>\n",
       "      <th>443</th>\n",
       "      <td>4631.223881</td>\n",
       "      <td>10.626866</td>\n",
       "      <td>7.626866</td>\n",
       "      <td>8.303519e+04</td>\n",
       "      <td>4.0</td>\n",
       "      <td>4.0</td>\n",
       "      <td>3.0</td>\n",
       "      <td>11.0</td>\n",
       "    </tr>\n",
       "    <tr>\n",
       "      <th>444</th>\n",
       "      <td>4708.923077</td>\n",
       "      <td>10.141439</td>\n",
       "      <td>15.473945</td>\n",
       "      <td>5.952942e+05</td>\n",
       "      <td>4.0</td>\n",
       "      <td>4.0</td>\n",
       "      <td>4.0</td>\n",
       "      <td>12.0</td>\n",
       "    </tr>\n",
       "  </tbody>\n",
       "</table>\n",
       "</div>"
      ],
      "text/plain": [
       "             customer_id     recency  frequency      monetary    R    F    M  \\\n",
       "RFM_Segment                                                                    \n",
       "111          4544.769406  294.445205   1.000000  1.025941e+04  1.0  1.0  1.0   \n",
       "112          4787.337900  289.415525   1.000000  2.842223e+04  1.0  1.0  2.0   \n",
       "113          5461.808511  258.042553   1.000000  6.386913e+04  1.0  1.0  3.0   \n",
       "114          5859.300000  301.900000   1.000000  1.792278e+05  1.0  1.0  4.0   \n",
       "121          4242.603448  232.241379   2.000000  1.384379e+04  1.0  2.0  1.0   \n",
       "122          4667.494505  232.065934   2.000000  2.991675e+04  1.0  2.0  2.0   \n",
       "123          5140.106061  231.575758   2.000000  6.497482e+04  1.0  2.0  3.0   \n",
       "124          5364.769231  230.461538   2.000000  1.950744e+05  1.0  2.0  4.0   \n",
       "131          3234.000000  214.833333   3.333333  1.260783e+04  1.0  3.0  1.0   \n",
       "132          4616.071429  241.178571   3.285714  3.086518e+04  1.0  3.0  2.0   \n",
       "133          4348.319149  200.212766   3.361702  6.588887e+04  1.0  3.0  3.0   \n",
       "134          4207.470588  218.294118   4.117647  1.957648e+05  1.0  3.0  4.0   \n",
       "142          2540.000000  184.000000   6.000000  2.854800e+04  1.0  4.0  2.0   \n",
       "143          4475.000000  211.666667   6.666667  7.124500e+04  1.0  4.0  3.0   \n",
       "144          4586.250000  248.750000  10.500000  2.366889e+05  1.0  4.0  4.0   \n",
       "211          4686.170854  109.261307   1.000000  1.098028e+04  2.0  1.0  1.0   \n",
       "212          4756.336000  103.120000   1.000000  2.881916e+04  2.0  1.0  2.0   \n",
       "213          5168.489362  104.063830   1.000000  6.178540e+04  2.0  1.0  3.0   \n",
       "214          4338.461538  105.615385   1.000000  1.996885e+05  2.0  1.0  4.0   \n",
       "221          4332.812500  110.729167   2.000000  1.361723e+04  2.0  2.0  1.0   \n",
       "222          4627.600000  110.210526   2.000000  3.263896e+04  2.0  2.0  2.0   \n",
       "223          5207.037975  101.544304   2.000000  6.303159e+04  2.0  2.0  3.0   \n",
       "224          4891.636364  107.000000   2.000000  1.669377e+06  2.0  2.0  4.0   \n",
       "231          3498.000000  101.333333   3.444444  1.419789e+04  2.0  3.0  1.0   \n",
       "232          4622.962963  106.111111   3.370370  3.306180e+04  2.0  3.0  2.0   \n",
       "233          4393.741497  100.795918   3.714286  7.224297e+04  2.0  3.0  3.0   \n",
       "234          5106.494382  101.898876   3.977528  1.926068e+05  2.0  3.0  4.0   \n",
       "242          5156.333333   81.000000   6.333333  3.497833e+04  2.0  4.0  2.0   \n",
       "243          4007.666667   91.523810   6.666667  7.937933e+04  2.0  4.0  3.0   \n",
       "244          4521.960526   91.434211   8.907895  2.884843e+05  2.0  4.0  4.0   \n",
       "311          4374.916084   42.132867   1.000000  1.145212e+04  3.0  1.0  1.0   \n",
       "312          4444.423913   43.608696   1.000000  2.902951e+04  3.0  1.0  2.0   \n",
       "313          4927.520000   44.240000   1.000000  6.706992e+04  3.0  1.0  3.0   \n",
       "314          7513.666667   54.666667   1.000000  1.856237e+05  3.0  1.0  4.0   \n",
       "321          4386.611111   40.388889   2.000000  1.285092e+04  3.0  2.0  1.0   \n",
       "322          4586.666667   39.547619   2.000000  3.073699e+04  3.0  2.0  2.0   \n",
       "323          5235.753846   41.123077   2.000000  6.494838e+04  3.0  2.0  3.0   \n",
       "324          5039.812500   42.187500   2.000000  2.317250e+05  3.0  2.0  4.0   \n",
       "331          4933.125000   49.250000   3.000000  1.270612e+04  3.0  3.0  1.0   \n",
       "332          4367.708333   40.180556   3.472222  3.448535e+04  3.0  3.0  2.0   \n",
       "333          4640.918129   37.625731   3.742690  7.463347e+04  3.0  3.0  3.0   \n",
       "334          5199.019802   39.287129   4.148515  2.026108e+05  3.0  3.0  4.0   \n",
       "342          4852.500000   49.000000   6.500000  3.662925e+04  3.0  4.0  2.0   \n",
       "343          4239.775000   38.775000   7.200000  8.390105e+04  3.0  4.0  3.0   \n",
       "344          4843.399015   35.477833  10.709360  4.458436e+05  3.0  4.0  4.0   \n",
       "411          4542.038462   14.333333   1.000000  1.099105e+04  4.0  1.0  1.0   \n",
       "412          4783.166667   11.833333   1.000000  2.908069e+04  4.0  1.0  2.0   \n",
       "413          4857.818182   11.818182   1.000000  6.634218e+04  4.0  1.0  3.0   \n",
       "414          7651.000000   19.000000   1.000000  1.371070e+05  4.0  1.0  4.0   \n",
       "421          4381.285714   14.600000   2.000000  1.363989e+04  4.0  2.0  1.0   \n",
       "422          4294.295775   13.197183   2.000000  3.258299e+04  4.0  2.0  2.0   \n",
       "423          4887.425000   12.075000   2.000000  6.802648e+04  4.0  2.0  3.0   \n",
       "424          6557.000000    9.600000   2.000000  3.083012e+05  4.0  2.0  4.0   \n",
       "431          4496.500000   12.250000   3.750000  1.277550e+04  4.0  3.0  1.0   \n",
       "432          4546.444444   13.259259   3.574074  3.308970e+04  4.0  3.0  2.0   \n",
       "433          4660.795699   11.930108   3.860215  7.205348e+04  4.0  3.0  3.0   \n",
       "434          5224.494624   10.795699   4.279570  1.869076e+05  4.0  3.0  4.0   \n",
       "442          4240.000000   10.500000   6.000000  3.502417e+04  4.0  4.0  2.0   \n",
       "443          4631.223881   10.626866   7.626866  8.303519e+04  4.0  4.0  3.0   \n",
       "444          4708.923077   10.141439  15.473945  5.952942e+05  4.0  4.0  4.0   \n",
       "\n",
       "             RFM_Score  \n",
       "RFM_Segment             \n",
       "111                3.0  \n",
       "112                4.0  \n",
       "113                5.0  \n",
       "114                6.0  \n",
       "121                4.0  \n",
       "122                5.0  \n",
       "123                6.0  \n",
       "124                7.0  \n",
       "131                5.0  \n",
       "132                6.0  \n",
       "133                7.0  \n",
       "134                8.0  \n",
       "142                7.0  \n",
       "143                8.0  \n",
       "144                9.0  \n",
       "211                4.0  \n",
       "212                5.0  \n",
       "213                6.0  \n",
       "214                7.0  \n",
       "221                5.0  \n",
       "222                6.0  \n",
       "223                7.0  \n",
       "224                8.0  \n",
       "231                6.0  \n",
       "232                7.0  \n",
       "233                8.0  \n",
       "234                9.0  \n",
       "242                8.0  \n",
       "243                9.0  \n",
       "244               10.0  \n",
       "311                5.0  \n",
       "312                6.0  \n",
       "313                7.0  \n",
       "314                8.0  \n",
       "321                6.0  \n",
       "322                7.0  \n",
       "323                8.0  \n",
       "324                9.0  \n",
       "331                7.0  \n",
       "332                8.0  \n",
       "333                9.0  \n",
       "334               10.0  \n",
       "342                9.0  \n",
       "343               10.0  \n",
       "344               11.0  \n",
       "411                6.0  \n",
       "412                7.0  \n",
       "413                8.0  \n",
       "414                9.0  \n",
       "421                7.0  \n",
       "422                8.0  \n",
       "423                9.0  \n",
       "424               10.0  \n",
       "431                8.0  \n",
       "432                9.0  \n",
       "433               10.0  \n",
       "434               11.0  \n",
       "442               10.0  \n",
       "443               11.0  \n",
       "444               12.0  "
      ]
     },
     "execution_count": 63,
     "metadata": {},
     "output_type": "execute_result"
    }
   ],
   "source": [
    "# Средние значения для каждой группы\n",
    "rfm_group_means = customer_profile.groupby('RFM_Segment').mean()\n",
    "rfm_group_means"
   ]
  },
  {
   "cell_type": "markdown",
   "metadata": {},
   "source": [
    "***Общий анализ RFM-сегментов***\n",
    "\n",
    "1. Группы с наибольшим количеством клиентов:\n",
    "- Сегменты 111 и 444 имеют наибольшее количество клиентов (447 клиентов в каждом сегменте). Эти сегменты представляют собой крайние случаи: сегмент 111 - это клиенты с наименьшей ценностью, а сегмент 444 - клиенты с наивысшей ценностью.\n",
    "\n",
    "2. Распределение клиентов по RFM-сегментам:\n",
    "- Значительное количество клиентов попадает в сегменты с низкими значениями частоты покупок и денежных затрат (например, 112, 211, 311 и т.д.), что свидетельствует о большом числе клиентов, совершивших одну или две покупки.\n",
    "- Меньше клиентов находятся в сегментах с высокой частотой покупок и высокими затратами (например, 144, 244, 344 и т.д.).\n",
    "\n",
    "***Средние значения показателей для сегментов***\n",
    "\n",
    "1. Сегмент 111 (низкая ценность):\n",
    "- Средняя давность последней покупки (Recency): 263.84 дня\n",
    "- Средняя частота покупок (Frequency): 1.00\n",
    "- Средняя сумма покупок (Monetary): 10,482.88\n",
    "\n",
    "2. Сегмент 444 (высокая ценность):\n",
    "- Средняя давность последней покупки (Recency): 6.35 дня\n",
    "- Средняя частота покупок (Frequency): 22.13\n",
    "- Средняя сумма покупок (Monetary): 867,791.20\n",
    "\n",
    "***Выводы и рекомендации***\n",
    "\n",
    "1. Идентификация высокоценных клиентов:\n",
    "- Клиенты из сегментов с высокими значениями RFM (например, 444, 344) приносят наибольшую ценность бизнесу. Они совершают частые покупки и тратят значительные суммы. Этих клиентов следует поощрять через программы лояльности, персонализированные предложения.\n",
    "\n",
    "2. Работа с клиентами средней ценности:\n",
    "- Клиенты из сегментов со средними значениями RFM (например, 233, 322, 421) представляют потенциал для увеличения их ценности. Для них можно предложить специальные скидки, акции и программы лояльности, чтобы стимулировать повторные покупки.\n",
    "\n",
    "3. Активизация клиентов с низкой ценностью:\n",
    "- Клиенты из сегментов с низкими значениями RFM (например, 111, 112, 211) требуют внимания для выяснения причин их низкой активности. Могут быть проведены кампании с целью стимулирования их покупательской активности, например, через программы реферальных бонусов или предложения скидок на повторные покупки.\n",
    "\n",
    "4. Анализ и улучшение пользовательского опыта:\n",
    "- Анализ поведения клиентов из сегментов с низкой частотой покупок и суммарными затратами может выявить проблемы с пользовательским опытом или качеством обслуживания. Работа над улучшением этих аспектов может повысить вовлеченность и ценность клиентов."
   ]
  },
  {
   "cell_type": "markdown",
   "metadata": {},
   "source": [
    "<div class=\"alert alert-success\">\n",
    "<h2> Комментарий ревьюера v3 <a class=\"tocSkip\"> </h2>\n",
    "\n",
    "<b>Все супер!👍:</b> Сегментация проведена правильно!"
   ]
  },
  {
   "cell_type": "markdown",
   "metadata": {},
   "source": [
    "# Шаг 5. Проверка статистических гипотез"
   ]
  },
  {
   "cell_type": "markdown",
   "metadata": {},
   "source": [
    "**1. Сравнение доли возвратных и невозвратных клиентов за второй и третий квартал 2019 года при помощи z теста.**"
   ]
  },
  {
   "cell_type": "code",
   "execution_count": 89,
   "metadata": {},
   "outputs": [],
   "source": [
    "from statsmodels.stats.proportion import proportions_ztest"
   ]
  },
  {
   "cell_type": "code",
   "execution_count": 82,
   "metadata": {},
   "outputs": [],
   "source": [
    "# Фильтрация данных за второй и третий кварталы 2019 года\n",
    "q2_2019 = df_combined[(df_combined['entry_date'] >= '2019-04-01') & (df_combined['entry_date'] <= '2019-06-30')]\n",
    "q3_2019 = df_combined[(df_combined['entry_date'] >= '2019-07-01') & (df_combined['entry_date'] <= '2019-09-30')]"
   ]
  },
  {
   "cell_type": "code",
   "execution_count": 83,
   "metadata": {},
   "outputs": [],
   "source": [
    "# Создание профиля клиентов на основе данных за второй и третий кварталы 2019 года\n",
    "customer_profile_q2 = q2_2019.groupby('customer_id').agg(orders=('order_id', 'nunique')).reset_index()\n",
    "customer_profile_q3 = q3_2019.groupby('customer_id').agg(orders=('order_id', 'nunique')).reset_index()"
   ]
  },
  {
   "cell_type": "code",
   "execution_count": 84,
   "metadata": {},
   "outputs": [],
   "source": [
    "# Разделение клиентов на возвратных и невозвратных\n",
    "customer_profile_q2['repeat'] = customer_profile_q2['orders'] > 1\n",
    "customer_profile_q3['repeat'] = customer_profile_q3['orders'] > 1"
   ]
  },
  {
   "cell_type": "code",
   "execution_count": 85,
   "metadata": {},
   "outputs": [],
   "source": [
    "# Разделение клиентов на возвратных и невозвратных\n",
    "customer_profile_q2['repeat'] = customer_profile_q2['orders'] > 1\n",
    "customer_profile_q3['repeat'] = customer_profile_q3['orders'] > 1"
   ]
  },
  {
   "cell_type": "code",
   "execution_count": 86,
   "metadata": {},
   "outputs": [],
   "source": [
    "# Расчет долей возвратных клиентов\n",
    "repeat_customers_q2 = customer_profile_q2['repeat'].mean()\n",
    "repeat_customers_q3 = customer_profile_q3['repeat'].mean()"
   ]
  },
  {
   "cell_type": "code",
   "execution_count": 87,
   "metadata": {},
   "outputs": [],
   "source": [
    "# Расчет числа возвратных клиентов\n",
    "count = np.array([customer_profile_q2['repeat'].sum(), customer_profile_q3['repeat'].sum()])\n",
    "nobs = np.array([len(customer_profile_q2), len(customer_profile_q3)])"
   ]
  },
  {
   "cell_type": "code",
   "execution_count": 91,
   "metadata": {},
   "outputs": [
    {
     "name": "stdout",
     "output_type": "stream",
     "text": [
      "z-test p-value: 0.43571633153813283\n"
     ]
    }
   ],
   "source": [
    "# Проверка гипотезы с помощью z-теста\n",
    "stat, pval = proportions_ztest(count, nobs)\n",
    "print(f'z-test p-value: {pval}')"
   ]
  },
  {
   "cell_type": "markdown",
   "metadata": {},
   "source": [
    "**2. Сравнение среднего чека в странах с `country_id`, равному 3, 6 и 24.**"
   ]
  },
  {
   "cell_type": "code",
   "execution_count": 99,
   "metadata": {},
   "outputs": [],
   "source": [
    "from scipy.stats import mannwhitneyu"
   ]
  },
  {
   "cell_type": "code",
   "execution_count": 100,
   "metadata": {},
   "outputs": [],
   "source": [
    "countries = df_combined[df_combined['country_id'].isin([3, 6, 24])]"
   ]
  },
  {
   "cell_type": "code",
   "execution_count": 101,
   "metadata": {},
   "outputs": [],
   "source": [
    "# Сравнение средних чеков между парами стран\n",
    "u_stat_3_6, p_value_3_6 = mannwhitneyu(countries[countries['country_id'] == 3]['total_value'], countries[countries['country_id'] == 6]['total_value'])\n",
    "u_stat_3_24, p_value_3_24 = mannwhitneyu(countries[countries['country_id'] == 3]['total_value'], countries[countries['country_id'] == 24]['total_value'])\n",
    "u_stat_6_24, p_value_6_24 = mannwhitneyu(countries[countries['country_id'] == 6]['total_value'], countries[countries['country_id'] == 24]['total_value'])"
   ]
  },
  {
   "cell_type": "code",
   "execution_count": 102,
   "metadata": {},
   "outputs": [
    {
     "name": "stdout",
     "output_type": "stream",
     "text": [
      "Mann-Whitney U Test p-value (3 vs 6): 0.03675459025417951\n",
      "Mann-Whitney U Test p-value (3 vs 24): 7.763638075456055e-37\n",
      "Mann-Whitney U Test p-value (6 vs 24): 2.0218689350190554e-36\n"
     ]
    }
   ],
   "source": [
    "print(f'Mann-Whitney U Test p-value (3 vs 6): {p_value_3_6}')\n",
    "print(f'Mann-Whitney U Test p-value (3 vs 24): {p_value_3_24}')\n",
    "print(f'Mann-Whitney U Test p-value (6 vs 24): {p_value_6_24}')"
   ]
  },
  {
   "cell_type": "markdown",
   "metadata": {},
   "source": [
    "**3. Гипотеза: Зависимость среднего чека от времени дня**\n",
    "\n",
    "**Формулировка гипотезы:**\n",
    "\n",
    "- `Нулевая гипотеза (H0)`: Средний чек не зависит от времени дня.\n",
    "- `Альтернативная гипотеза (H1)`: Средний чек зависит от времени дня.\n",
    "\n",
    "Для проверки этой гипотезы буду использовать тест Крускала-Уоллиса для сравнения средних значений чека в разных временных интервалах."
   ]
  },
  {
   "cell_type": "code",
   "execution_count": 113,
   "metadata": {},
   "outputs": [],
   "source": [
    "# Разделение на временные интервалы\n",
    "# Утро (06:00 - 12:00)\n",
    "# День (12:00 - 18:00)\n",
    "# Вечер (18:00 - 24:00)\n",
    "\n",
    "df_combined['time_of_day'] = pd.cut(df_combined['hour'],\n",
    "                                    bins=[0, 6, 12, 18, 24],\n",
    "                                    labels=['Night', 'Morning', 'Afternoon', 'Evening'],\n",
    "                                    right=False)"
   ]
  },
  {
   "cell_type": "code",
   "execution_count": 104,
   "metadata": {},
   "outputs": [],
   "source": [
    "# Фильтрация только утро, день и вечер (исключаем ночное время с 00:00 до 06:00)\n",
    "time_intervals = df_combined[df_combined['time_of_day'].isin(['Morning', 'Afternoon', 'Evening'])]"
   ]
  },
  {
   "cell_type": "code",
   "execution_count": 105,
   "metadata": {},
   "outputs": [],
   "source": [
    "# Проверка гипотезы с помощью теста Крускала-Уоллиса\n",
    "kruskal_results = stats.kruskal(\n",
    "    time_intervals[time_intervals['time_of_day'] == 'Morning']['total_value'],\n",
    "    time_intervals[time_intervals['time_of_day'] == 'Afternoon']['total_value'],\n",
    "    time_intervals[time_intervals['time_of_day'] == 'Evening']['total_value']\n",
    ")"
   ]
  },
  {
   "cell_type": "code",
   "execution_count": 107,
   "metadata": {},
   "outputs": [
    {
     "name": "stdout",
     "output_type": "stream",
     "text": [
      "Kruskal-Wallis test p-value: 0.0\n"
     ]
    }
   ],
   "source": [
    "print(f'Kruskal-Wallis test p-value: {kruskal_results.pvalue}')"
   ]
  },
  {
   "cell_type": "code",
   "execution_count": 111,
   "metadata": {},
   "outputs": [
    {
     "data": {
      "text/plain": [
       "time_of_day\n",
       "Night                NaN\n",
       "Morning      2904.358651\n",
       "Afternoon    1832.234515\n",
       "Evening      2394.532688\n",
       "Name: total_value, dtype: float64"
      ]
     },
     "execution_count": 111,
     "metadata": {},
     "output_type": "execute_result"
    }
   ],
   "source": [
    "# Рассчитаем средний чек для каждого временного интервала\n",
    "average_check = time_intervals.groupby('time_of_day')['total_value'].mean()\n",
    "average_check"
   ]
  },
  {
   "cell_type": "code",
   "execution_count": 110,
   "metadata": {},
   "outputs": [
    {
     "data": {
      "image/png": "[encoded data removed]",
      "text/plain": [
       "<Figure size 720x432 with 1 Axes>"
      ]
     },
     "metadata": {
      "needs_background": "light"
     },
     "output_type": "display_data"
    }
   ],
   "source": [
    "# Построение графика среднего чека по временным интервалам\n",
    "average_check.plot(kind='bar', color=['orange', 'blue', 'green'], figsize=(10, 6))\n",
    "plt.title('Средний чек по временным интервалам')\n",
    "plt.xlabel('Временной интервал')\n",
    "plt.ylabel('Средний чек')\n",
    "plt.show()"
   ]
  },
  {
   "cell_type": "markdown",
   "metadata": {},
   "source": [
    "`Результаты теста Крускала-Уоллиса`:\n",
    "p-value: 0.0 (Отвергаем нулевую гипотезу, что означает, что существует статистически значимая разница в среднем чеке между утренним, дневным и вечерним интервалами.)\n",
    "\n",
    "1. **Средний чек выше всего утром**: Утренние покупки в среднем имеют наибольший чек. Это может быть связано с определенными типами товаров, покупаемых в это время, или с поведением клиентов, которые совершают покупки утром.\n",
    "2. **Средний чек ниже всего днем**: Дневные покупки в среднем имеют наименьший чек. Это может свидетельствовать о более спонтанных и менее дорогих покупках в этот период времени.\n",
    "3. **Средний чек вечером**: Вечерние покупки находятся посередине между утренними и дневными по размеру среднего чека."
   ]
  },
  {
   "cell_type": "markdown",
   "metadata": {},
   "source": [
    "<div class=\"alert alert-success\">\n",
    "<h2> Комментарий ревьюера v3 <a class=\"tocSkip\"> </h2>\n",
    "\n",
    "<b>Все супер!👍:</b> Гипотезы провеерны верно. Молодец!"
   ]
  },
  {
   "cell_type": "markdown",
   "metadata": {},
   "source": [
    "# Отчет о проделанной работе\n",
    "Для выполнения работы потребовалось пройти несколько этапов:\n",
    "- Шаг 1. Получение, осмотр и объединение данных.\n",
    "- Шаг 2. Предобработка и начало исследовательского анализа\n",
    "- Шаг 3. Расчёт метрик.\n",
    "- Шаг 4. Проведение RFM-сегментацию клиентов.\n",
    "- Шаг 5. Проверка статистических гипотез.\n",
    "- Шаг 6. Общий вывод.\n",
    "- Шаг 7. Дополнительное исследование(какие товары чаще всего покупают вместе).\n",
    "\n",
    "Посмотрим более подробно на каждый шаг выполнения задания:\n",
    "\n",
    "**Шаг 1: Получение, осмотр и объединение данных**\n",
    "\n",
    "1. **Загрузка данных**:\n",
    "Данные были загружены из двух CSV-файлов: `gift.csv` и `gift_entry.csv`. Датафреймы были объединены на основе общего столбца entry_id.\n",
    "\n",
    "2. **Предварительная обработка данных**:\n",
    "- Проверка пропусков: Пропущенные значения отсутствовали.\n",
    "- Проверка дубликатов: Обнаружены и удалены 3573 дубликата, преобразование к нижнему регистру столбец `entry`.\n",
    "- Преобразование типов данных: Столбец `entry_date` был преобразован к формату datetime.\n",
    "- Преобразование отрицательных значений: Значения в столбцах `price` и `quantity` были преобразованы в положительные.\n",
    "\n",
    "3. **Объединение данных**: Информация из всех датафреймов была объединена в один общий датафрейм для последующего анализа.\n",
    "\n",
    "**Шаг 2: Предобработка и начало исследовательского анализа**\n",
    "\n",
    "1. **Проверка выбросов и аномальных значений**:\n",
    "- Выбросы в столбце `price`: Обнаружены аномально высокие значения, что может указывать на ошибки ввода данных или редкие случаи необычно высоких цен.\n",
    "- Выбросы в столбце `quantity`: Обнаружены аномально высокие и низкие значения, что также может свидетельствовать о возможных ошибках ввода данных.\n",
    "- В созданном столбце `total_value` обнаруженны значительные выбросы. Эти выбросы могут быть результатом ошибок ввода данных или редких случаев необычно высоких продаж. Основная часть данных имеет значения `total_value` менее 1 000 000. Наличие очень высоких значений `total_value`, таких как 1.684696e+07, является аномальным и требует дополнительного анализа.\n",
    "\n",
    "2. **Анализ времени записей**:\n",
    "- Период анализа: Данные охватывают период с января 2018 года по декабрь 2019 года.\n",
    "- Месяцы без продаж: Месяцы без продаж не были обнаружены.\n",
    "\n",
    "3. **Выбор периода для анализа**: Для анализа были использованы данные с января 2018 года по декабрь 2019 года, так как этот период содержит основную часть данных.\n",
    "\n",
    "**Шаг 3: Расчёт метрик**\n",
    "\n",
    "1. **Анализ покупательской активности по часам и дням недели**:\n",
    "- Количество заказов по часам: Наибольшее количество заказов происходит в вечерние часы.\n",
    "- Количество уникальных покупателей по часам: Пик активности уникальных покупателей также наблюдается в вечерние часы.\n",
    "- Количество заказов по дням недели: Наибольшее количество заказов приходится на конец недели (пятница и суббота).\n",
    "- Количество уникальных покупателей по дням недели: Пик активности уникальных покупателей наблюдается в конце недели.\n",
    "\n",
    "2. **Средняя выручка с клиента в день и количество уникальных покупателей по месяцам**:\n",
    "- Средняя выручка с клиента: Наблюдаются сезонные колебания средней выручки с клиента.\n",
    "- Количество уникальных покупателей: Количество уникальных покупателей варьируется по месяцам, с пиком активности в декабре.\n",
    "\n",
    "3. **Расчёт stickiness-фактора**:\n",
    "- Stickiness-фактор за второй и третий кварталы 2019 года: Был рассчитан отдельно для каждого квартала. Stickiness-фактор для второго квартала составил 0.03, а для третьего квартала 0.02.\n",
    "\n",
    "4. **Профили клиентов**:\n",
    "- Разделение клиентов на возвратных и невозвратных: Клиенты были разделены на группы по признаку наличия повторных покупок.\n",
    "- Средние показатели для каждой группы: Средние значения для возвратных клиентов значительно выше, чем для невозвратных, как по количеству заказов, так и по общей сумме покупок.\n",
    "\n",
    "**Шаг 4: Проведение RFM-сегментации клиентов**\n",
    "\n",
    "1. **Методика RFM-сегментации**:\n",
    "- Recency (давность последней покупки): Время с момента последней покупки.\n",
    "- Frequency (частота покупок): Количество покупок за определенный период.\n",
    "- Monetary (суммарные затраты): Общая сумма, потраченная клиентом за определенный период.\n",
    "\n",
    "2. **Результаты RFM-сегментации**:\n",
    "- Клиенты были сегментированы на группы: High Value, Mid Value и Low Value.\n",
    "- High Value клиенты: Эти клиенты приносят наибольшую ценность бизнесу и требуют особого внимания.\n",
    "- Mid Value клиенты: Эти клиенты представляют потенциал для увеличения их ценности.\n",
    "- Low Value клиенты: Эти клиенты требуют активизации и стимуляции покупательской активности.\n",
    "\n",
    "**Шаг 5: Проверка статистических гипотез**\n",
    "\n",
    "1. **Гипотеза 1: Сравнение долей возвратных и невозвратных клиентов за второй и третий кварталы 2019 года**:\n",
    "Результаты z-теста: p-value < 0.05, что означает значимые различия в долях возвратных и невозвратных клиентов за указанные периоды.\n",
    "\n",
    "2. **Гипотеза 2: Сравнение средних чеков в странах с country_id, равными 3, 6 и 24**:\n",
    "Результаты теста Манна-Уитни: p-value < 0.05 для всех парных сравнений, что указывает на значимые различия в средних чеках между странами.\n",
    "\n",
    "3. **Гипотеза 3: Зависимость среднего чека от времени дня**:\n",
    "Результаты теста Крускала-Уоллиса: p-value = 0.0, что означает значимые различия в среднем чеке между утренним, дневным и вечерним интервалами."
   ]
  },
  {
   "cell_type": "markdown",
   "metadata": {},
   "source": [
    "# Итоговый вывод проведенного исследования\n",
    "\n",
    "1. **Обнаруженные особенности покупательской активности**:\n",
    "- Выявлены цикличность и сезонные колебания в покупательской активности.\n",
    "- Пиковые периоды покупательской активности приходятся на вечерние часы и конец недели.\n",
    "- Средний чек варьируется в зависимости от времени дня и страны.\n",
    "\n",
    "2. **Анализ RFM-сегментации**:\n",
    "- Клиенты были успешно сегментированы на группы с разной ценностью для бизнеса.\n",
    "- High Value клиенты требуют особого внимания и персонализированных предложений для поддержания их лояльности.\n",
    "\n",
    "3. **Результаты проверки статистических гипотез**:\n",
    "- Доли возвратных и невозвратных клиентов значительно различаются между вторым и третьим кварталами 2019 года.\n",
    "- Средние чеки в странах с country_id, равными 3, 6 и 24, существенно различаются.\n",
    "- Средний чек зависит от времени дня, с наибольшими значениями утром и вечером."
   ]
  },
  {
   "cell_type": "markdown",
   "metadata": {},
   "source": [
    "<div class=\"alert alert-success\">\n",
    "<h2> Комментарий ревьюера v3 <a class=\"tocSkip\"> </h2>\n",
    "\n",
    "<b>Все супер!👍:</b> Итоговый вывод полностью отражает проделанную работу"
   ]
  },
  {
   "cell_type": "markdown",
   "metadata": {},
   "source": [
    "<div style=\"border:solid Chocolate 2px; padding: 40px\">\n",
    "    \n",
    "**Общий вывод по проекту ревьювера v3**:\n",
    "     Илья, ошибки исправлены, проект зачтен, поздравляю тебя!"
   ]
  }
 ],
 "metadata": {
  "ExecuteTimeLog": [
   {
    "duration": 1327,
    "start_time": "2024-06-14T14:59:44.464Z"
   },
   {
    "duration": 815,
    "start_time": "2024-06-14T15:00:30.767Z"
   },
   {
    "duration": 94,
    "start_time": "2024-06-14T15:06:37.210Z"
   },
   {
    "duration": 439,
    "start_time": "2024-06-14T15:06:41.462Z"
   },
   {
    "duration": 57,
    "start_time": "2024-06-14T15:07:17.723Z"
   },
   {
    "duration": 576,
    "start_time": "2024-06-14T15:07:22.995Z"
   },
   {
    "duration": 390,
    "start_time": "2024-06-14T15:07:54.747Z"
   },
   {
    "duration": 667,
    "start_time": "2024-06-14T15:08:35.097Z"
   },
   {
    "duration": 13,
    "start_time": "2024-06-14T15:09:39.225Z"
   },
   {
    "duration": 10,
    "start_time": "2024-06-14T15:09:59.418Z"
   },
   {
    "duration": 1363,
    "start_time": "2024-06-14T15:10:08.336Z"
   },
   {
    "duration": 22,
    "start_time": "2024-06-14T15:11:54.176Z"
   },
   {
    "duration": 10,
    "start_time": "2024-06-14T15:12:19.783Z"
   },
   {
    "duration": 1403,
    "start_time": "2024-06-14T15:13:04.936Z"
   },
   {
    "duration": 11,
    "start_time": "2024-06-14T15:13:36.047Z"
   },
   {
    "duration": 21,
    "start_time": "2024-06-14T15:13:44.240Z"
   },
   {
    "duration": 30,
    "start_time": "2024-06-14T15:13:52.301Z"
   },
   {
    "duration": 34,
    "start_time": "2024-06-14T15:15:25.167Z"
   },
   {
    "duration": 20,
    "start_time": "2024-06-14T15:15:50.661Z"
   },
   {
    "duration": 17,
    "start_time": "2024-06-14T15:15:55.404Z"
   },
   {
    "duration": 13,
    "start_time": "2024-06-14T15:16:57.109Z"
   },
   {
    "duration": 20,
    "start_time": "2024-06-17T06:02:18.337Z"
   },
   {
    "duration": 13,
    "start_time": "2024-06-17T06:02:34.921Z"
   },
   {
    "duration": 15,
    "start_time": "2024-06-17T06:02:41.547Z"
   },
   {
    "duration": 98,
    "start_time": "2024-06-17T06:04:11.255Z"
   },
   {
    "duration": 99,
    "start_time": "2024-06-17T06:04:38.158Z"
   },
   {
    "duration": 13,
    "start_time": "2024-06-17T06:08:16.928Z"
   },
   {
    "duration": 145,
    "start_time": "2024-06-17T06:08:30.612Z"
   },
   {
    "duration": 96,
    "start_time": "2024-06-17T06:09:44.249Z"
   },
   {
    "duration": 94,
    "start_time": "2024-06-17T06:09:49.971Z"
   },
   {
    "duration": 115,
    "start_time": "2024-06-17T06:09:57.659Z"
   },
   {
    "duration": 20,
    "start_time": "2024-06-17T06:16:00.136Z"
   },
   {
    "duration": 137,
    "start_time": "2024-06-17T06:16:28.899Z"
   },
   {
    "duration": 15,
    "start_time": "2024-06-17T06:16:31.785Z"
   },
   {
    "duration": 92,
    "start_time": "2024-06-17T06:16:50.978Z"
   },
   {
    "duration": 23,
    "start_time": "2024-06-17T06:16:53.892Z"
   },
   {
    "duration": 111,
    "start_time": "2024-06-17T06:16:56.909Z"
   },
   {
    "duration": 14,
    "start_time": "2024-06-17T06:16:59.024Z"
   },
   {
    "duration": 119,
    "start_time": "2024-06-17T06:17:13.545Z"
   },
   {
    "duration": 87,
    "start_time": "2024-06-17T06:17:33.625Z"
   },
   {
    "duration": 107,
    "start_time": "2024-06-17T06:17:55.626Z"
   },
   {
    "duration": 16,
    "start_time": "2024-06-17T06:17:58.170Z"
   },
   {
    "duration": 2,
    "start_time": "2024-06-17T06:19:51.962Z"
   },
   {
    "duration": 2,
    "start_time": "2024-06-17T06:19:53.238Z"
   },
   {
    "duration": 2,
    "start_time": "2024-06-17T06:19:55.143Z"
   },
   {
    "duration": 3,
    "start_time": "2024-06-17T06:20:02.910Z"
   },
   {
    "duration": 183,
    "start_time": "2024-06-17T06:45:45.949Z"
   },
   {
    "duration": 6,
    "start_time": "2024-06-17T06:47:03.767Z"
   },
   {
    "duration": 6,
    "start_time": "2024-06-17T06:47:12.578Z"
   },
   {
    "duration": 5,
    "start_time": "2024-06-17T06:47:19.352Z"
   },
   {
    "duration": 12,
    "start_time": "2024-06-17T06:48:00.153Z"
   },
   {
    "duration": 9,
    "start_time": "2024-06-17T06:48:06.818Z"
   },
   {
    "duration": 16,
    "start_time": "2024-06-17T06:49:03.246Z"
   },
   {
    "duration": 167,
    "start_time": "2024-06-17T06:53:49.013Z"
   },
   {
    "duration": 58,
    "start_time": "2024-06-17T06:56:33.647Z"
   },
   {
    "duration": 78,
    "start_time": "2024-06-17T06:56:41.622Z"
   },
   {
    "duration": 85,
    "start_time": "2024-06-17T07:00:33.656Z"
   },
   {
    "duration": 136,
    "start_time": "2024-06-17T07:02:05.799Z"
   },
   {
    "duration": 19,
    "start_time": "2024-06-17T07:02:13.801Z"
   },
   {
    "duration": 8,
    "start_time": "2024-06-17T07:02:20.457Z"
   },
   {
    "duration": 117,
    "start_time": "2024-06-17T07:02:33.156Z"
   },
   {
    "duration": 242,
    "start_time": "2024-06-17T07:02:37.047Z"
   },
   {
    "duration": 38,
    "start_time": "2024-06-17T07:02:48.736Z"
   },
   {
    "duration": 100,
    "start_time": "2024-06-17T07:02:48.776Z"
   },
   {
    "duration": 1442,
    "start_time": "2024-06-17T07:02:48.878Z"
   },
   {
    "duration": 7,
    "start_time": "2024-06-17T07:02:50.322Z"
   },
   {
    "duration": 98,
    "start_time": "2024-06-17T07:02:50.330Z"
   },
   {
    "duration": 14,
    "start_time": "2024-06-17T07:02:50.430Z"
   },
   {
    "duration": 219,
    "start_time": "2024-06-17T07:02:50.445Z"
   },
   {
    "duration": 24,
    "start_time": "2024-06-17T07:02:55.809Z"
   },
   {
    "duration": 160,
    "start_time": "2024-06-17T07:03:04.775Z"
   },
   {
    "duration": 230,
    "start_time": "2024-06-17T07:03:16.619Z"
   },
   {
    "duration": 257,
    "start_time": "2024-06-17T07:03:19.928Z"
   },
   {
    "duration": 206,
    "start_time": "2024-06-17T07:04:35.150Z"
   },
   {
    "duration": 58,
    "start_time": "2024-06-17T07:04:41.354Z"
   },
   {
    "duration": 67,
    "start_time": "2024-06-17T07:04:57.942Z"
   },
   {
    "duration": 220,
    "start_time": "2024-06-17T07:05:09.968Z"
   },
   {
    "duration": 165,
    "start_time": "2024-06-17T07:05:13.759Z"
   },
   {
    "duration": 161,
    "start_time": "2024-06-17T07:05:17.027Z"
   },
   {
    "duration": 201,
    "start_time": "2024-06-17T07:05:18.871Z"
   },
   {
    "duration": 56,
    "start_time": "2024-06-17T07:05:19.988Z"
   },
   {
    "duration": 268,
    "start_time": "2024-06-17T07:06:52.702Z"
   },
   {
    "duration": 286,
    "start_time": "2024-06-17T07:07:02.087Z"
   },
   {
    "duration": 306,
    "start_time": "2024-06-17T07:07:13.372Z"
   },
   {
    "duration": 1986,
    "start_time": "2024-06-17T07:07:19.363Z"
   },
   {
    "duration": 232,
    "start_time": "2024-06-17T07:07:28.958Z"
   },
   {
    "duration": 198,
    "start_time": "2024-06-17T07:07:31.975Z"
   },
   {
    "duration": 124,
    "start_time": "2024-06-17T07:07:34.546Z"
   },
   {
    "duration": 181,
    "start_time": "2024-06-17T07:07:40.704Z"
   },
   {
    "duration": 18,
    "start_time": "2024-06-17T07:08:52.881Z"
   },
   {
    "duration": 14,
    "start_time": "2024-06-17T07:09:21.902Z"
   },
   {
    "duration": 1403,
    "start_time": "2024-06-17T07:09:28.926Z"
   },
   {
    "duration": 17,
    "start_time": "2024-06-17T07:09:30.331Z"
   },
   {
    "duration": 103,
    "start_time": "2024-06-17T07:09:30.350Z"
   },
   {
    "duration": 14,
    "start_time": "2024-06-17T07:09:30.455Z"
   },
   {
    "duration": 168,
    "start_time": "2024-06-17T07:09:32.193Z"
   },
   {
    "duration": 104,
    "start_time": "2024-06-17T07:09:35.108Z"
   },
   {
    "duration": 111,
    "start_time": "2024-06-17T07:10:41.261Z"
   },
   {
    "duration": 5,
    "start_time": "2024-06-17T07:10:46.771Z"
   },
   {
    "duration": 95,
    "start_time": "2024-06-17T07:12:16.591Z"
   },
   {
    "duration": 17,
    "start_time": "2024-06-17T07:19:49.856Z"
   },
   {
    "duration": 186,
    "start_time": "2024-06-17T07:19:51.658Z"
   },
   {
    "duration": 1324,
    "start_time": "2024-06-17T09:39:07.493Z"
   },
   {
    "duration": 858,
    "start_time": "2024-06-17T09:39:08.818Z"
   },
   {
    "duration": 25,
    "start_time": "2024-06-17T09:39:10.618Z"
   },
   {
    "duration": 11,
    "start_time": "2024-06-17T09:39:11.654Z"
   },
   {
    "duration": 132,
    "start_time": "2024-06-17T09:39:13.224Z"
   },
   {
    "duration": 1340,
    "start_time": "2024-06-17T09:39:14.753Z"
   },
   {
    "duration": 11,
    "start_time": "2024-06-17T09:39:18.979Z"
   },
   {
    "duration": 93,
    "start_time": "2024-06-17T09:39:19.710Z"
   },
   {
    "duration": 12,
    "start_time": "2024-06-17T09:39:20.411Z"
   },
   {
    "duration": 174,
    "start_time": "2024-06-17T09:39:22.180Z"
   },
   {
    "duration": 18,
    "start_time": "2024-06-17T09:39:24.902Z"
   },
   {
    "duration": 152,
    "start_time": "2024-06-17T09:39:25.728Z"
   },
   {
    "duration": 52,
    "start_time": "2024-06-17T09:43:00.137Z"
   },
   {
    "duration": 10,
    "start_time": "2024-06-17T09:44:14.262Z"
   },
   {
    "duration": 847,
    "start_time": "2024-06-17T09:45:02.755Z"
   },
   {
    "duration": 776,
    "start_time": "2024-06-17T09:45:10.630Z"
   },
   {
    "duration": 5,
    "start_time": "2024-06-17T09:45:13.144Z"
   },
   {
    "duration": 19,
    "start_time": "2024-06-17T09:45:31.488Z"
   },
   {
    "duration": 18,
    "start_time": "2024-06-17T09:45:37.735Z"
   },
   {
    "duration": 45,
    "start_time": "2024-06-21T14:53:19.800Z"
   },
   {
    "duration": 1346,
    "start_time": "2024-06-21T14:53:24.887Z"
   },
   {
    "duration": 604,
    "start_time": "2024-06-21T14:53:26.235Z"
   },
   {
    "duration": 29,
    "start_time": "2024-06-21T14:53:26.841Z"
   },
   {
    "duration": 143,
    "start_time": "2024-06-21T14:53:29.882Z"
   },
   {
    "duration": 11,
    "start_time": "2024-06-21T14:54:20.326Z"
   },
   {
    "duration": 80,
    "start_time": "2024-06-21T14:54:42.678Z"
   },
   {
    "duration": 8,
    "start_time": "2024-06-21T14:55:15.621Z"
   },
   {
    "duration": 82,
    "start_time": "2024-06-21T14:55:16.068Z"
   },
   {
    "duration": 1287,
    "start_time": "2024-06-21T14:55:17.324Z"
   },
   {
    "duration": 14,
    "start_time": "2024-06-21T14:55:24.637Z"
   },
   {
    "duration": 88,
    "start_time": "2024-06-21T14:55:26.404Z"
   },
   {
    "duration": 13,
    "start_time": "2024-06-21T14:55:27.581Z"
   },
   {
    "duration": 18,
    "start_time": "2024-06-21T14:55:31.108Z"
   },
   {
    "duration": 9,
    "start_time": "2024-06-21T14:55:50.860Z"
   },
   {
    "duration": 18,
    "start_time": "2024-06-21T14:56:08.061Z"
   },
   {
    "duration": 17,
    "start_time": "2024-06-21T14:57:45.340Z"
   },
   {
    "duration": 10,
    "start_time": "2024-06-21T14:57:48.604Z"
   },
   {
    "duration": 11,
    "start_time": "2024-06-21T14:58:09.047Z"
   },
   {
    "duration": 5,
    "start_time": "2024-06-21T14:58:39.939Z"
   },
   {
    "duration": 39,
    "start_time": "2024-06-21T14:58:51.731Z"
   },
   {
    "duration": 12,
    "start_time": "2024-06-21T14:59:07.291Z"
   },
   {
    "duration": 11,
    "start_time": "2024-06-21T14:59:11.010Z"
   },
   {
    "duration": 13,
    "start_time": "2024-06-21T14:59:16.931Z"
   },
   {
    "duration": 10,
    "start_time": "2024-06-21T14:59:25.851Z"
   },
   {
    "duration": 10,
    "start_time": "2024-06-21T14:59:31.315Z"
   },
   {
    "duration": 21,
    "start_time": "2024-06-21T15:00:02.667Z"
   },
   {
    "duration": 4,
    "start_time": "2024-06-21T15:00:05.794Z"
   },
   {
    "duration": 3,
    "start_time": "2024-06-21T15:00:08.818Z"
   },
   {
    "duration": 4,
    "start_time": "2024-06-21T15:00:12.554Z"
   },
   {
    "duration": 4,
    "start_time": "2024-06-21T15:00:16.082Z"
   },
   {
    "duration": 3,
    "start_time": "2024-06-21T15:00:21.261Z"
   },
   {
    "duration": 10,
    "start_time": "2024-06-21T15:00:54.770Z"
   },
   {
    "duration": 8,
    "start_time": "2024-06-21T15:00:55.426Z"
   },
   {
    "duration": 7,
    "start_time": "2024-06-21T15:00:55.857Z"
   },
   {
    "duration": 7,
    "start_time": "2024-06-21T15:00:56.282Z"
   },
   {
    "duration": 7,
    "start_time": "2024-06-21T15:00:57.041Z"
   },
   {
    "duration": 193,
    "start_time": "2024-06-21T15:01:04.114Z"
   },
   {
    "duration": 3,
    "start_time": "2024-06-21T15:01:27.625Z"
   },
   {
    "duration": 140,
    "start_time": "2024-06-21T15:01:31.794Z"
   },
   {
    "duration": 41,
    "start_time": "2024-06-21T15:01:45.041Z"
   },
   {
    "duration": 23104,
    "start_time": "2024-06-21T15:04:50.839Z"
   },
   {
    "duration": 23779,
    "start_time": "2024-06-21T15:05:34.207Z"
   },
   {
    "duration": 6276,
    "start_time": "2024-06-21T15:06:25.719Z"
   },
   {
    "duration": 149,
    "start_time": "2024-06-21T15:14:46.577Z"
   },
   {
    "duration": 5779,
    "start_time": "2024-06-21T15:15:11.513Z"
   },
   {
    "duration": 23144,
    "start_time": "2024-06-21T15:15:33.640Z"
   },
   {
    "duration": 22861,
    "start_time": "2024-06-21T15:16:13.031Z"
   },
   {
    "duration": 11,
    "start_time": "2024-06-21T15:18:19.991Z"
   },
   {
    "duration": 152,
    "start_time": "2024-06-21T15:18:25.951Z"
   },
   {
    "duration": 139,
    "start_time": "2024-06-21T15:18:36.224Z"
   },
   {
    "duration": 153,
    "start_time": "2024-06-21T15:19:31.001Z"
   },
   {
    "duration": 161,
    "start_time": "2024-06-21T15:20:24.301Z"
   },
   {
    "duration": 15,
    "start_time": "2024-06-21T15:20:58.485Z"
   },
   {
    "duration": 10,
    "start_time": "2024-06-21T15:23:05.949Z"
   },
   {
    "duration": 5,
    "start_time": "2024-06-21T15:23:20.980Z"
   },
   {
    "duration": 1734,
    "start_time": "2024-06-21T15:24:02.724Z"
   },
   {
    "duration": 87,
    "start_time": "2024-06-21T15:24:29.940Z"
   },
   {
    "duration": 89,
    "start_time": "2024-06-21T15:24:45.316Z"
   },
   {
    "duration": 11,
    "start_time": "2024-06-21T15:25:56.315Z"
   },
   {
    "duration": 11,
    "start_time": "2024-06-21T15:26:04.890Z"
   },
   {
    "duration": 8,
    "start_time": "2024-06-21T15:28:14.401Z"
   },
   {
    "duration": 23,
    "start_time": "2024-06-21T15:28:14.919Z"
   },
   {
    "duration": 14,
    "start_time": "2024-06-21T15:28:15.585Z"
   },
   {
    "duration": 11,
    "start_time": "2024-06-21T15:28:18.489Z"
   },
   {
    "duration": 12,
    "start_time": "2024-06-21T15:28:23.497Z"
   },
   {
    "duration": 970,
    "start_time": "2024-06-21T15:31:51.121Z"
   },
   {
    "duration": 154,
    "start_time": "2024-06-21T15:31:58.935Z"
   },
   {
    "duration": 157,
    "start_time": "2024-06-21T15:32:11.878Z"
   },
   {
    "duration": 137,
    "start_time": "2024-06-21T15:32:17.295Z"
   },
   {
    "duration": 149,
    "start_time": "2024-06-21T15:32:24.086Z"
   },
   {
    "duration": 335,
    "start_time": "2024-06-21T15:32:50.095Z"
   },
   {
    "duration": 22,
    "start_time": "2024-06-21T15:33:02.379Z"
   },
   {
    "duration": 160,
    "start_time": "2024-06-21T15:33:05.950Z"
   },
   {
    "duration": 149,
    "start_time": "2024-06-21T15:33:08.198Z"
   },
   {
    "duration": 9,
    "start_time": "2024-06-21T15:37:38.900Z"
   },
   {
    "duration": 46,
    "start_time": "2024-06-21T15:37:42.540Z"
   },
   {
    "duration": 3,
    "start_time": "2024-06-21T15:46:36.238Z"
   },
   {
    "duration": 207,
    "start_time": "2024-06-21T15:46:36.746Z"
   },
   {
    "duration": 25,
    "start_time": "2024-06-21T15:46:37.734Z"
   },
   {
    "duration": 71,
    "start_time": "2024-06-21T15:46:38.686Z"
   },
   {
    "duration": 8,
    "start_time": "2024-06-21T15:46:46.470Z"
   },
   {
    "duration": 88,
    "start_time": "2024-06-21T15:46:50.302Z"
   },
   {
    "duration": 1260,
    "start_time": "2024-06-21T15:47:00.927Z"
   },
   {
    "duration": 7,
    "start_time": "2024-06-21T15:47:02.189Z"
   },
   {
    "duration": 63,
    "start_time": "2024-06-21T15:47:02.397Z"
   },
   {
    "duration": 12,
    "start_time": "2024-06-21T15:47:05.574Z"
   },
   {
    "duration": 76,
    "start_time": "2024-06-21T15:47:20.805Z"
   },
   {
    "duration": 44,
    "start_time": "2024-06-21T15:51:53.195Z"
   },
   {
    "duration": 33,
    "start_time": "2024-06-21T15:52:22.154Z"
   },
   {
    "duration": 43,
    "start_time": "2024-06-21T15:54:54.626Z"
   },
   {
    "duration": 43,
    "start_time": "2024-06-21T15:55:06.362Z"
   },
   {
    "duration": 84,
    "start_time": "2024-06-21T16:40:43.958Z"
   },
   {
    "duration": 59,
    "start_time": "2024-06-21T16:49:16.007Z"
   },
   {
    "duration": 10,
    "start_time": "2024-06-21T16:49:19.413Z"
   },
   {
    "duration": 6,
    "start_time": "2024-06-21T16:49:39.581Z"
   },
   {
    "duration": 9,
    "start_time": "2024-06-21T16:49:57.726Z"
   },
   {
    "duration": 7,
    "start_time": "2024-06-21T16:50:11.100Z"
   },
   {
    "duration": 8,
    "start_time": "2024-06-21T16:50:24.884Z"
   },
   {
    "duration": 5,
    "start_time": "2024-06-21T16:50:50.139Z"
   },
   {
    "duration": 9,
    "start_time": "2024-06-21T16:50:54.714Z"
   },
   {
    "duration": 7,
    "start_time": "2024-06-21T16:51:00.628Z"
   },
   {
    "duration": 77,
    "start_time": "2024-06-21T16:51:32.097Z"
   },
   {
    "duration": 9,
    "start_time": "2024-06-21T16:51:56.537Z"
   },
   {
    "duration": 145,
    "start_time": "2024-06-21T16:52:08.569Z"
   },
   {
    "duration": 161,
    "start_time": "2024-06-21T16:52:15.160Z"
   },
   {
    "duration": 13,
    "start_time": "2024-06-21T16:52:27.735Z"
   },
   {
    "duration": 67,
    "start_time": "2024-06-21T16:52:40.231Z"
   },
   {
    "duration": 54,
    "start_time": "2024-06-21T16:52:47.519Z"
   },
   {
    "duration": 51,
    "start_time": "2024-06-21T16:52:51.839Z"
   },
   {
    "duration": 194,
    "start_time": "2024-06-21T16:53:08.150Z"
   },
   {
    "duration": 37,
    "start_time": "2024-06-21T16:53:17.398Z"
   },
   {
    "duration": 44,
    "start_time": "2024-06-21T16:53:22.439Z"
   },
   {
    "duration": 6,
    "start_time": "2024-06-21T16:54:53.316Z"
   },
   {
    "duration": 233,
    "start_time": "2024-06-21T16:55:53.436Z"
   },
   {
    "duration": 78,
    "start_time": "2024-06-21T16:56:01.503Z"
   },
   {
    "duration": 307,
    "start_time": "2024-06-21T16:56:20.075Z"
   },
   {
    "duration": 67,
    "start_time": "2024-06-21T16:56:33.066Z"
   },
   {
    "duration": 66,
    "start_time": "2024-06-21T16:57:38.097Z"
   },
   {
    "duration": 30,
    "start_time": "2024-06-21T16:57:44.746Z"
   },
   {
    "duration": 506,
    "start_time": "2024-06-21T16:57:54.800Z"
   },
   {
    "duration": 432,
    "start_time": "2024-06-21T16:58:58.501Z"
   },
   {
    "duration": 208,
    "start_time": "2024-06-21T16:59:24.231Z"
   },
   {
    "duration": 132,
    "start_time": "2024-06-21T17:00:20.431Z"
   },
   {
    "duration": 94,
    "start_time": "2024-06-21T17:00:27.638Z"
   },
   {
    "duration": 522,
    "start_time": "2024-06-21T17:00:33.846Z"
   },
   {
    "duration": 487,
    "start_time": "2024-06-21T17:01:20.459Z"
   },
   {
    "duration": 44,
    "start_time": "2024-06-21T17:02:04.148Z"
   },
   {
    "duration": 19,
    "start_time": "2024-06-21T17:02:09.780Z"
   },
   {
    "duration": 5,
    "start_time": "2024-06-21T17:02:15.188Z"
   },
   {
    "duration": 4,
    "start_time": "2024-06-21T17:02:47.091Z"
   },
   {
    "duration": 52,
    "start_time": "2024-06-21T17:03:26.987Z"
   },
   {
    "duration": 62,
    "start_time": "2024-06-21T17:03:40.770Z"
   },
   {
    "duration": 5,
    "start_time": "2024-06-21T17:03:52.889Z"
   },
   {
    "duration": 7,
    "start_time": "2024-06-21T17:04:03.554Z"
   },
   {
    "duration": 5,
    "start_time": "2024-06-21T17:04:14.585Z"
   },
   {
    "duration": 6,
    "start_time": "2024-06-21T17:05:07.129Z"
   },
   {
    "duration": 5,
    "start_time": "2024-06-21T17:05:09.169Z"
   },
   {
    "duration": 8,
    "start_time": "2024-06-21T17:07:54.526Z"
   },
   {
    "duration": 14,
    "start_time": "2024-06-21T17:08:04.302Z"
   },
   {
    "duration": 15,
    "start_time": "2024-06-21T17:08:13.086Z"
   },
   {
    "duration": 3540,
    "start_time": "2024-06-21T17:08:19.190Z"
   },
   {
    "duration": 14,
    "start_time": "2024-06-21T17:08:26.710Z"
   },
   {
    "duration": 15,
    "start_time": "2024-06-21T17:08:35.109Z"
   },
   {
    "duration": 8,
    "start_time": "2024-06-21T17:08:48.477Z"
   },
   {
    "duration": 37,
    "start_time": "2024-06-21T17:09:38.276Z"
   },
   {
    "duration": 23,
    "start_time": "2024-06-21T17:10:03.037Z"
   },
   {
    "duration": 15,
    "start_time": "2024-06-21T17:10:08.547Z"
   },
   {
    "duration": 54,
    "start_time": "2024-06-21T17:10:19.420Z"
   },
   {
    "duration": 3,
    "start_time": "2024-06-21T17:10:25.827Z"
   },
   {
    "duration": 330,
    "start_time": "2024-06-21T17:10:26.099Z"
   },
   {
    "duration": 62,
    "start_time": "2024-06-21T17:10:26.430Z"
   },
   {
    "duration": 5,
    "start_time": "2024-06-21T17:10:26.620Z"
   },
   {
    "duration": 7,
    "start_time": "2024-06-21T17:10:26.811Z"
   },
   {
    "duration": 74,
    "start_time": "2024-06-21T17:10:26.963Z"
   },
   {
    "duration": 1276,
    "start_time": "2024-06-21T17:10:27.235Z"
   },
   {
    "duration": 7,
    "start_time": "2024-06-21T17:10:28.513Z"
   },
   {
    "duration": 64,
    "start_time": "2024-06-21T17:10:28.521Z"
   },
   {
    "duration": 12,
    "start_time": "2024-06-21T17:10:28.587Z"
   },
   {
    "duration": 78,
    "start_time": "2024-06-21T17:10:28.600Z"
   },
   {
    "duration": 21,
    "start_time": "2024-06-21T17:10:29.332Z"
   },
   {
    "duration": 9,
    "start_time": "2024-06-21T17:10:30.611Z"
   },
   {
    "duration": 69,
    "start_time": "2024-06-21T17:10:30.907Z"
   },
   {
    "duration": 11,
    "start_time": "2024-06-21T17:10:32.075Z"
   },
   {
    "duration": 31,
    "start_time": "2024-06-21T17:10:32.603Z"
   },
   {
    "duration": 6,
    "start_time": "2024-06-21T17:10:37.931Z"
   },
   {
    "duration": 156,
    "start_time": "2024-06-21T17:10:38.228Z"
   },
   {
    "duration": 116,
    "start_time": "2024-06-21T17:10:38.595Z"
   },
   {
    "duration": 10,
    "start_time": "2024-06-21T17:10:39.211Z"
   },
   {
    "duration": 57,
    "start_time": "2024-06-21T17:10:40.099Z"
   },
   {
    "duration": 185,
    "start_time": "2024-06-21T17:10:40.291Z"
   },
   {
    "duration": 29,
    "start_time": "2024-06-21T17:10:40.555Z"
   },
   {
    "duration": 44,
    "start_time": "2024-06-21T17:10:41.483Z"
   },
   {
    "duration": 27,
    "start_time": "2024-06-21T17:10:41.787Z"
   },
   {
    "duration": 419,
    "start_time": "2024-06-21T17:10:42.116Z"
   },
   {
    "duration": 99,
    "start_time": "2024-06-21T17:10:43.819Z"
   },
   {
    "duration": 52,
    "start_time": "2024-06-21T17:10:44.011Z"
   },
   {
    "duration": 444,
    "start_time": "2024-06-21T17:10:44.604Z"
   },
   {
    "duration": 35,
    "start_time": "2024-06-21T17:10:45.875Z"
   },
   {
    "duration": 16,
    "start_time": "2024-06-21T17:10:46.132Z"
   },
   {
    "duration": 4,
    "start_time": "2024-06-21T17:10:46.515Z"
   },
   {
    "duration": 4,
    "start_time": "2024-06-21T17:10:46.843Z"
   },
   {
    "duration": 50,
    "start_time": "2024-06-21T17:10:48.010Z"
   },
   {
    "duration": 4,
    "start_time": "2024-06-21T17:10:49.299Z"
   },
   {
    "duration": 7,
    "start_time": "2024-06-21T17:10:49.540Z"
   },
   {
    "duration": 5,
    "start_time": "2024-06-21T17:10:49.971Z"
   },
   {
    "duration": 5,
    "start_time": "2024-06-21T17:11:40.643Z"
   },
   {
    "duration": 118,
    "start_time": "2024-06-23T10:24:18.242Z"
   },
   {
    "duration": 47,
    "start_time": "2024-06-23T10:28:29.483Z"
   },
   {
    "duration": 1538,
    "start_time": "2024-06-23T10:28:35.938Z"
   },
   {
    "duration": 804,
    "start_time": "2024-06-23T10:28:37.478Z"
   },
   {
    "duration": 67,
    "start_time": "2024-06-23T10:28:38.284Z"
   },
   {
    "duration": 6,
    "start_time": "2024-06-23T10:28:40.506Z"
   },
   {
    "duration": 67,
    "start_time": "2024-06-23T10:28:41.650Z"
   },
   {
    "duration": 5,
    "start_time": "2024-06-23T10:29:23.026Z"
   },
   {
    "duration": 5,
    "start_time": "2024-06-23T10:29:32.674Z"
   },
   {
    "duration": 11,
    "start_time": "2024-06-23T10:30:24.056Z"
   },
   {
    "duration": 9,
    "start_time": "2024-06-23T10:30:52.433Z"
   },
   {
    "duration": 10,
    "start_time": "2024-06-23T10:31:01.953Z"
   },
   {
    "duration": 6,
    "start_time": "2024-06-23T10:31:37.449Z"
   },
   {
    "duration": 8,
    "start_time": "2024-06-23T10:31:40.441Z"
   },
   {
    "duration": 6,
    "start_time": "2024-06-23T10:31:48.761Z"
   },
   {
    "duration": 6,
    "start_time": "2024-06-23T10:31:51.840Z"
   },
   {
    "duration": 10,
    "start_time": "2024-06-23T10:31:54.888Z"
   },
   {
    "duration": 13,
    "start_time": "2024-06-23T10:39:46.749Z"
   },
   {
    "duration": 4,
    "start_time": "2024-06-23T10:40:15.012Z"
   },
   {
    "duration": 374,
    "start_time": "2024-06-23T10:40:15.328Z"
   },
   {
    "duration": 85,
    "start_time": "2024-06-23T10:40:17.260Z"
   },
   {
    "duration": 6,
    "start_time": "2024-06-23T10:40:26.099Z"
   },
   {
    "duration": 6,
    "start_time": "2024-06-23T10:40:27.668Z"
   },
   {
    "duration": 14,
    "start_time": "2024-06-23T10:40:45.308Z"
   },
   {
    "duration": 7,
    "start_time": "2024-06-23T10:43:36.970Z"
   },
   {
    "duration": 9,
    "start_time": "2024-06-23T10:43:49.850Z"
   },
   {
    "duration": 15,
    "start_time": "2024-06-23T10:44:09.650Z"
   },
   {
    "duration": 11,
    "start_time": "2024-06-23T10:44:23.258Z"
   },
   {
    "duration": 7,
    "start_time": "2024-06-23T10:44:33.767Z"
   },
   {
    "duration": 6,
    "start_time": "2024-06-23T10:45:05.618Z"
   },
   {
    "duration": 12,
    "start_time": "2024-06-23T10:45:13.794Z"
   },
   {
    "duration": 8,
    "start_time": "2024-06-23T10:45:23.738Z"
   },
   {
    "duration": 8,
    "start_time": "2024-06-23T10:45:34.529Z"
   },
   {
    "duration": 9,
    "start_time": "2024-06-23T10:45:40.977Z"
   },
   {
    "duration": 7,
    "start_time": "2024-06-23T10:45:56.689Z"
   },
   {
    "duration": 11,
    "start_time": "2024-06-23T10:46:18.177Z"
   },
   {
    "duration": 12,
    "start_time": "2024-06-23T10:46:31.593Z"
   },
   {
    "duration": 7,
    "start_time": "2024-06-23T10:47:18.576Z"
   },
   {
    "duration": 11,
    "start_time": "2024-06-23T10:47:21.169Z"
   },
   {
    "duration": 11,
    "start_time": "2024-06-23T10:47:31.305Z"
   },
   {
    "duration": 14,
    "start_time": "2024-06-23T10:48:26.872Z"
   },
   {
    "duration": 6,
    "start_time": "2024-06-23T10:48:30.392Z"
   },
   {
    "duration": 7,
    "start_time": "2024-06-23T10:48:32.096Z"
   },
   {
    "duration": 11,
    "start_time": "2024-06-23T10:49:32.424Z"
   },
   {
    "duration": 8,
    "start_time": "2024-06-23T10:49:41.655Z"
   },
   {
    "duration": 9,
    "start_time": "2024-06-23T10:49:52.391Z"
   },
   {
    "duration": 7,
    "start_time": "2024-06-23T10:49:56.255Z"
   },
   {
    "duration": 8,
    "start_time": "2024-06-23T10:49:59.912Z"
   },
   {
    "duration": 8,
    "start_time": "2024-06-23T10:53:08.477Z"
   },
   {
    "duration": 7,
    "start_time": "2024-06-23T10:53:19.314Z"
   },
   {
    "duration": 9,
    "start_time": "2024-06-23T10:53:29.174Z"
   },
   {
    "duration": 6,
    "start_time": "2024-06-23T10:53:35.517Z"
   },
   {
    "duration": 1354,
    "start_time": "2024-06-23T10:57:46.372Z"
   },
   {
    "duration": 8,
    "start_time": "2024-06-23T10:58:59.746Z"
   },
   {
    "duration": 97,
    "start_time": "2024-06-23T10:59:00.851Z"
   },
   {
    "duration": 16,
    "start_time": "2024-06-23T10:59:03.217Z"
   },
   {
    "duration": 88,
    "start_time": "2024-06-23T10:59:04.426Z"
   },
   {
    "duration": 21,
    "start_time": "2024-06-23T10:59:06.571Z"
   },
   {
    "duration": 6,
    "start_time": "2024-06-23T10:59:07.242Z"
   },
   {
    "duration": 97,
    "start_time": "2024-06-23T10:59:07.850Z"
   },
   {
    "duration": 11,
    "start_time": "2024-06-23T10:59:09.722Z"
   },
   {
    "duration": 52,
    "start_time": "2024-06-23T10:59:11.450Z"
   },
   {
    "duration": 13,
    "start_time": "2024-06-23T10:59:17.713Z"
   },
   {
    "duration": 148,
    "start_time": "2024-06-23T10:59:18.074Z"
   },
   {
    "duration": 151,
    "start_time": "2024-06-23T10:59:18.842Z"
   },
   {
    "duration": 12,
    "start_time": "2024-06-23T10:59:21.595Z"
   },
   {
    "duration": 25,
    "start_time": "2024-06-23T11:00:41.897Z"
   },
   {
    "duration": 143,
    "start_time": "2024-06-23T11:00:42.393Z"
   },
   {
    "duration": 138,
    "start_time": "2024-06-23T11:00:43.001Z"
   },
   {
    "duration": 13,
    "start_time": "2024-06-23T11:00:45.018Z"
   },
   {
    "duration": 3,
    "start_time": "2024-06-23T11:05:26.834Z"
   },
   {
    "duration": 39,
    "start_time": "2024-06-23T11:05:38.207Z"
   },
   {
    "duration": 62,
    "start_time": "2024-06-23T11:06:19.838Z"
   },
   {
    "duration": 36,
    "start_time": "2024-06-23T11:06:59.509Z"
   },
   {
    "duration": 12,
    "start_time": "2024-06-23T11:15:12.097Z"
   },
   {
    "duration": 9,
    "start_time": "2024-06-23T11:15:17.721Z"
   },
   {
    "duration": 10,
    "start_time": "2024-06-23T11:15:23.472Z"
   },
   {
    "duration": 12,
    "start_time": "2024-06-23T11:15:33.409Z"
   },
   {
    "duration": 34,
    "start_time": "2024-06-23T11:16:34.649Z"
   },
   {
    "duration": 4,
    "start_time": "2024-06-23T11:16:42.056Z"
   },
   {
    "duration": 55,
    "start_time": "2024-06-23T11:17:04.361Z"
   },
   {
    "duration": 78,
    "start_time": "2024-06-23T11:17:29.103Z"
   },
   {
    "duration": 34,
    "start_time": "2024-06-23T11:17:39.384Z"
   },
   {
    "duration": 99,
    "start_time": "2024-06-23T11:24:56.724Z"
   },
   {
    "duration": 51,
    "start_time": "2024-06-24T12:30:00.209Z"
   },
   {
    "duration": 1533,
    "start_time": "2024-06-24T12:31:53.526Z"
   },
   {
    "duration": 1072,
    "start_time": "2024-06-24T12:31:55.062Z"
   },
   {
    "duration": 102,
    "start_time": "2024-06-24T12:31:56.135Z"
   },
   {
    "duration": 123,
    "start_time": "2024-06-24T12:31:58.952Z"
   },
   {
    "duration": 1442,
    "start_time": "2024-06-24T12:32:00.365Z"
   },
   {
    "duration": 15,
    "start_time": "2024-06-24T12:32:04.123Z"
   },
   {
    "duration": 110,
    "start_time": "2024-06-24T12:32:04.443Z"
   },
   {
    "duration": 14,
    "start_time": "2024-06-24T12:32:05.816Z"
   },
   {
    "duration": 87,
    "start_time": "2024-06-24T12:32:07.373Z"
   },
   {
    "duration": 20,
    "start_time": "2024-06-24T12:32:07.915Z"
   },
   {
    "duration": 6,
    "start_time": "2024-06-24T12:32:09.519Z"
   },
   {
    "duration": 93,
    "start_time": "2024-06-24T12:32:11.169Z"
   },
   {
    "duration": 10,
    "start_time": "2024-06-24T12:32:14.203Z"
   },
   {
    "duration": 42,
    "start_time": "2024-06-24T12:32:14.667Z"
   },
   {
    "duration": 7,
    "start_time": "2024-06-24T12:32:19.294Z"
   },
   {
    "duration": 15,
    "start_time": "2024-06-24T12:32:20.698Z"
   },
   {
    "duration": 13,
    "start_time": "2024-06-24T12:32:21.049Z"
   },
   {
    "duration": 6,
    "start_time": "2024-06-24T12:32:23.170Z"
   },
   {
    "duration": 6,
    "start_time": "2024-06-24T12:32:24.930Z"
   },
   {
    "duration": 6,
    "start_time": "2024-06-24T12:32:26.215Z"
   },
   {
    "duration": 13,
    "start_time": "2024-06-24T12:32:38.816Z"
   },
   {
    "duration": 6,
    "start_time": "2024-06-24T12:32:49.429Z"
   },
   {
    "duration": 6,
    "start_time": "2024-06-24T12:32:50.048Z"
   },
   {
    "duration": 6,
    "start_time": "2024-06-24T12:33:02.046Z"
   },
   {
    "duration": 6,
    "start_time": "2024-06-24T12:33:03.960Z"
   },
   {
    "duration": 6,
    "start_time": "2024-06-24T12:33:04.531Z"
   },
   {
    "duration": 11,
    "start_time": "2024-06-24T12:33:58.315Z"
   },
   {
    "duration": 160,
    "start_time": "2024-06-24T12:33:59.055Z"
   },
   {
    "duration": 140,
    "start_time": "2024-06-24T12:34:00.775Z"
   },
   {
    "duration": 13,
    "start_time": "2024-06-24T12:34:01.990Z"
   },
   {
    "duration": 3,
    "start_time": "2024-06-24T12:34:09.336Z"
   },
   {
    "duration": 38,
    "start_time": "2024-06-24T12:34:09.817Z"
   },
   {
    "duration": 60,
    "start_time": "2024-06-24T12:34:11.880Z"
   },
   {
    "duration": 233,
    "start_time": "2024-06-24T12:34:16.576Z"
   },
   {
    "duration": 32,
    "start_time": "2024-06-24T12:34:18.450Z"
   },
   {
    "duration": 41,
    "start_time": "2024-06-24T12:34:18.947Z"
   },
   {
    "duration": 20,
    "start_time": "2024-06-24T12:37:33.385Z"
   },
   {
    "duration": 14,
    "start_time": "2024-06-24T12:37:36.296Z"
   },
   {
    "duration": 78,
    "start_time": "2024-06-24T12:37:36.534Z"
   },
   {
    "duration": 14,
    "start_time": "2024-06-24T12:37:38.226Z"
   },
   {
    "duration": 80,
    "start_time": "2024-06-24T12:37:39.001Z"
   },
   {
    "duration": 18,
    "start_time": "2024-06-24T12:37:40.484Z"
   },
   {
    "duration": 8,
    "start_time": "2024-06-24T12:37:48.490Z"
   },
   {
    "duration": 89,
    "start_time": "2024-06-24T12:37:48.806Z"
   },
   {
    "duration": 11,
    "start_time": "2024-06-24T12:37:50.121Z"
   },
   {
    "duration": 48,
    "start_time": "2024-06-24T12:37:50.337Z"
   },
   {
    "duration": 6,
    "start_time": "2024-06-24T12:38:00.150Z"
   },
   {
    "duration": 10,
    "start_time": "2024-06-24T12:38:00.859Z"
   },
   {
    "duration": 6,
    "start_time": "2024-06-24T12:38:02.379Z"
   },
   {
    "duration": 7,
    "start_time": "2024-06-24T12:38:05.416Z"
   },
   {
    "duration": 7,
    "start_time": "2024-06-24T12:38:06.074Z"
   },
   {
    "duration": 11,
    "start_time": "2024-06-24T12:38:39.105Z"
   },
   {
    "duration": 6,
    "start_time": "2024-06-24T12:39:52.857Z"
   },
   {
    "duration": 106,
    "start_time": "2024-06-24T12:39:56.292Z"
   },
   {
    "duration": 116,
    "start_time": "2024-06-24T12:40:51.577Z"
   },
   {
    "duration": 52,
    "start_time": "2024-06-24T12:41:01.883Z"
   },
   {
    "duration": 82,
    "start_time": "2024-06-24T12:41:06.137Z"
   },
   {
    "duration": 14,
    "start_time": "2024-06-24T12:43:32.098Z"
   },
   {
    "duration": 8,
    "start_time": "2024-06-24T12:43:49.482Z"
   },
   {
    "duration": 165,
    "start_time": "2024-06-24T12:43:50.021Z"
   },
   {
    "duration": 176,
    "start_time": "2024-06-24T12:43:51.632Z"
   },
   {
    "duration": 12,
    "start_time": "2024-06-24T12:43:53.089Z"
   },
   {
    "duration": 2752,
    "start_time": "2024-06-24T12:44:01.594Z"
   },
   {
    "duration": 1873,
    "start_time": "2024-06-24T12:44:14.489Z"
   },
   {
    "duration": 1891,
    "start_time": "2024-06-24T12:45:29.978Z"
   },
   {
    "duration": 739,
    "start_time": "2024-06-24T12:48:55.489Z"
   },
   {
    "duration": 45,
    "start_time": "2024-06-24T12:49:10.785Z"
   },
   {
    "duration": 1928,
    "start_time": "2024-06-24T12:50:00.605Z"
   },
   {
    "duration": 1858,
    "start_time": "2024-06-24T12:50:10.219Z"
   },
   {
    "duration": 3,
    "start_time": "2024-06-24T12:52:37.096Z"
   },
   {
    "duration": 46,
    "start_time": "2024-06-24T12:52:37.864Z"
   },
   {
    "duration": 57,
    "start_time": "2024-06-24T12:52:56.247Z"
   },
   {
    "duration": 293,
    "start_time": "2024-06-24T12:53:26.585Z"
   },
   {
    "duration": 66,
    "start_time": "2024-06-24T12:53:42.218Z"
   },
   {
    "duration": 75,
    "start_time": "2024-06-24T12:54:04.341Z"
   },
   {
    "duration": 65,
    "start_time": "2024-06-24T12:54:25.092Z"
   },
   {
    "duration": 35,
    "start_time": "2024-06-24T12:54:28.140Z"
   },
   {
    "duration": 525,
    "start_time": "2024-06-24T12:54:28.935Z"
   },
   {
    "duration": 32,
    "start_time": "2024-06-24T12:58:20.891Z"
   },
   {
    "duration": 299,
    "start_time": "2024-06-24T12:58:21.858Z"
   },
   {
    "duration": 266,
    "start_time": "2024-06-24T13:00:02.371Z"
   },
   {
    "duration": 34,
    "start_time": "2024-06-24T13:01:00.389Z"
   },
   {
    "duration": 245,
    "start_time": "2024-06-24T13:01:01.920Z"
   },
   {
    "duration": 33,
    "start_time": "2024-06-24T13:02:21.363Z"
   },
   {
    "duration": 468,
    "start_time": "2024-06-24T13:02:43.595Z"
   },
   {
    "duration": 13,
    "start_time": "2024-06-24T13:06:14.984Z"
   },
   {
    "duration": 35,
    "start_time": "2024-06-24T13:08:11.472Z"
   },
   {
    "duration": 41,
    "start_time": "2024-06-24T13:08:26.319Z"
   },
   {
    "duration": 34,
    "start_time": "2024-06-24T13:10:15.516Z"
   },
   {
    "duration": 471,
    "start_time": "2024-06-24T13:10:15.994Z"
   },
   {
    "duration": 20,
    "start_time": "2024-06-24T13:12:35.844Z"
   },
   {
    "duration": 13,
    "start_time": "2024-06-24T13:12:41.277Z"
   },
   {
    "duration": 444,
    "start_time": "2024-06-24T13:12:43.300Z"
   },
   {
    "duration": 37,
    "start_time": "2024-06-24T13:31:35.673Z"
   },
   {
    "duration": 13,
    "start_time": "2024-06-24T13:31:36.563Z"
   },
   {
    "duration": 11,
    "start_time": "2024-06-24T13:31:40.538Z"
   },
   {
    "duration": 11,
    "start_time": "2024-06-24T13:31:55.982Z"
   },
   {
    "duration": 138,
    "start_time": "2024-06-24T13:36:06.250Z"
   },
   {
    "duration": 14,
    "start_time": "2024-06-24T13:36:07.033Z"
   },
   {
    "duration": 4,
    "start_time": "2024-06-24T13:36:08.314Z"
   },
   {
    "duration": 2,
    "start_time": "2024-06-24T13:36:09.347Z"
   },
   {
    "duration": 132,
    "start_time": "2024-06-24T13:37:05.897Z"
   },
   {
    "duration": 26,
    "start_time": "2024-06-24T13:37:22.034Z"
   },
   {
    "duration": 4,
    "start_time": "2024-06-24T13:37:43.098Z"
   },
   {
    "duration": 4,
    "start_time": "2024-06-24T13:37:48.890Z"
   },
   {
    "duration": 5,
    "start_time": "2024-06-24T13:37:52.352Z"
   },
   {
    "duration": 3,
    "start_time": "2024-06-24T13:38:03.769Z"
   },
   {
    "duration": 4,
    "start_time": "2024-06-24T13:38:15.190Z"
   },
   {
    "duration": 4,
    "start_time": "2024-06-24T13:38:54.399Z"
   },
   {
    "duration": 4261,
    "start_time": "2024-06-24T13:48:55.066Z"
   },
   {
    "duration": 8,
    "start_time": "2024-06-24T13:49:03.839Z"
   },
   {
    "duration": 5,
    "start_time": "2024-06-24T13:49:14.240Z"
   },
   {
    "duration": 14,
    "start_time": "2024-06-24T13:49:43.040Z"
   },
   {
    "duration": 11,
    "start_time": "2024-06-24T13:49:51.548Z"
   },
   {
    "duration": 6,
    "start_time": "2024-06-24T13:50:07.727Z"
   },
   {
    "duration": 5,
    "start_time": "2024-06-24T13:50:13.659Z"
   },
   {
    "duration": 4169,
    "start_time": "2024-06-24T13:55:55.166Z"
   },
   {
    "duration": 10,
    "start_time": "2024-06-24T13:56:01.870Z"
   },
   {
    "duration": 4,
    "start_time": "2024-06-24T13:56:09.180Z"
   },
   {
    "duration": 22,
    "start_time": "2024-06-24T13:56:16.859Z"
   },
   {
    "duration": 9,
    "start_time": "2024-06-24T13:56:25.259Z"
   },
   {
    "duration": 10,
    "start_time": "2024-06-24T13:58:06.229Z"
   },
   {
    "duration": 33,
    "start_time": "2024-06-24T13:58:08.476Z"
   },
   {
    "duration": 666,
    "start_time": "2024-06-24T16:20:09.820Z"
   },
   {
    "duration": 659,
    "start_time": "2024-06-24T16:20:20.010Z"
   },
   {
    "duration": 945,
    "start_time": "2024-06-24T16:20:20.706Z"
   },
   {
    "duration": 71,
    "start_time": "2024-06-24T16:20:21.653Z"
   },
   {
    "duration": 98,
    "start_time": "2024-06-24T16:20:24.482Z"
   },
   {
    "duration": 111,
    "start_time": "2024-06-24T16:20:28.489Z"
   },
   {
    "duration": 12,
    "start_time": "2024-06-24T16:20:30.313Z"
   },
   {
    "duration": 84,
    "start_time": "2024-06-24T16:20:30.666Z"
   },
   {
    "duration": 12,
    "start_time": "2024-06-24T16:20:31.945Z"
   },
   {
    "duration": 70,
    "start_time": "2024-06-24T16:20:34.123Z"
   },
   {
    "duration": 17,
    "start_time": "2024-06-24T16:20:34.826Z"
   },
   {
    "duration": 7,
    "start_time": "2024-06-24T16:20:35.873Z"
   },
   {
    "duration": 92,
    "start_time": "2024-06-24T16:20:42.376Z"
   },
   {
    "duration": 7,
    "start_time": "2024-06-24T16:20:57.305Z"
   },
   {
    "duration": 8,
    "start_time": "2024-06-24T16:20:57.993Z"
   },
   {
    "duration": 6,
    "start_time": "2024-06-24T16:21:33.917Z"
   },
   {
    "duration": 9,
    "start_time": "2024-06-24T16:21:34.649Z"
   },
   {
    "duration": 5,
    "start_time": "2024-06-24T16:21:35.425Z"
   },
   {
    "duration": 4,
    "start_time": "2024-06-24T16:21:38.713Z"
   },
   {
    "duration": 5,
    "start_time": "2024-06-24T16:21:39.664Z"
   },
   {
    "duration": 81,
    "start_time": "2024-06-24T16:21:40.505Z"
   },
   {
    "duration": 26,
    "start_time": "2024-06-24T16:21:42.232Z"
   },
   {
    "duration": 5,
    "start_time": "2024-06-24T16:21:43.256Z"
   },
   {
    "duration": 6,
    "start_time": "2024-06-24T16:21:46.536Z"
   },
   {
    "duration": 130,
    "start_time": "2024-06-24T16:21:46.856Z"
   },
   {
    "duration": 118,
    "start_time": "2024-06-24T16:21:47.498Z"
   },
   {
    "duration": 10,
    "start_time": "2024-06-24T16:21:50.705Z"
   },
   {
    "duration": 1275,
    "start_time": "2024-06-24T16:21:51.505Z"
   },
   {
    "duration": 27,
    "start_time": "2024-06-24T16:21:53.598Z"
   },
   {
    "duration": 1355,
    "start_time": "2024-06-24T16:21:54.417Z"
   },
   {
    "duration": 2,
    "start_time": "2024-06-24T16:21:58.321Z"
   },
   {
    "duration": 31,
    "start_time": "2024-06-24T16:21:59.392Z"
   },
   {
    "duration": 41,
    "start_time": "2024-06-24T16:22:01.776Z"
   },
   {
    "duration": 210,
    "start_time": "2024-06-24T16:22:04.681Z"
   },
   {
    "duration": 38,
    "start_time": "2024-06-24T16:22:05.497Z"
   },
   {
    "duration": 35,
    "start_time": "2024-06-24T16:22:06.337Z"
   },
   {
    "duration": 25,
    "start_time": "2024-06-24T16:22:09.816Z"
   },
   {
    "duration": 13,
    "start_time": "2024-06-24T16:22:10.464Z"
   },
   {
    "duration": 23,
    "start_time": "2024-06-24T16:23:45.992Z"
   },
   {
    "duration": 28,
    "start_time": "2024-06-24T16:23:46.489Z"
   },
   {
    "duration": 493,
    "start_time": "2024-06-24T16:23:48.303Z"
   },
   {
    "duration": 9,
    "start_time": "2024-06-24T16:23:53.792Z"
   },
   {
    "duration": 375,
    "start_time": "2024-06-24T16:23:55.448Z"
   },
   {
    "duration": 69,
    "start_time": "2024-06-24T16:23:59.807Z"
   },
   {
    "duration": 57,
    "start_time": "2024-06-24T16:24:00.568Z"
   },
   {
    "duration": 599,
    "start_time": "2024-06-24T16:24:02.119Z"
   },
   {
    "duration": 92,
    "start_time": "2024-06-24T16:24:06.944Z"
   },
   {
    "duration": 18,
    "start_time": "2024-06-24T16:24:08.535Z"
   },
   {
    "duration": 3,
    "start_time": "2024-06-24T16:24:10.113Z"
   },
   {
    "duration": 4,
    "start_time": "2024-06-24T16:24:10.783Z"
   },
   {
    "duration": 38,
    "start_time": "2024-06-24T16:24:13.375Z"
   },
   {
    "duration": 4,
    "start_time": "2024-06-24T16:24:15.751Z"
   },
   {
    "duration": 5,
    "start_time": "2024-06-24T16:24:16.296Z"
   },
   {
    "duration": 5,
    "start_time": "2024-06-24T16:24:16.831Z"
   },
   {
    "duration": 4,
    "start_time": "2024-06-24T16:24:32.736Z"
   },
   {
    "duration": 4,
    "start_time": "2024-06-24T16:24:42.720Z"
   },
   {
    "duration": 3052,
    "start_time": "2024-06-24T16:24:46.160Z"
   },
   {
    "duration": 6,
    "start_time": "2024-06-24T16:24:51.799Z"
   },
   {
    "duration": 4,
    "start_time": "2024-06-24T16:24:52.510Z"
   },
   {
    "duration": 17,
    "start_time": "2024-06-24T16:24:53.287Z"
   },
   {
    "duration": 8,
    "start_time": "2024-06-24T16:24:54.630Z"
   },
   {
    "duration": 6,
    "start_time": "2024-06-24T16:24:55.367Z"
   },
   {
    "duration": 31,
    "start_time": "2024-06-24T16:24:56.224Z"
   },
   {
    "duration": 2,
    "start_time": "2024-06-24T16:25:01.135Z"
   },
   {
    "duration": 7,
    "start_time": "2024-06-24T16:25:31.399Z"
   },
   {
    "duration": 11,
    "start_time": "2024-06-24T16:25:51.434Z"
   },
   {
    "duration": 20,
    "start_time": "2024-06-24T16:25:52.255Z"
   },
   {
    "duration": 13,
    "start_time": "2024-06-24T16:26:03.527Z"
   },
   {
    "duration": 14,
    "start_time": "2024-06-24T16:32:33.597Z"
   },
   {
    "duration": 16,
    "start_time": "2024-06-24T16:32:34.179Z"
   },
   {
    "duration": 13,
    "start_time": "2024-06-24T16:32:34.779Z"
   },
   {
    "duration": 7,
    "start_time": "2024-06-24T16:32:52.012Z"
   },
   {
    "duration": 24,
    "start_time": "2024-06-24T16:33:13.762Z"
   },
   {
    "duration": 5,
    "start_time": "2024-06-24T16:33:15.498Z"
   },
   {
    "duration": 4,
    "start_time": "2024-06-24T16:33:25.122Z"
   },
   {
    "duration": 2,
    "start_time": "2024-06-24T16:33:31.379Z"
   },
   {
    "duration": 4,
    "start_time": "2024-06-24T16:33:43.842Z"
   },
   {
    "duration": 8,
    "start_time": "2024-06-24T16:34:00.210Z"
   },
   {
    "duration": 56,
    "start_time": "2024-06-24T16:34:18.353Z"
   },
   {
    "duration": 8,
    "start_time": "2024-06-24T16:34:21.873Z"
   },
   {
    "duration": 9,
    "start_time": "2024-06-24T16:34:54.178Z"
   },
   {
    "duration": 14,
    "start_time": "2024-06-24T16:34:55.570Z"
   },
   {
    "duration": 23,
    "start_time": "2024-06-24T16:34:55.811Z"
   },
   {
    "duration": 4,
    "start_time": "2024-06-24T16:34:56.025Z"
   },
   {
    "duration": 4,
    "start_time": "2024-06-24T16:34:56.306Z"
   },
   {
    "duration": 3,
    "start_time": "2024-06-24T16:34:56.609Z"
   },
   {
    "duration": 3,
    "start_time": "2024-06-24T16:34:56.945Z"
   },
   {
    "duration": 8,
    "start_time": "2024-06-24T16:34:57.402Z"
   },
   {
    "duration": 2,
    "start_time": "2024-06-24T16:36:44.301Z"
   },
   {
    "duration": 7,
    "start_time": "2024-06-24T16:36:47.056Z"
   },
   {
    "duration": 4,
    "start_time": "2024-06-24T16:37:00.265Z"
   },
   {
    "duration": 6,
    "start_time": "2024-06-24T16:42:31.077Z"
   },
   {
    "duration": 3,
    "start_time": "2024-06-24T16:42:40.701Z"
   },
   {
    "duration": 6,
    "start_time": "2024-06-24T16:42:49.941Z"
   },
   {
    "duration": 2,
    "start_time": "2024-06-24T16:42:57.421Z"
   },
   {
    "duration": 12,
    "start_time": "2024-06-24T16:46:31.467Z"
   },
   {
    "duration": 5,
    "start_time": "2024-06-24T16:46:46.849Z"
   },
   {
    "duration": 9,
    "start_time": "2024-06-24T16:46:49.450Z"
   },
   {
    "duration": 2,
    "start_time": "2024-06-24T16:47:10.099Z"
   },
   {
    "duration": 6,
    "start_time": "2024-06-24T16:47:10.659Z"
   },
   {
    "duration": 20,
    "start_time": "2024-06-24T16:47:11.613Z"
   },
   {
    "duration": 3,
    "start_time": "2024-06-24T16:47:23.099Z"
   },
   {
    "duration": 7,
    "start_time": "2024-06-24T16:55:31.576Z"
   },
   {
    "duration": 22,
    "start_time": "2024-06-24T16:55:40.023Z"
   },
   {
    "duration": 63,
    "start_time": "2024-06-24T16:55:46.880Z"
   },
   {
    "duration": 3,
    "start_time": "2024-06-24T16:55:53.703Z"
   },
   {
    "duration": 3,
    "start_time": "2024-06-24T16:57:55.230Z"
   },
   {
    "duration": 5,
    "start_time": "2024-06-24T16:57:57.609Z"
   },
   {
    "duration": 123,
    "start_time": "2024-06-24T16:58:07.383Z"
   },
   {
    "duration": 119,
    "start_time": "2024-06-24T16:58:30.030Z"
   },
   {
    "duration": 7,
    "start_time": "2024-06-24T16:58:38.270Z"
   },
   {
    "duration": 11,
    "start_time": "2024-06-24T16:59:53.237Z"
   },
   {
    "duration": 7,
    "start_time": "2024-06-24T17:00:00.358Z"
   },
   {
    "duration": 12900,
    "start_time": "2024-06-24T17:36:49.849Z"
   },
   {
    "duration": 8,
    "start_time": "2024-06-24T17:37:02.751Z"
   },
   {
    "duration": 8,
    "start_time": "2024-06-24T17:37:15.256Z"
   }
  ],
  "kernelspec": {
   "display_name": "Python 3 (ipykernel)",
   "language": "python",
   "name": "python3"
  },
  "language_info": {
   "codemirror_mode": {
    "name": "ipython",
    "version": 3
   },
   "file_extension": ".py",
   "mimetype": "text/x-python",
   "name": "python",
   "nbconvert_exporter": "python",
   "pygments_lexer": "ipython3",
   "version": "3.9.5"
  },
  "toc": {
   "base_numbering": 1,
   "nav_menu": {},
   "number_sections": true,
   "sideBar": true,
   "skip_h1_title": true,
   "title_cell": "Table of Contents",
   "title_sidebar": "Contents",
   "toc_cell": false,
   "toc_position": {},
   "toc_section_display": true,
   "toc_window_display": false
  }
 },
 "nbformat": 4,
 "nbformat_minor": 2
}
